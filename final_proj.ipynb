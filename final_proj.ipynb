{
  "cells": [
    {
      "cell_type": "markdown",
      "metadata": {
        "id": "7mJFBAN6ggLr"
      },
      "source": [
        "# Prepare Spark"
      ]
    },
    {
      "cell_type": "markdown",
      "metadata": {
        "id": "JrTKVuYMrWtp"
      },
      "source": [
        "Upload the fraud data to google colab and then use the command below to unzip"
      ]
    },
    {
      "cell_type": "code",
      "execution_count": null,
      "metadata": {
        "colab": {
          "base_uri": "https://localhost:8080/"
        },
        "id": "ns_DGAGBWkBp",
        "outputId": "a12c9e30-9e87-4502-e05c-9a81a5a8cdd9"
      },
      "outputs": [
        {
          "output_type": "stream",
          "name": "stdout",
          "text": [
            "Archive:  fraud test.csv.zip\n",
            "  inflating: fraud test.csv          \n"
          ]
        }
      ],
      "source": [
        "!unzip fraud\\ test.csv.zip"
      ]
    },
    {
      "cell_type": "markdown",
      "metadata": {
        "id": "UOzitL1hre3Z"
      },
      "source": [
        "Install Spark"
      ]
    },
    {
      "cell_type": "code",
      "execution_count": null,
      "metadata": {
        "id": "80HeWFMEp62t"
      },
      "outputs": [],
      "source": [
        "!apt-get update -qq > /dev/null\n",
        "!apt-get install openjdk-8-jdk-headless -qq > /dev/null\n",
        "!wget -q https://dlcdn.apache.org/spark/spark-3.4.2/spark-3.4.2-bin-hadoop3.tgz\n",
        "!tar xf spark-3.4.2-bin-hadoop3.tgz\n",
        "!pip install -q findspark"
      ]
    },
    {
      "cell_type": "markdown",
      "metadata": {
        "id": "w3gY0Zvms_Je"
      },
      "source": [
        "After installing spark and java, set the environment path to run pyspark in colab environment"
      ]
    },
    {
      "cell_type": "code",
      "execution_count": null,
      "metadata": {
        "id": "E2MX7fKpvPVs"
      },
      "outputs": [],
      "source": [
        "import os\n",
        "os.environ[\"JAVA_HOME\"] = \"/usr/lib/jvm/java-8-openjdk-amd64\"\n",
        "os.environ[\"SPARK_HOME\"] = \"/content/spark-3.4.2-bin-hadoop3\""
      ]
    },
    {
      "cell_type": "markdown",
      "metadata": {
        "id": "rNzUjboWyJuP"
      },
      "source": [
        "Then start a spark session since we want to use spark SQL and data frames to preprocess the data and for visualization"
      ]
    },
    {
      "cell_type": "code",
      "execution_count": null,
      "metadata": {
        "id": "aFMRz4VyyLNB"
      },
      "outputs": [],
      "source": [
        "import findspark\n",
        "findspark.init()\n",
        "\n",
        "from pyspark.sql import SparkSession\n",
        "import random\n",
        "\n",
        "spark = SparkSession.builder.appName(\"YourTest\").master(\"local[2]\").config('spark.ui.port', random.randrange(4000,5000)).getOrCreate()"
      ]
    },
    {
      "cell_type": "markdown",
      "metadata": {
        "id": "d0lwTrieWKex"
      },
      "source": [
        "# Data Preprocessing and Visualization"
      ]
    },
    {
      "cell_type": "markdown",
      "metadata": {
        "id": "ytR77JsKC6Oy"
      },
      "source": [
        "## Preprocess the Data"
      ]
    },
    {
      "cell_type": "markdown",
      "metadata": {
        "id": "RJHc4vfG7DyA"
      },
      "source": [
        "Read the data to a spark data frame and modify column names. Also check the schema."
      ]
    },
    {
      "cell_type": "code",
      "execution_count": null,
      "metadata": {
        "colab": {
          "base_uri": "https://localhost:8080/"
        },
        "id": "uNv09XsO8NOi",
        "outputId": "e751f001-5454-4ac6-b591-9f05ec0b5538"
      },
      "outputs": [
        {
          "output_type": "stream",
          "name": "stdout",
          "text": [
            "+-----------+---------------------+----------+--------------------+--------------+------+---------+--------+------+--------------------+-------------+-----+-----+-------+---------+--------+--------------------+----------+--------------------+----------+---------+-----------+--------+\n",
            "|instance_id|trans_date_trans_time|   cust_id|            merchant|      category|   amt|    first|    last|gender|              street|         city|state|  zip|    lat|     long|city_pop|                 job|       dob|            trans_id| unix_time|merch_lat| merch_long|is_fraud|\n",
            "+-----------+---------------------+----------+--------------------+--------------+------+---------+--------+------+--------------------+-------------+-----+-----+-------+---------+--------+--------------------+----------+--------------------+----------+---------+-----------+--------+\n",
            "|          0|     21/06/2020 12:14|2.29116E15|fraud_Kirlin and ...| personal_care|  2.86|     Jeff| Elliott|     M|   351 Darlene Green|     Columbia|   SC|29209|33.9659| -80.9355|  333497| Mechanical engineer|19/03/1968|2da90c7d74bd46a0c...|1371816865|33.986391| -81.200714|       0|\n",
            "|          1|     21/06/2020 12:14|3.57303E15|fraud_Sporer-Keebler| personal_care| 29.84|   Joanne|Williams|     F|    3638 Marsh Union|      Altonah|   UT|84002|40.3207| -110.436|     302|Sales professiona...|17/01/1990|324cc204407e99f51...|1371816873|39.450498|-109.960431|       0|\n",
            "|          2|     21/06/2020 12:14|3.59822E15|fraud_Swaniawski,...|health_fitness| 41.28|   Ashley|   Lopez|     F|9333 Valentine Point|     Bellmore|   NY|11710|40.6729| -73.5365|   34496|   Librarian, public|21/10/1970|c81755dbbbea9d5c7...|1371816893| 40.49581| -74.196111|       0|\n",
            "|          3|     21/06/2020 12:15|3.59192E15|   fraud_Haley Group|      misc_pos| 60.05|    Brian|Williams|     M|32941 Krystal Mil...|   Titusville|   FL|32780|28.5697| -80.8191|   54767|        Set designer|25/07/1987|2159175b9efe66dc3...|1371816915|28.812398| -80.883061|       0|\n",
            "|          4|     21/06/2020 12:15|3.52683E15|fraud_Johnston-Ca...|        travel|  3.19|   Nathan|  Massey|     M|5783 Evan Roads A...|     Falmouth|   MI|49632|44.2529|  -85.017|    1126|  Furniture designer|06/07/1955|57ff021bd3f328f87...|1371816917|44.959148| -85.884734|       0|\n",
            "|          5|     21/06/2020 12:15|3.04077E13| fraud_Daugherty LLC|     kids_pets| 19.55| Danielle|   Evans|     F|76752 David Lodge...|    Breesport|   NY|14816|42.1939| -76.7361|     520|     Psychotherapist|13/10/1991|798db04aaceb4febd...|1371816937|41.747157| -77.584197|       0|\n",
            "|          6|     21/06/2020 12:15|2.13181E14| fraud_Romaguera Ltd|health_fitness|133.93|    Kayla|  Sutton|     F|     010 Weaver Land|     Carlotta|   CA|95528| 40.507|-123.9743|    1139|Therapist, occupa...|15/01/1951|17003d7ce534440ea...|1371816944|41.499458|-124.888729|       0|\n",
            "|          7|     21/06/2020 12:15|3.58929E15|   fraud_Reichel LLC| personal_care| 10.37|    Paula| Estrada|     F|     350 Stacy Glens|      Spencer|   SD|57374|43.7557| -97.5936|     343|Development worke...|05/03/1972|8be473af4f05fc614...|1371816950|44.495498| -97.728453|       0|\n",
            "|          8|     21/06/2020 12:16|3.59636E15|fraud_Goyette, Ho...|  shopping_pos|  4.37|    David| Everett|     M|     4138 David Fall|   Morrisdale|   PA|16858|41.0001| -78.2357|    3688|       Advice worker|27/05/1973|71a1da150d1ce5101...|1371816970|41.546067| -78.120238|       0|\n",
            "|          9|     21/06/2020 12:16| 3.5469E15| fraud_Kilback Group|   food_dining| 66.54|    Kayla|  Obrien|     F|7921 Robert Port ...| Prairie Hill|   TX|76678|31.6591| -96.8094|     263|           Barrister|30/05/1956|a7915132c7c424099...|1371816971|31.782919| -96.366185|       0|\n",
            "|         10|     21/06/2020 12:16|2.24254E15|fraud_Feil, Hilpe...|   food_dining|  7.01|   Samuel| Jenkins|     M|43235 Mckenzie Vi...|     Westport|   KY|40077|38.4921| -85.4524|     564| Pensions consultant|10/04/1996|3b8e4d02d9e1a3bf9...|1371816980|38.977546| -84.727994|       0|\n",
            "|         11|     21/06/2020 12:16|5.71465E11|fraud_Gottlieb Group|     kids_pets|  42.4|    Louis|  Fisher|     M|     45654 Hess Rest|Fort Washakie|   WY|82514|43.0048|-108.8964|    1645|   Freight forwarder|26/02/1976|fa3071565d94fb286...|1371817007|42.687774|-108.670054|       0|\n",
            "|         12|     21/06/2020 12:17|6.59325E15|fraud_Connelly-Ca...|          home|  2.91|  Melissa|    Meza|     F|  244 Abbott Parkway|  Loxahatchee|   FL|33470|26.7383|  -80.276|   26551|           Paramedic|04/01/1977|a21cb82e7d8fdbf40...|1371817041| 26.07846| -80.569932|       0|\n",
            "|         13|     21/06/2020 12:18| 4.9883E12|fraud_Bechtelar-R...|   food_dining|  7.93|  William|Thompson|     M|977 Rita Grove Ap...|  Rock Tavern|   NY|12575|41.4575| -74.1659|    2258|   Building surveyor|17/03/1937|d0d2b5cca5ae19e0a...|1371817107| 40.71168| -73.668384|       0|\n",
            "|         14|     21/06/2020 12:18| 6.0115E15|fraud_Lubowitz-Wa...|     kids_pets|  2.91|   Ashley| Whitney|     F|   4038 Smith Avenue|        Jones|   AL|36749|32.5104| -86.8138|    1089|  Materials engineer|02/11/1971|61dca41a9728ea5fd...|1371817117|32.721131| -87.253846|       0|\n",
            "|         15|     21/06/2020 12:18|4.57064E15|fraud_Welch, Rath...| entertainment| 24.73|Christine| Leblanc|     F|5097 Jodi Vista S...|      Deltona|   FL|32725|28.8989| -81.2473|   88735|Commercial hortic...|09/04/1988|ea11379e8aa1b08d5...|1371817121| 29.83155| -80.926829|       0|\n",
            "|         16|     21/06/2020 12:18|4.90663E18|  fraud_Hickle Group|  shopping_pos|  2.33|  Charles|  Moreno|     M|838 Franklin Prai...|     Key West|   FL|33040|24.6557| -81.3824|   32891|        Town planner|13/02/1987|00da72495351ce6bd...|1371817134|24.306325| -81.065169|       0|\n",
            "|         17|     21/06/2020 12:19|4.90885E15|fraud_Lang, Towne...|     kids_pets|  16.6|   Lauren|  Torres|     F|   03030 White Lakes|    Grandview|   TX|76050|32.2779| -97.2351|    5875|Radiographer, the...|24/07/1992|67288141e8206f6f4...|1371817190|33.182349| -97.919284|       0|\n",
            "|         18|     21/06/2020 12:19|4.86131E18|fraud_Morissette LLC| entertainment| 80.11|   Ashley|    Cruz|     F|65417 Walsh Radia...|  Saint Amant|   LA|70774|30.2385| -90.8435|   10076|Surveyor, rural p...|16/12/1977|71bb6ee81f9af4d2a...|1371817196| 30.44999| -89.930996|       0|\n",
            "|         19|     21/06/2020 12:20|6.53844E15|  fraud_Prosacco LLC| personal_care|  5.71|     Gina|  Grimes|     F|     444 Robert Mews| Clarks Mills|   PA|16114|41.3851| -80.1752|     606|      Energy manager|22/09/1997|2d7640ea4f3bcd520...|1371817213|40.508064| -79.615158|       0|\n",
            "+-----------+---------------------+----------+--------------------+--------------+------+---------+--------+------+--------------------+-------------+-----+-----+-------+---------+--------+--------------------+----------+--------------------+----------+---------+-----------+--------+\n",
            "only showing top 20 rows\n",
            "\n"
          ]
        },
        {
          "output_type": "execute_result",
          "data": {
            "text/plain": [
              "StructType([StructField('instance_id', IntegerType(), True), StructField('trans_date_trans_time', StringType(), True), StructField('cust_id', DoubleType(), True), StructField('merchant', StringType(), True), StructField('category', StringType(), True), StructField('amt', DoubleType(), True), StructField('first', StringType(), True), StructField('last', StringType(), True), StructField('gender', StringType(), True), StructField('street', StringType(), True), StructField('city', StringType(), True), StructField('state', StringType(), True), StructField('zip', IntegerType(), True), StructField('lat', DoubleType(), True), StructField('long', DoubleType(), True), StructField('city_pop', IntegerType(), True), StructField('job', StringType(), True), StructField('dob', StringType(), True), StructField('trans_id', StringType(), True), StructField('unix_time', IntegerType(), True), StructField('merch_lat', DoubleType(), True), StructField('merch_long', DoubleType(), True), StructField('is_fraud', IntegerType(), True)])"
            ]
          },
          "metadata": {},
          "execution_count": 5
        }
      ],
      "source": [
        "fraud_raw = spark.read.csv(\"fraud test.csv\", header = True, inferSchema = True)\n",
        "\n",
        "fraud = fraud_raw.withColumnRenamed(\"_c0\", \"instance_id\")\\\n",
        "                 .withColumnRenamed(\"cc_num\", \"cust_id\")\\\n",
        "                 .withColumnRenamed(\"trans_num\", \"trans_id\")\n",
        "\n",
        "fraud.show()\n",
        "fraud.schema"
      ]
    },
    {
      "cell_type": "markdown",
      "metadata": {
        "id": "r9I3SfVhVnh2"
      },
      "source": [
        "Now we use the column in the data called \"unix_time\" which gives us the unix time for transaction date to use in the function \"from_unixtime\" in spark SQL to convert to date format \"yyyyMMdd HHmmss\". This is useful because this format is safe for many data types in all languages but if I use the format provided in trans_date_trans_time variable which is \"ddMMyyyy HHmm\", it is more complicated to work around with in SQL or python because it is not standard."
      ]
    },
    {
      "cell_type": "code",
      "execution_count": null,
      "metadata": {
        "colab": {
          "base_uri": "https://localhost:8080/"
        },
        "id": "E-xKOfdcVRzV",
        "outputId": "943250ef-8b58-42ea-a0ff-b3e033276f1e"
      },
      "outputs": [
        {
          "output_type": "stream",
          "name": "stdout",
          "text": [
            "+-----------+---------------------+----------+--------------------+--------------+------+---------+--------+------+--------------------+-------------+-----+-----+-------+---------+--------+--------------------+----------+--------------------+---------+-----------+--------+\n",
            "|instance_id|trans_date_trans_time|   cust_id|            merchant|      category|   amt|    first|    last|gender|              street|         city|state|  zip|    lat|     long|city_pop|                 job|       dob|            trans_id|merch_lat| merch_long|is_fraud|\n",
            "+-----------+---------------------+----------+--------------------+--------------+------+---------+--------+------+--------------------+-------------+-----+-----+-------+---------+--------+--------------------+----------+--------------------+---------+-----------+--------+\n",
            "|          0|  2013-06-21 12:14:25|2.29116E15|fraud_Kirlin and ...| personal_care|  2.86|     Jeff| Elliott|     M|   351 Darlene Green|     Columbia|   SC|29209|33.9659| -80.9355|  333497| Mechanical engineer|19/03/1968|2da90c7d74bd46a0c...|33.986391| -81.200714|       0|\n",
            "|          1|  2013-06-21 12:14:33|3.57303E15|fraud_Sporer-Keebler| personal_care| 29.84|   Joanne|Williams|     F|    3638 Marsh Union|      Altonah|   UT|84002|40.3207| -110.436|     302|Sales professiona...|17/01/1990|324cc204407e99f51...|39.450498|-109.960431|       0|\n",
            "|          2|  2013-06-21 12:14:53|3.59822E15|fraud_Swaniawski,...|health_fitness| 41.28|   Ashley|   Lopez|     F|9333 Valentine Point|     Bellmore|   NY|11710|40.6729| -73.5365|   34496|   Librarian, public|21/10/1970|c81755dbbbea9d5c7...| 40.49581| -74.196111|       0|\n",
            "|          3|  2013-06-21 12:15:15|3.59192E15|   fraud_Haley Group|      misc_pos| 60.05|    Brian|Williams|     M|32941 Krystal Mil...|   Titusville|   FL|32780|28.5697| -80.8191|   54767|        Set designer|25/07/1987|2159175b9efe66dc3...|28.812398| -80.883061|       0|\n",
            "|          4|  2013-06-21 12:15:17|3.52683E15|fraud_Johnston-Ca...|        travel|  3.19|   Nathan|  Massey|     M|5783 Evan Roads A...|     Falmouth|   MI|49632|44.2529|  -85.017|    1126|  Furniture designer|06/07/1955|57ff021bd3f328f87...|44.959148| -85.884734|       0|\n",
            "|          5|  2013-06-21 12:15:37|3.04077E13| fraud_Daugherty LLC|     kids_pets| 19.55| Danielle|   Evans|     F|76752 David Lodge...|    Breesport|   NY|14816|42.1939| -76.7361|     520|     Psychotherapist|13/10/1991|798db04aaceb4febd...|41.747157| -77.584197|       0|\n",
            "|          6|  2013-06-21 12:15:44|2.13181E14| fraud_Romaguera Ltd|health_fitness|133.93|    Kayla|  Sutton|     F|     010 Weaver Land|     Carlotta|   CA|95528| 40.507|-123.9743|    1139|Therapist, occupa...|15/01/1951|17003d7ce534440ea...|41.499458|-124.888729|       0|\n",
            "|          7|  2013-06-21 12:15:50|3.58929E15|   fraud_Reichel LLC| personal_care| 10.37|    Paula| Estrada|     F|     350 Stacy Glens|      Spencer|   SD|57374|43.7557| -97.5936|     343|Development worke...|05/03/1972|8be473af4f05fc614...|44.495498| -97.728453|       0|\n",
            "|          8|  2013-06-21 12:16:10|3.59636E15|fraud_Goyette, Ho...|  shopping_pos|  4.37|    David| Everett|     M|     4138 David Fall|   Morrisdale|   PA|16858|41.0001| -78.2357|    3688|       Advice worker|27/05/1973|71a1da150d1ce5101...|41.546067| -78.120238|       0|\n",
            "|          9|  2013-06-21 12:16:11| 3.5469E15| fraud_Kilback Group|   food_dining| 66.54|    Kayla|  Obrien|     F|7921 Robert Port ...| Prairie Hill|   TX|76678|31.6591| -96.8094|     263|           Barrister|30/05/1956|a7915132c7c424099...|31.782919| -96.366185|       0|\n",
            "|         10|  2013-06-21 12:16:20|2.24254E15|fraud_Feil, Hilpe...|   food_dining|  7.01|   Samuel| Jenkins|     M|43235 Mckenzie Vi...|     Westport|   KY|40077|38.4921| -85.4524|     564| Pensions consultant|10/04/1996|3b8e4d02d9e1a3bf9...|38.977546| -84.727994|       0|\n",
            "|         11|  2013-06-21 12:16:47|5.71465E11|fraud_Gottlieb Group|     kids_pets|  42.4|    Louis|  Fisher|     M|     45654 Hess Rest|Fort Washakie|   WY|82514|43.0048|-108.8964|    1645|   Freight forwarder|26/02/1976|fa3071565d94fb286...|42.687774|-108.670054|       0|\n",
            "|         12|  2013-06-21 12:17:21|6.59325E15|fraud_Connelly-Ca...|          home|  2.91|  Melissa|    Meza|     F|  244 Abbott Parkway|  Loxahatchee|   FL|33470|26.7383|  -80.276|   26551|           Paramedic|04/01/1977|a21cb82e7d8fdbf40...| 26.07846| -80.569932|       0|\n",
            "|         13|  2013-06-21 12:18:27| 4.9883E12|fraud_Bechtelar-R...|   food_dining|  7.93|  William|Thompson|     M|977 Rita Grove Ap...|  Rock Tavern|   NY|12575|41.4575| -74.1659|    2258|   Building surveyor|17/03/1937|d0d2b5cca5ae19e0a...| 40.71168| -73.668384|       0|\n",
            "|         14|  2013-06-21 12:18:37| 6.0115E15|fraud_Lubowitz-Wa...|     kids_pets|  2.91|   Ashley| Whitney|     F|   4038 Smith Avenue|        Jones|   AL|36749|32.5104| -86.8138|    1089|  Materials engineer|02/11/1971|61dca41a9728ea5fd...|32.721131| -87.253846|       0|\n",
            "|         15|  2013-06-21 12:18:41|4.57064E15|fraud_Welch, Rath...| entertainment| 24.73|Christine| Leblanc|     F|5097 Jodi Vista S...|      Deltona|   FL|32725|28.8989| -81.2473|   88735|Commercial hortic...|09/04/1988|ea11379e8aa1b08d5...| 29.83155| -80.926829|       0|\n",
            "|         16|  2013-06-21 12:18:54|4.90663E18|  fraud_Hickle Group|  shopping_pos|  2.33|  Charles|  Moreno|     M|838 Franklin Prai...|     Key West|   FL|33040|24.6557| -81.3824|   32891|        Town planner|13/02/1987|00da72495351ce6bd...|24.306325| -81.065169|       0|\n",
            "|         17|  2013-06-21 12:19:50|4.90885E15|fraud_Lang, Towne...|     kids_pets|  16.6|   Lauren|  Torres|     F|   03030 White Lakes|    Grandview|   TX|76050|32.2779| -97.2351|    5875|Radiographer, the...|24/07/1992|67288141e8206f6f4...|33.182349| -97.919284|       0|\n",
            "|         18|  2013-06-21 12:19:56|4.86131E18|fraud_Morissette LLC| entertainment| 80.11|   Ashley|    Cruz|     F|65417 Walsh Radia...|  Saint Amant|   LA|70774|30.2385| -90.8435|   10076|Surveyor, rural p...|16/12/1977|71bb6ee81f9af4d2a...| 30.44999| -89.930996|       0|\n",
            "|         19|  2013-06-21 12:20:13|6.53844E15|  fraud_Prosacco LLC| personal_care|  5.71|     Gina|  Grimes|     F|     444 Robert Mews| Clarks Mills|   PA|16114|41.3851| -80.1752|     606|      Energy manager|22/09/1997|2d7640ea4f3bcd520...|40.508064| -79.615158|       0|\n",
            "+-----------+---------------------+----------+--------------------+--------------+------+---------+--------+------+--------------------+-------------+-----+-----+-------+---------+--------+--------------------+----------+--------------------+---------+-----------+--------+\n",
            "only showing top 20 rows\n",
            "\n"
          ]
        }
      ],
      "source": [
        "from pyspark.sql import functions as f\n",
        "\n",
        "# Drop unix time since we used it and no longer need to use it again\n",
        "fraud = fraud.withColumn(\"trans_date_trans_time\", f.from_unixtime(\"unix_time\"))\\\n",
        "             .drop(\"unix_time\").cache()\n",
        "\n",
        "fraud.show()"
      ]
    },
    {
      "cell_type": "markdown",
      "metadata": {
        "id": "m3d1R_PgCoue"
      },
      "source": [
        "## Visualizations"
      ]
    },
    {
      "cell_type": "markdown",
      "metadata": {
        "id": "3eyoEGKmCdx7"
      },
      "source": [
        "### Visualizing Fraud over Months"
      ]
    },
    {
      "cell_type": "markdown",
      "metadata": {
        "id": "g1ueG7YSef2m"
      },
      "source": [
        "Since the transaction dates are all within a year, what matters is the trend during the months so we use spark sql to analyze the fraud within each month."
      ]
    },
    {
      "cell_type": "code",
      "execution_count": null,
      "metadata": {
        "id": "H__RkuM2LdnW"
      },
      "outputs": [],
      "source": [
        "fraud.createOrReplaceTempView(\"fraud\")\n",
        "\n",
        "# Get number of transactions per month\n",
        "fraud_per_month_1 = spark.sql(\"SELECT M.Month, COUNT(M.Month) AS num_transactions \\\n",
        "FROM (SELECT MONTH(trans_date_trans_time) as Month FROM fraud) M GROUP BY M.Month\")\n",
        "\n",
        "# Get percentage of fraud within each month\n",
        "fraud_per_month_2 = spark.sql(\"SELECT M.Month, AVG(M.is_fraud)*100 as \\\n",
        "fraud_percentage FROM (SELECT *, MONTH(trans_date_trans_time) \\\n",
        "AS Month FROM fraud) M GROUP BY M.Month\")\n",
        "\n",
        "# Get total fraud amount within each month\n",
        "fraud_per_month_3 = spark.sql(\"SELECT Q.Month, SUM(Q.amt) AS total_fraud_amt \\\n",
        "FROM (SELECT MONTH(P.trans_date_trans_time) AS Month, P.amt FROM \\\n",
        "(SELECT * FROM fraud WHERE is_fraud = 1) P) Q GROUP BY Q.Month\")\n",
        "\n",
        "# Now join the 3 summaries of fraud above to one data frame and\n",
        "# get a new variable called avg_fraud_per_transaction which gives what the\n",
        "# name says within each month. It is total_fraud_amt/num_transactions\n",
        "fraud_per_month = fraud_per_month_1.join(fraud_per_month_2, on = \"Month\")\\\n",
        "                                   .join(fraud_per_month_3, on = \"Month\")\\\n",
        "                                   .withColumn(\"avg_fraud_per_transaction\",\\\n",
        "          fraud_per_month_3.total_fraud_amt/fraud_per_month_1.num_transactions)\\\n",
        "          .select(\"Month\", \"fraud_percentage\", \"avg_fraud_per_transaction\")\\\n",
        "          .sort(\"Month\", ascending = True)"
      ]
    },
    {
      "cell_type": "code",
      "source": [
        "spark.sql(\"SELECT is_fraud, count(is_fraud) FROM fraud GROUP BY is_fraud \").show()"
      ],
      "metadata": {
        "colab": {
          "base_uri": "https://localhost:8080/"
        },
        "id": "b80ANH2w_ldG",
        "outputId": "ce355045-8cd4-46b7-b6e2-de56685f7962"
      },
      "execution_count": null,
      "outputs": [
        {
          "output_type": "stream",
          "name": "stdout",
          "text": [
            "+--------+---------------+\n",
            "|is_fraud|count(is_fraud)|\n",
            "+--------+---------------+\n",
            "|       1|           2145|\n",
            "|       0|         553574|\n",
            "+--------+---------------+\n",
            "\n"
          ]
        }
      ]
    },
    {
      "cell_type": "markdown",
      "metadata": {
        "id": "ByLI-1ZFfmal"
      },
      "source": [
        "Now we display the two variables which are fraud percentage (i.e. percentage of fraud within this month) per month and average fraud per transaction each month."
      ]
    },
    {
      "cell_type": "code",
      "execution_count": null,
      "metadata": {
        "colab": {
          "base_uri": "https://localhost:8080/"
        },
        "id": "y4RPrCDZdoeO",
        "outputId": "76539598-11d9-4f68-c737-c15490fc29ac"
      },
      "outputs": [
        {
          "output_type": "stream",
          "name": "stdout",
          "text": [
            "+-----+------------------+-------------------------+\n",
            "|Month|  fraud_percentage|avg_fraud_per_transaction|\n",
            "+-----+------------------+-------------------------+\n",
            "|    6|0.4424778761061947|       2.4377846164082775|\n",
            "|    7|0.3739166899636567|       1.8482607632093928|\n",
            "|    8|0.4675582194481686|       2.3522733469281993|\n",
            "|    9|0.4889764572217508|       2.9151768225159307|\n",
            "|   10|0.5537290188613947|        2.820167416508044|\n",
            "|   11|0.4047635437461279|       2.1089308184759425|\n",
            "|   12|0.1848958706588886|       1.0114712838079947|\n",
            "+-----+------------------+-------------------------+\n",
            "\n"
          ]
        }
      ],
      "source": [
        "fraud_per_month.show()"
      ]
    },
    {
      "cell_type": "markdown",
      "metadata": {
        "id": "iKmlqSiMzrAC"
      },
      "source": [
        "Now we will use python library with jupyter notebook to do some visualization. The plotting library to be used is plotly to plot a line plot of fraud_percentage and avg_fraud_per_transaction each month.\n",
        "\n",
        "Since fraud_percentage and avg_fraud_per_transaction vary quite a bit, we first normalize them so that the plot looks nicer and easier to interpret.\n",
        "\n",
        "Then we use toPandas() to convert the spark data frame to pandas data frame since Spark SQL is integrated with pandas. This is so that we can use the plotly library to plot as it requires a pandas data frame. The Pandas data frame is really small as it only contains 7 months so there should be no memory issue for the driver program. In reality when the data is bigger, we can do the same procedure to summarize the fraud data each month using spark. By the time all the spark operations are finished, the data frame is small enough to turn into pandas data frame since it only contains 7 rows (i.e. 7 months) and 3 columns."
      ]
    },
    {
      "cell_type": "code",
      "execution_count": null,
      "metadata": {
        "colab": {
          "base_uri": "https://localhost:8080/",
          "height": 617
        },
        "id": "slVccnnHdoVp",
        "outputId": "c3adc129-986e-4570-d7a6-164514183738"
      },
      "outputs": [
        {
          "output_type": "display_data",
          "data": {
            "text/html": [
              "<html>\n",
              "<head><meta charset=\"utf-8\" /></head>\n",
              "<body>\n",
              "    <div>            <script src=\"https://cdnjs.cloudflare.com/ajax/libs/mathjax/2.7.5/MathJax.js?config=TeX-AMS-MML_SVG\"></script><script type=\"text/javascript\">if (window.MathJax && window.MathJax.Hub && window.MathJax.Hub.Config) {window.MathJax.Hub.Config({SVG: {font: \"STIX-Web\"}});}</script>                <script type=\"text/javascript\">window.PlotlyConfig = {MathJaxConfig: 'local'};</script>\n",
              "        <script charset=\"utf-8\" src=\"https://cdn.plot.ly/plotly-2.24.1.min.js\"></script>                <div id=\"c0c15ad2-8f2f-4af2-bc28-cb136c88b24a\" class=\"plotly-graph-div\" style=\"height:600px; width:1000px;\"></div>            <script type=\"text/javascript\">                                    window.PLOTLYENV=window.PLOTLYENV || {};                                    if (document.getElementById(\"c0c15ad2-8f2f-4af2-bc28-cb136c88b24a\")) {                    Plotly.newPlot(                        \"c0c15ad2-8f2f-4af2-bc28-cb136c88b24a\",                        [{\"name\":\"% of Fraud during \\u003cbr\\u003e Current Month\",\"text\":[0.4424778761061947,0.3739166899636567,0.4675582194481686,0.4889764572217508,0.5537290188613947,0.4047635437461279,0.1848958706588886],\"x\":[6,7,8,9,10,11,12],\"y\":[0.6983699992872711,0.5124832738758802,0.7663691568038932,0.8244394194089848,1.0,0.5961169004433462,0.0],\"type\":\"scatter\"},{\"name\":\"Average Fraud Amount \\u003cbr\\u003e per Transaction\",\"text\":[2.4377846164082775,1.8482607632093928,2.3522733469281993,2.9151768225159307,2.820167416508044,2.1089308184759425,1.0114712838079947],\"x\":[6,7,8,9,10,11,12],\"y\":[0.7492300167221954,0.4395582522543563,0.7043116888918758,1.0,0.9500923834720939,0.576485970310726,0.0],\"type\":\"scatter\"}],                        {\"title\":{\"text\":\"Quantity of Fraud over Months\"},\"xaxis\":{\"title\":{\"text\":\"Month\"}},\"template\":{\"data\":{\"histogram2dcontour\":[{\"type\":\"histogram2dcontour\",\"colorbar\":{\"outlinewidth\":0,\"ticks\":\"\"},\"colorscale\":[[0.0,\"#0d0887\"],[0.1111111111111111,\"#46039f\"],[0.2222222222222222,\"#7201a8\"],[0.3333333333333333,\"#9c179e\"],[0.4444444444444444,\"#bd3786\"],[0.5555555555555556,\"#d8576b\"],[0.6666666666666666,\"#ed7953\"],[0.7777777777777778,\"#fb9f3a\"],[0.8888888888888888,\"#fdca26\"],[1.0,\"#f0f921\"]]}],\"choropleth\":[{\"type\":\"choropleth\",\"colorbar\":{\"outlinewidth\":0,\"ticks\":\"\"}}],\"histogram2d\":[{\"type\":\"histogram2d\",\"colorbar\":{\"outlinewidth\":0,\"ticks\":\"\"},\"colorscale\":[[0.0,\"#0d0887\"],[0.1111111111111111,\"#46039f\"],[0.2222222222222222,\"#7201a8\"],[0.3333333333333333,\"#9c179e\"],[0.4444444444444444,\"#bd3786\"],[0.5555555555555556,\"#d8576b\"],[0.6666666666666666,\"#ed7953\"],[0.7777777777777778,\"#fb9f3a\"],[0.8888888888888888,\"#fdca26\"],[1.0,\"#f0f921\"]]}],\"heatmap\":[{\"type\":\"heatmap\",\"colorbar\":{\"outlinewidth\":0,\"ticks\":\"\"},\"colorscale\":[[0.0,\"#0d0887\"],[0.1111111111111111,\"#46039f\"],[0.2222222222222222,\"#7201a8\"],[0.3333333333333333,\"#9c179e\"],[0.4444444444444444,\"#bd3786\"],[0.5555555555555556,\"#d8576b\"],[0.6666666666666666,\"#ed7953\"],[0.7777777777777778,\"#fb9f3a\"],[0.8888888888888888,\"#fdca26\"],[1.0,\"#f0f921\"]]}],\"heatmapgl\":[{\"type\":\"heatmapgl\",\"colorbar\":{\"outlinewidth\":0,\"ticks\":\"\"},\"colorscale\":[[0.0,\"#0d0887\"],[0.1111111111111111,\"#46039f\"],[0.2222222222222222,\"#7201a8\"],[0.3333333333333333,\"#9c179e\"],[0.4444444444444444,\"#bd3786\"],[0.5555555555555556,\"#d8576b\"],[0.6666666666666666,\"#ed7953\"],[0.7777777777777778,\"#fb9f3a\"],[0.8888888888888888,\"#fdca26\"],[1.0,\"#f0f921\"]]}],\"contourcarpet\":[{\"type\":\"contourcarpet\",\"colorbar\":{\"outlinewidth\":0,\"ticks\":\"\"}}],\"contour\":[{\"type\":\"contour\",\"colorbar\":{\"outlinewidth\":0,\"ticks\":\"\"},\"colorscale\":[[0.0,\"#0d0887\"],[0.1111111111111111,\"#46039f\"],[0.2222222222222222,\"#7201a8\"],[0.3333333333333333,\"#9c179e\"],[0.4444444444444444,\"#bd3786\"],[0.5555555555555556,\"#d8576b\"],[0.6666666666666666,\"#ed7953\"],[0.7777777777777778,\"#fb9f3a\"],[0.8888888888888888,\"#fdca26\"],[1.0,\"#f0f921\"]]}],\"surface\":[{\"type\":\"surface\",\"colorbar\":{\"outlinewidth\":0,\"ticks\":\"\"},\"colorscale\":[[0.0,\"#0d0887\"],[0.1111111111111111,\"#46039f\"],[0.2222222222222222,\"#7201a8\"],[0.3333333333333333,\"#9c179e\"],[0.4444444444444444,\"#bd3786\"],[0.5555555555555556,\"#d8576b\"],[0.6666666666666666,\"#ed7953\"],[0.7777777777777778,\"#fb9f3a\"],[0.8888888888888888,\"#fdca26\"],[1.0,\"#f0f921\"]]}],\"mesh3d\":[{\"type\":\"mesh3d\",\"colorbar\":{\"outlinewidth\":0,\"ticks\":\"\"}}],\"scatter\":[{\"fillpattern\":{\"fillmode\":\"overlay\",\"size\":10,\"solidity\":0.2},\"type\":\"scatter\"}],\"parcoords\":[{\"type\":\"parcoords\",\"line\":{\"colorbar\":{\"outlinewidth\":0,\"ticks\":\"\"}}}],\"scatterpolargl\":[{\"type\":\"scatterpolargl\",\"marker\":{\"colorbar\":{\"outlinewidth\":0,\"ticks\":\"\"}}}],\"bar\":[{\"error_x\":{\"color\":\"#2a3f5f\"},\"error_y\":{\"color\":\"#2a3f5f\"},\"marker\":{\"line\":{\"color\":\"#E5ECF6\",\"width\":0.5},\"pattern\":{\"fillmode\":\"overlay\",\"size\":10,\"solidity\":0.2}},\"type\":\"bar\"}],\"scattergeo\":[{\"type\":\"scattergeo\",\"marker\":{\"colorbar\":{\"outlinewidth\":0,\"ticks\":\"\"}}}],\"scatterpolar\":[{\"type\":\"scatterpolar\",\"marker\":{\"colorbar\":{\"outlinewidth\":0,\"ticks\":\"\"}}}],\"histogram\":[{\"marker\":{\"pattern\":{\"fillmode\":\"overlay\",\"size\":10,\"solidity\":0.2}},\"type\":\"histogram\"}],\"scattergl\":[{\"type\":\"scattergl\",\"marker\":{\"colorbar\":{\"outlinewidth\":0,\"ticks\":\"\"}}}],\"scatter3d\":[{\"type\":\"scatter3d\",\"line\":{\"colorbar\":{\"outlinewidth\":0,\"ticks\":\"\"}},\"marker\":{\"colorbar\":{\"outlinewidth\":0,\"ticks\":\"\"}}}],\"scattermapbox\":[{\"type\":\"scattermapbox\",\"marker\":{\"colorbar\":{\"outlinewidth\":0,\"ticks\":\"\"}}}],\"scatterternary\":[{\"type\":\"scatterternary\",\"marker\":{\"colorbar\":{\"outlinewidth\":0,\"ticks\":\"\"}}}],\"scattercarpet\":[{\"type\":\"scattercarpet\",\"marker\":{\"colorbar\":{\"outlinewidth\":0,\"ticks\":\"\"}}}],\"carpet\":[{\"aaxis\":{\"endlinecolor\":\"#2a3f5f\",\"gridcolor\":\"white\",\"linecolor\":\"white\",\"minorgridcolor\":\"white\",\"startlinecolor\":\"#2a3f5f\"},\"baxis\":{\"endlinecolor\":\"#2a3f5f\",\"gridcolor\":\"white\",\"linecolor\":\"white\",\"minorgridcolor\":\"white\",\"startlinecolor\":\"#2a3f5f\"},\"type\":\"carpet\"}],\"table\":[{\"cells\":{\"fill\":{\"color\":\"#EBF0F8\"},\"line\":{\"color\":\"white\"}},\"header\":{\"fill\":{\"color\":\"#C8D4E3\"},\"line\":{\"color\":\"white\"}},\"type\":\"table\"}],\"barpolar\":[{\"marker\":{\"line\":{\"color\":\"#E5ECF6\",\"width\":0.5},\"pattern\":{\"fillmode\":\"overlay\",\"size\":10,\"solidity\":0.2}},\"type\":\"barpolar\"}],\"pie\":[{\"automargin\":true,\"type\":\"pie\"}]},\"layout\":{\"autotypenumbers\":\"strict\",\"colorway\":[\"#636efa\",\"#EF553B\",\"#00cc96\",\"#ab63fa\",\"#FFA15A\",\"#19d3f3\",\"#FF6692\",\"#B6E880\",\"#FF97FF\",\"#FECB52\"],\"font\":{\"color\":\"#2a3f5f\"},\"hovermode\":\"closest\",\"hoverlabel\":{\"align\":\"left\"},\"paper_bgcolor\":\"white\",\"plot_bgcolor\":\"#E5ECF6\",\"polar\":{\"bgcolor\":\"#E5ECF6\",\"angularaxis\":{\"gridcolor\":\"white\",\"linecolor\":\"white\",\"ticks\":\"\"},\"radialaxis\":{\"gridcolor\":\"white\",\"linecolor\":\"white\",\"ticks\":\"\"}},\"ternary\":{\"bgcolor\":\"#E5ECF6\",\"aaxis\":{\"gridcolor\":\"white\",\"linecolor\":\"white\",\"ticks\":\"\"},\"baxis\":{\"gridcolor\":\"white\",\"linecolor\":\"white\",\"ticks\":\"\"},\"caxis\":{\"gridcolor\":\"white\",\"linecolor\":\"white\",\"ticks\":\"\"}},\"coloraxis\":{\"colorbar\":{\"outlinewidth\":0,\"ticks\":\"\"}},\"colorscale\":{\"sequential\":[[0.0,\"#0d0887\"],[0.1111111111111111,\"#46039f\"],[0.2222222222222222,\"#7201a8\"],[0.3333333333333333,\"#9c179e\"],[0.4444444444444444,\"#bd3786\"],[0.5555555555555556,\"#d8576b\"],[0.6666666666666666,\"#ed7953\"],[0.7777777777777778,\"#fb9f3a\"],[0.8888888888888888,\"#fdca26\"],[1.0,\"#f0f921\"]],\"sequentialminus\":[[0.0,\"#0d0887\"],[0.1111111111111111,\"#46039f\"],[0.2222222222222222,\"#7201a8\"],[0.3333333333333333,\"#9c179e\"],[0.4444444444444444,\"#bd3786\"],[0.5555555555555556,\"#d8576b\"],[0.6666666666666666,\"#ed7953\"],[0.7777777777777778,\"#fb9f3a\"],[0.8888888888888888,\"#fdca26\"],[1.0,\"#f0f921\"]],\"diverging\":[[0,\"#8e0152\"],[0.1,\"#c51b7d\"],[0.2,\"#de77ae\"],[0.3,\"#f1b6da\"],[0.4,\"#fde0ef\"],[0.5,\"#f7f7f7\"],[0.6,\"#e6f5d0\"],[0.7,\"#b8e186\"],[0.8,\"#7fbc41\"],[0.9,\"#4d9221\"],[1,\"#276419\"]]},\"xaxis\":{\"gridcolor\":\"white\",\"linecolor\":\"white\",\"ticks\":\"\",\"title\":{\"standoff\":15},\"zerolinecolor\":\"white\",\"automargin\":true,\"zerolinewidth\":2},\"yaxis\":{\"gridcolor\":\"white\",\"linecolor\":\"white\",\"ticks\":\"\",\"title\":{\"standoff\":15},\"zerolinecolor\":\"white\",\"automargin\":true,\"zerolinewidth\":2},\"scene\":{\"xaxis\":{\"backgroundcolor\":\"#E5ECF6\",\"gridcolor\":\"white\",\"linecolor\":\"white\",\"showbackground\":true,\"ticks\":\"\",\"zerolinecolor\":\"white\",\"gridwidth\":2},\"yaxis\":{\"backgroundcolor\":\"#E5ECF6\",\"gridcolor\":\"white\",\"linecolor\":\"white\",\"showbackground\":true,\"ticks\":\"\",\"zerolinecolor\":\"white\",\"gridwidth\":2},\"zaxis\":{\"backgroundcolor\":\"#E5ECF6\",\"gridcolor\":\"white\",\"linecolor\":\"white\",\"showbackground\":true,\"ticks\":\"\",\"zerolinecolor\":\"white\",\"gridwidth\":2}},\"shapedefaults\":{\"line\":{\"color\":\"#2a3f5f\"}},\"annotationdefaults\":{\"arrowcolor\":\"#2a3f5f\",\"arrowhead\":0,\"arrowwidth\":1},\"geo\":{\"bgcolor\":\"white\",\"landcolor\":\"#E5ECF6\",\"subunitcolor\":\"white\",\"showland\":true,\"showlakes\":true,\"lakecolor\":\"white\"},\"title\":{\"x\":0.05},\"mapbox\":{\"style\":\"light\"}}},\"width\":1000,\"height\":600},                        {\"responsive\": true}                    ).then(function(){\n",
              "                            \n",
              "var gd = document.getElementById('c0c15ad2-8f2f-4af2-bc28-cb136c88b24a');\n",
              "var x = new MutationObserver(function (mutations, observer) {{\n",
              "        var display = window.getComputedStyle(gd).display;\n",
              "        if (!display || display === 'none') {{\n",
              "            console.log([gd, 'removed!']);\n",
              "            Plotly.purge(gd);\n",
              "            observer.disconnect();\n",
              "        }}\n",
              "}});\n",
              "\n",
              "// Listen for the removal of the full notebook cells\n",
              "var notebookContainer = gd.closest('#notebook-container');\n",
              "if (notebookContainer) {{\n",
              "    x.observe(notebookContainer, {childList: true});\n",
              "}}\n",
              "\n",
              "// Listen for the clearing of the current output cell\n",
              "var outputEl = gd.closest('.output');\n",
              "if (outputEl) {{\n",
              "    x.observe(outputEl, {childList: true});\n",
              "}}\n",
              "\n",
              "                        })                };                            </script>        </div>\n",
              "</body>\n",
              "</html>"
            ]
          },
          "metadata": {}
        }
      ],
      "source": [
        "import pandas as pd\n",
        "import plotly.graph_objects as go\n",
        "\n",
        "# Minimum and Maximum values are given in the table above\n",
        "\n",
        "fraud_plot = fraud_per_month.withColumn(\"normalize_fraud_percent\",\n",
        "                           (fraud_per_month.fraud_percentage - 0.1848958706588886)/\\\n",
        "                            (0.5537290188613947-0.1848958706588886))\\\n",
        "                            .withColumn(\"normalize_avg_fraud_per_tran\", \\\n",
        "                             (fraud_per_month.avg_fraud_per_transaction - 1.0114712838079947)/\\\n",
        "                              (2.9151768225159307-1.0114712838079947))\\\n",
        "                              .toPandas()\n",
        "\n",
        "# Plot the multiple line plot\n",
        "data = [go.Scatter(x=fraud_plot.Month, y = fraud_plot.normalize_fraud_percent,\\\n",
        "  name = \"% of Fraud during <br> Current Month\", text = fraud_plot.fraud_percentage),\\\n",
        "        go.Scatter(x=fraud_plot.Month, y = fraud_plot.normalize_avg_fraud_per_tran,\\\n",
        "                   name = \"Average Fraud Amount <br> per Transaction\", text = fraud_plot.avg_fraud_per_transaction)]\n",
        "\n",
        "fig = go.Figure(data, layout=go.Layout(title=go.layout.Title(text=\"Quantity of Fraud over Months\"), xaxis_title = \"Month\"))\n",
        "fig.update_layout(width=1000, height=600)\n",
        "fig.show()"
      ]
    },
    {
      "cell_type": "markdown",
      "metadata": {
        "id": "WiTUiRHu-SlF"
      },
      "source": [
        "The above interactive plot shows us the relationship between percentage of fraud cases and average fraud amount per transaction each month. It is not necessarily true that high fraud percentage corresponds to high fraud amount per transaction. For example, in month 10, fraud percentage is the highest but average fraud amount per transaction is lower than month 9. This means although month 9 had a lower fraud percentage, the individual fraud amounts were big enough so that its average fraud per transaction is higher.\n",
        "\n",
        "The reason for this visualization is so that we can justify picking the testing set to live stream and predict later on. From the plot we see that month December has the lowest fraud percentage and also the lowest average fraud amount per transaction (i.e. the red and blue line dips the lowest). This means fraud is the lowest during the month of December since not only is the proportion of fraud cases low, the transaction amounts of fraud cases are also low. This means most of the fraud is during the months June to November.\n",
        "\n",
        "To make the situation more realistic we should choose the training set to be June to November since it contains most of the fraud where as December contains the least fraud. In reality, we would have a lot of fraud data to learn from so it makes sense to choose June to November as training set as it contains most of the fraud. Where as picking December as the test set also makes sense since it is during a time after training (i.e. June - November)."
      ]
    },
    {
      "cell_type": "markdown",
      "metadata": {
        "id": "_QGeW0o6B5RC"
      },
      "source": [
        "### Visualizing Number of Distinct Merchants Transacted"
      ]
    },
    {
      "cell_type": "code",
      "execution_count": null,
      "metadata": {
        "colab": {
          "base_uri": "https://localhost:8080/",
          "height": 542
        },
        "id": "0SPHFtUudnDk",
        "outputId": "f4e65fbd-84ca-47db-c01d-18cdcb2b9ac2"
      },
      "outputs": [
        {
          "output_type": "display_data",
          "data": {
            "text/html": [
              "<html>\n",
              "<head><meta charset=\"utf-8\" /></head>\n",
              "<body>\n",
              "    <div>            <script src=\"https://cdnjs.cloudflare.com/ajax/libs/mathjax/2.7.5/MathJax.js?config=TeX-AMS-MML_SVG\"></script><script type=\"text/javascript\">if (window.MathJax && window.MathJax.Hub && window.MathJax.Hub.Config) {window.MathJax.Hub.Config({SVG: {font: \"STIX-Web\"}});}</script>                <script type=\"text/javascript\">window.PlotlyConfig = {MathJaxConfig: 'local'};</script>\n",
              "        <script charset=\"utf-8\" src=\"https://cdn.plot.ly/plotly-2.24.1.min.js\"></script>                <div id=\"93c9c631-f927-4e9f-80ae-6ac168003a92\" class=\"plotly-graph-div\" style=\"height:525px; width:100%;\"></div>            <script type=\"text/javascript\">                                    window.PLOTLYENV=window.PLOTLYENV || {};                                    if (document.getElementById(\"93c9c631-f927-4e9f-80ae-6ac168003a92\")) {                    Plotly.newPlot(                        \"93c9c631-f927-4e9f-80ae-6ac168003a92\",                        [{\"alignmentgroup\":\"True\",\"bingroup\":\"x\",\"hovertemplate\":\"Number of Distinct Merchants visited=%{x}\\u003cbr\\u003ecount=%{y}\\u003cextra\\u003e\\u003c\\u002fextra\\u003e\",\"legendgroup\":\"\",\"marker\":{\"color\":\"#636efa\",\"pattern\":{\"shape\":\"\"}},\"name\":\"\",\"offsetgroup\":\"\",\"orientation\":\"v\",\"showlegend\":false,\"x\":[653,624,595,589,585,583,582,581,580,575,575,575,574,574,573,572,570,570,569,568,568,567,566,565,564,563,562,561,561,561,560,560,560,559,559,559,557,557,556,555,555,555,554,553,552,551,551,550,550,550,550,549,549,549,548,547,547,547,546,546,544,543,542,542,542,542,541,541,538,538,537,536,535,534,533,533,533,533,533,532,532,531,531,530,529,529,529,529,529,528,528,528,528,528,527,527,527,526,526,526,526,524,524,523,523,522,522,522,521,521,520,520,520,520,519,519,519,517,516,515,514,514,514,514,513,512,512,512,511,511,510,510,508,506,504,495,494,494,494,494,492,491,491,491,490,490,490,489,489,488,488,487,487,486,485,485,483,483,483,483,482,481,481,480,480,480,480,480,479,479,478,478,478,478,478,478,478,477,477,477,477,477,476,476,476,476,476,476,476,476,476,475,475,475,475,474,474,474,474,473,473,473,472,472,472,472,472,472,472,471,470,470,470,470,470,470,469,469,469,469,469,469,469,469,469,468,468,468,468,468,468,468,468,468,468,468,468,467,467,467,466,466,466,466,466,465,465,464,464,464,464,463,463,463,462,462,462,461,461,461,460,460,460,460,458,457,457,457,457,457,457,456,456,456,456,454,454,454,453,453,453,452,452,451,450,449,449,436,432,431,429,429,429,428,427,426,425,425,424,424,423,423,423,422,422,422,421,421,421,420,420,420,420,420,420,420,420,419,418,418,418,418,418,417,417,417,417,417,417,416,416,415,415,415,415,415,415,415,415,415,415,414,414,414,414,413,413,413,413,413,413,413,412,412,412,412,412,412,412,412,411,411,411,411,410,410,410,410,409,409,408,408,408,408,407,407,407,407,406,406,406,406,405,405,405,405,405,405,405,404,404,404,404,404,404,404,404,403,403,403,403,403,402,402,402,402,402,402,402,401,401,401,401,401,401,401,400,400,400,400,400,400,399,399,399,399,398,398,398,398,398,398,398,398,397,397,397,397,397,397,397,397,397,397,396,396,396,396,395,395,394,394,394,394,394,393,393,392,392,392,392,391,391,391,391,390,390,389,388,388,387,387,387,385,383,383,382,379,373,372,360,355,341,340,340,337,334,333,332,332,331,331,331,331,330,330,330,330,329,328,328,328,328,328,327,327,327,327,327,327,326,325,325,324,324,324,323,323,323,323,323,323,322,322,322,321,320,320,320,320,320,320,320,320,320,320,320,320,320,319,319,319,318,318,318,318,318,318,318,317,317,317,317,317,317,317,317,316,316,316,316,316,316,316,316,315,315,315,315,315,315,315,315,315,314,314,314,314,314,314,314,314,313,313,313,313,313,313,313,313,313,312,312,312,312,311,311,311,311,311,311,311,310,310,310,310,310,310,310,309,309,309,309,309,308,308,308,308,307,307,307,307,307,307,307,307,306,306,306,306,306,306,306,306,306,305,305,305,305,304,303,303,302,302,302,302,302,302,301,301,300,300,300,300,300,299,299,299,298,298,297,297,297,296,296,296,296,295,294,294,293,293,292,290,289,281,220,219,210,209,207,207,207,207,206,206,206,206,205,204,204,204,204,204,203,203,203,202,201,200,199,199,199,199,199,199,198,198,198,198,198,197,197,197,197,197,196,196,196,195,195,195,195,195,194,194,194,194,194,194,194,194,193,193,193,193,192,192,192,192,192,192,192,192,192,191,191,191,191,191,191,191,191,190,190,190,190,190,190,190,190,190,189,189,189,189,189,189,188,188,188,188,188,188,187,187,187,187,186,186,186,186,186,186,185,185,185,185,185,185,185,185,185,184,184,184,184,184,184,184,184,184,184,183,183,183,183,183,183,183,183,183,183,183,182,182,182,182,182,182,182,182,181,181,181,181,181,181,181,181,180,180,180,180,179,179,179,179,178,178,178,178,178,178,177,177,177,177,177,177,176,176,175,175,175,175,175,174,174,174,174,174,174,174,174,174,174,173,173,173,172,172,172,171,171,170,169,168,168,167,166,166,166,166,165,162,157,155,14,12,12,12,11,11,11,10,10,10,10,9,9,8,7,5],\"xaxis\":\"x\",\"yaxis\":\"y\",\"type\":\"histogram\"}],                        {\"template\":{\"data\":{\"histogram2dcontour\":[{\"type\":\"histogram2dcontour\",\"colorbar\":{\"outlinewidth\":0,\"ticks\":\"\"},\"colorscale\":[[0.0,\"#0d0887\"],[0.1111111111111111,\"#46039f\"],[0.2222222222222222,\"#7201a8\"],[0.3333333333333333,\"#9c179e\"],[0.4444444444444444,\"#bd3786\"],[0.5555555555555556,\"#d8576b\"],[0.6666666666666666,\"#ed7953\"],[0.7777777777777778,\"#fb9f3a\"],[0.8888888888888888,\"#fdca26\"],[1.0,\"#f0f921\"]]}],\"choropleth\":[{\"type\":\"choropleth\",\"colorbar\":{\"outlinewidth\":0,\"ticks\":\"\"}}],\"histogram2d\":[{\"type\":\"histogram2d\",\"colorbar\":{\"outlinewidth\":0,\"ticks\":\"\"},\"colorscale\":[[0.0,\"#0d0887\"],[0.1111111111111111,\"#46039f\"],[0.2222222222222222,\"#7201a8\"],[0.3333333333333333,\"#9c179e\"],[0.4444444444444444,\"#bd3786\"],[0.5555555555555556,\"#d8576b\"],[0.6666666666666666,\"#ed7953\"],[0.7777777777777778,\"#fb9f3a\"],[0.8888888888888888,\"#fdca26\"],[1.0,\"#f0f921\"]]}],\"heatmap\":[{\"type\":\"heatmap\",\"colorbar\":{\"outlinewidth\":0,\"ticks\":\"\"},\"colorscale\":[[0.0,\"#0d0887\"],[0.1111111111111111,\"#46039f\"],[0.2222222222222222,\"#7201a8\"],[0.3333333333333333,\"#9c179e\"],[0.4444444444444444,\"#bd3786\"],[0.5555555555555556,\"#d8576b\"],[0.6666666666666666,\"#ed7953\"],[0.7777777777777778,\"#fb9f3a\"],[0.8888888888888888,\"#fdca26\"],[1.0,\"#f0f921\"]]}],\"heatmapgl\":[{\"type\":\"heatmapgl\",\"colorbar\":{\"outlinewidth\":0,\"ticks\":\"\"},\"colorscale\":[[0.0,\"#0d0887\"],[0.1111111111111111,\"#46039f\"],[0.2222222222222222,\"#7201a8\"],[0.3333333333333333,\"#9c179e\"],[0.4444444444444444,\"#bd3786\"],[0.5555555555555556,\"#d8576b\"],[0.6666666666666666,\"#ed7953\"],[0.7777777777777778,\"#fb9f3a\"],[0.8888888888888888,\"#fdca26\"],[1.0,\"#f0f921\"]]}],\"contourcarpet\":[{\"type\":\"contourcarpet\",\"colorbar\":{\"outlinewidth\":0,\"ticks\":\"\"}}],\"contour\":[{\"type\":\"contour\",\"colorbar\":{\"outlinewidth\":0,\"ticks\":\"\"},\"colorscale\":[[0.0,\"#0d0887\"],[0.1111111111111111,\"#46039f\"],[0.2222222222222222,\"#7201a8\"],[0.3333333333333333,\"#9c179e\"],[0.4444444444444444,\"#bd3786\"],[0.5555555555555556,\"#d8576b\"],[0.6666666666666666,\"#ed7953\"],[0.7777777777777778,\"#fb9f3a\"],[0.8888888888888888,\"#fdca26\"],[1.0,\"#f0f921\"]]}],\"surface\":[{\"type\":\"surface\",\"colorbar\":{\"outlinewidth\":0,\"ticks\":\"\"},\"colorscale\":[[0.0,\"#0d0887\"],[0.1111111111111111,\"#46039f\"],[0.2222222222222222,\"#7201a8\"],[0.3333333333333333,\"#9c179e\"],[0.4444444444444444,\"#bd3786\"],[0.5555555555555556,\"#d8576b\"],[0.6666666666666666,\"#ed7953\"],[0.7777777777777778,\"#fb9f3a\"],[0.8888888888888888,\"#fdca26\"],[1.0,\"#f0f921\"]]}],\"mesh3d\":[{\"type\":\"mesh3d\",\"colorbar\":{\"outlinewidth\":0,\"ticks\":\"\"}}],\"scatter\":[{\"fillpattern\":{\"fillmode\":\"overlay\",\"size\":10,\"solidity\":0.2},\"type\":\"scatter\"}],\"parcoords\":[{\"type\":\"parcoords\",\"line\":{\"colorbar\":{\"outlinewidth\":0,\"ticks\":\"\"}}}],\"scatterpolargl\":[{\"type\":\"scatterpolargl\",\"marker\":{\"colorbar\":{\"outlinewidth\":0,\"ticks\":\"\"}}}],\"bar\":[{\"error_x\":{\"color\":\"#2a3f5f\"},\"error_y\":{\"color\":\"#2a3f5f\"},\"marker\":{\"line\":{\"color\":\"#E5ECF6\",\"width\":0.5},\"pattern\":{\"fillmode\":\"overlay\",\"size\":10,\"solidity\":0.2}},\"type\":\"bar\"}],\"scattergeo\":[{\"type\":\"scattergeo\",\"marker\":{\"colorbar\":{\"outlinewidth\":0,\"ticks\":\"\"}}}],\"scatterpolar\":[{\"type\":\"scatterpolar\",\"marker\":{\"colorbar\":{\"outlinewidth\":0,\"ticks\":\"\"}}}],\"histogram\":[{\"marker\":{\"pattern\":{\"fillmode\":\"overlay\",\"size\":10,\"solidity\":0.2}},\"type\":\"histogram\"}],\"scattergl\":[{\"type\":\"scattergl\",\"marker\":{\"colorbar\":{\"outlinewidth\":0,\"ticks\":\"\"}}}],\"scatter3d\":[{\"type\":\"scatter3d\",\"line\":{\"colorbar\":{\"outlinewidth\":0,\"ticks\":\"\"}},\"marker\":{\"colorbar\":{\"outlinewidth\":0,\"ticks\":\"\"}}}],\"scattermapbox\":[{\"type\":\"scattermapbox\",\"marker\":{\"colorbar\":{\"outlinewidth\":0,\"ticks\":\"\"}}}],\"scatterternary\":[{\"type\":\"scatterternary\",\"marker\":{\"colorbar\":{\"outlinewidth\":0,\"ticks\":\"\"}}}],\"scattercarpet\":[{\"type\":\"scattercarpet\",\"marker\":{\"colorbar\":{\"outlinewidth\":0,\"ticks\":\"\"}}}],\"carpet\":[{\"aaxis\":{\"endlinecolor\":\"#2a3f5f\",\"gridcolor\":\"white\",\"linecolor\":\"white\",\"minorgridcolor\":\"white\",\"startlinecolor\":\"#2a3f5f\"},\"baxis\":{\"endlinecolor\":\"#2a3f5f\",\"gridcolor\":\"white\",\"linecolor\":\"white\",\"minorgridcolor\":\"white\",\"startlinecolor\":\"#2a3f5f\"},\"type\":\"carpet\"}],\"table\":[{\"cells\":{\"fill\":{\"color\":\"#EBF0F8\"},\"line\":{\"color\":\"white\"}},\"header\":{\"fill\":{\"color\":\"#C8D4E3\"},\"line\":{\"color\":\"white\"}},\"type\":\"table\"}],\"barpolar\":[{\"marker\":{\"line\":{\"color\":\"#E5ECF6\",\"width\":0.5},\"pattern\":{\"fillmode\":\"overlay\",\"size\":10,\"solidity\":0.2}},\"type\":\"barpolar\"}],\"pie\":[{\"automargin\":true,\"type\":\"pie\"}]},\"layout\":{\"autotypenumbers\":\"strict\",\"colorway\":[\"#636efa\",\"#EF553B\",\"#00cc96\",\"#ab63fa\",\"#FFA15A\",\"#19d3f3\",\"#FF6692\",\"#B6E880\",\"#FF97FF\",\"#FECB52\"],\"font\":{\"color\":\"#2a3f5f\"},\"hovermode\":\"closest\",\"hoverlabel\":{\"align\":\"left\"},\"paper_bgcolor\":\"white\",\"plot_bgcolor\":\"#E5ECF6\",\"polar\":{\"bgcolor\":\"#E5ECF6\",\"angularaxis\":{\"gridcolor\":\"white\",\"linecolor\":\"white\",\"ticks\":\"\"},\"radialaxis\":{\"gridcolor\":\"white\",\"linecolor\":\"white\",\"ticks\":\"\"}},\"ternary\":{\"bgcolor\":\"#E5ECF6\",\"aaxis\":{\"gridcolor\":\"white\",\"linecolor\":\"white\",\"ticks\":\"\"},\"baxis\":{\"gridcolor\":\"white\",\"linecolor\":\"white\",\"ticks\":\"\"},\"caxis\":{\"gridcolor\":\"white\",\"linecolor\":\"white\",\"ticks\":\"\"}},\"coloraxis\":{\"colorbar\":{\"outlinewidth\":0,\"ticks\":\"\"}},\"colorscale\":{\"sequential\":[[0.0,\"#0d0887\"],[0.1111111111111111,\"#46039f\"],[0.2222222222222222,\"#7201a8\"],[0.3333333333333333,\"#9c179e\"],[0.4444444444444444,\"#bd3786\"],[0.5555555555555556,\"#d8576b\"],[0.6666666666666666,\"#ed7953\"],[0.7777777777777778,\"#fb9f3a\"],[0.8888888888888888,\"#fdca26\"],[1.0,\"#f0f921\"]],\"sequentialminus\":[[0.0,\"#0d0887\"],[0.1111111111111111,\"#46039f\"],[0.2222222222222222,\"#7201a8\"],[0.3333333333333333,\"#9c179e\"],[0.4444444444444444,\"#bd3786\"],[0.5555555555555556,\"#d8576b\"],[0.6666666666666666,\"#ed7953\"],[0.7777777777777778,\"#fb9f3a\"],[0.8888888888888888,\"#fdca26\"],[1.0,\"#f0f921\"]],\"diverging\":[[0,\"#8e0152\"],[0.1,\"#c51b7d\"],[0.2,\"#de77ae\"],[0.3,\"#f1b6da\"],[0.4,\"#fde0ef\"],[0.5,\"#f7f7f7\"],[0.6,\"#e6f5d0\"],[0.7,\"#b8e186\"],[0.8,\"#7fbc41\"],[0.9,\"#4d9221\"],[1,\"#276419\"]]},\"xaxis\":{\"gridcolor\":\"white\",\"linecolor\":\"white\",\"ticks\":\"\",\"title\":{\"standoff\":15},\"zerolinecolor\":\"white\",\"automargin\":true,\"zerolinewidth\":2},\"yaxis\":{\"gridcolor\":\"white\",\"linecolor\":\"white\",\"ticks\":\"\",\"title\":{\"standoff\":15},\"zerolinecolor\":\"white\",\"automargin\":true,\"zerolinewidth\":2},\"scene\":{\"xaxis\":{\"backgroundcolor\":\"#E5ECF6\",\"gridcolor\":\"white\",\"linecolor\":\"white\",\"showbackground\":true,\"ticks\":\"\",\"zerolinecolor\":\"white\",\"gridwidth\":2},\"yaxis\":{\"backgroundcolor\":\"#E5ECF6\",\"gridcolor\":\"white\",\"linecolor\":\"white\",\"showbackground\":true,\"ticks\":\"\",\"zerolinecolor\":\"white\",\"gridwidth\":2},\"zaxis\":{\"backgroundcolor\":\"#E5ECF6\",\"gridcolor\":\"white\",\"linecolor\":\"white\",\"showbackground\":true,\"ticks\":\"\",\"zerolinecolor\":\"white\",\"gridwidth\":2}},\"shapedefaults\":{\"line\":{\"color\":\"#2a3f5f\"}},\"annotationdefaults\":{\"arrowcolor\":\"#2a3f5f\",\"arrowhead\":0,\"arrowwidth\":1},\"geo\":{\"bgcolor\":\"white\",\"landcolor\":\"#E5ECF6\",\"subunitcolor\":\"white\",\"showland\":true,\"showlakes\":true,\"lakecolor\":\"white\"},\"title\":{\"x\":0.05},\"mapbox\":{\"style\":\"light\"}}},\"xaxis\":{\"anchor\":\"y\",\"domain\":[0.0,1.0],\"title\":{\"text\":\"Number of Distinct Merchants visited\"}},\"yaxis\":{\"anchor\":\"x\",\"domain\":[0.0,1.0],\"title\":{\"text\":\"count\"}},\"legend\":{\"tracegroupgap\":0},\"title\":{\"text\":\"Distribution of Distinct Merchants Visited for each Unique Customer\"},\"barmode\":\"relative\"},                        {\"responsive\": true}                    ).then(function(){\n",
              "                            \n",
              "var gd = document.getElementById('93c9c631-f927-4e9f-80ae-6ac168003a92');\n",
              "var x = new MutationObserver(function (mutations, observer) {{\n",
              "        var display = window.getComputedStyle(gd).display;\n",
              "        if (!display || display === 'none') {{\n",
              "            console.log([gd, 'removed!']);\n",
              "            Plotly.purge(gd);\n",
              "            observer.disconnect();\n",
              "        }}\n",
              "}});\n",
              "\n",
              "// Listen for the removal of the full notebook cells\n",
              "var notebookContainer = gd.closest('#notebook-container');\n",
              "if (notebookContainer) {{\n",
              "    x.observe(notebookContainer, {childList: true});\n",
              "}}\n",
              "\n",
              "// Listen for the clearing of the current output cell\n",
              "var outputEl = gd.closest('.output');\n",
              "if (outputEl) {{\n",
              "    x.observe(outputEl, {childList: true});\n",
              "}}\n",
              "\n",
              "                        })                };                            </script>        </div>\n",
              "</body>\n",
              "</html>"
            ]
          },
          "metadata": {}
        }
      ],
      "source": [
        "import plotly.express as px\n",
        "\n",
        "# Get number of distinct merchants visited for each unique customer\n",
        "num_unique_merch = spark.sql(\"SELECT cust_id, COUNT(DISTINCT(merchant)) as num_unique_merchant \\\n",
        "FROM fraud GROUP BY cust_id ORDER BY num_unique_merchant DESC\").select(\"num_unique_merchant\").toPandas()\n",
        "\n",
        "# Plot the Histogram\n",
        "fig = px.histogram(num_unique_merch, \"num_unique_merchant\", \\\n",
        "                   title = \"Distribution of Distinct Merchants Visited for each Unique Customer\",\\\n",
        "                   labels = {\"num_unique_merchant\": \"Number of Distinct Merchants visited\"})\n",
        "fig.show()"
      ]
    },
    {
      "cell_type": "markdown",
      "metadata": {
        "id": "5pn7wpSODXll"
      },
      "source": [
        "Basically every customer has transacted with more than 100 different merchants. The histogram exhibits a pattern where the frequency decreases after each spike and there are multiple spikes. To further analyze the pattern of different number of merchants being visited, we plot a heat map of the total number of distinct merchants visited within each month and hour."
      ]
    },
    {
      "cell_type": "code",
      "execution_count": null,
      "metadata": {
        "colab": {
          "base_uri": "https://localhost:8080/",
          "height": 417
        },
        "id": "UAC4Z0n_Bueg",
        "outputId": "1a30f71c-b15e-476b-b28a-1a0e85c38f87"
      },
      "outputs": [
        {
          "output_type": "display_data",
          "data": {
            "text/html": [
              "<html>\n",
              "<head><meta charset=\"utf-8\" /></head>\n",
              "<body>\n",
              "    <div>            <script src=\"https://cdnjs.cloudflare.com/ajax/libs/mathjax/2.7.5/MathJax.js?config=TeX-AMS-MML_SVG\"></script><script type=\"text/javascript\">if (window.MathJax && window.MathJax.Hub && window.MathJax.Hub.Config) {window.MathJax.Hub.Config({SVG: {font: \"STIX-Web\"}});}</script>                <script type=\"text/javascript\">window.PlotlyConfig = {MathJaxConfig: 'local'};</script>\n",
              "        <script charset=\"utf-8\" src=\"https://cdn.plot.ly/plotly-2.24.1.min.js\"></script>                <div id=\"a3bcc65d-15ba-4fe9-b8bc-c1f1ce1ee5bf\" class=\"plotly-graph-div\" style=\"height:400px; width:1000px;\"></div>            <script type=\"text/javascript\">                                    window.PLOTLYENV=window.PLOTLYENV || {};                                    if (document.getElementById(\"a3bcc65d-15ba-4fe9-b8bc-c1f1ce1ee5bf\")) {                    Plotly.newPlot(                        \"a3bcc65d-15ba-4fe9-b8bc-c1f1ce1ee5bf\",                        [{\"coloraxis\":\"coloraxis\",\"name\":\"0\",\"x\":[0,1,2,3,4,5,6,7,8,9,10,11,12,13,14,15,16,17,18,19,20,21,22,23],\"y\":[6,7,8,9,10,11,12],\"z\":[[333,346,345,333,322,338,339,347,336,342,339,347,484,480,485,492,487,470,483,483,483,486,497,501],[425,423,418,415,417,417,417,422,422,410,423,423,548,540,550,539,535,537,540,545,543,535,556,552],[428,427,421,413,419,429,415,419,422,416,414,424,550,539,545,542,538,532,536,541,542,545,546,552],[411,423,412,404,415,413,417,420,411,410,417,423,533,535,531,521,533,538,540,526,532,527,546,545],[412,410,402,401,407,413,411,417,413,414,419,405,527,538,541,532,531,534,531,536,530,534,544,545],[410,411,416,413,407,416,412,405,412,412,417,413,538,533,534,530,531,528,527,534,536,533,542,546],[436,438,430,428,430,433,435,438,437,440,437,433,549,550,552,551,541,556,550,548,548,553,556,548]],\"type\":\"heatmap\",\"xaxis\":\"x\",\"yaxis\":\"y\",\"hovertemplate\":\"Hour: %{x}\\u003cbr\\u003eMonth: %{y}\\u003cbr\\u003eNumber of Distinct \\u003cbr\\u003e Merchants Transacted: %{z}\\u003cextra\\u003e\\u003c\\u002fextra\\u003e\"}],                        {\"template\":{\"data\":{\"histogram2dcontour\":[{\"type\":\"histogram2dcontour\",\"colorbar\":{\"outlinewidth\":0,\"ticks\":\"\"},\"colorscale\":[[0.0,\"#0d0887\"],[0.1111111111111111,\"#46039f\"],[0.2222222222222222,\"#7201a8\"],[0.3333333333333333,\"#9c179e\"],[0.4444444444444444,\"#bd3786\"],[0.5555555555555556,\"#d8576b\"],[0.6666666666666666,\"#ed7953\"],[0.7777777777777778,\"#fb9f3a\"],[0.8888888888888888,\"#fdca26\"],[1.0,\"#f0f921\"]]}],\"choropleth\":[{\"type\":\"choropleth\",\"colorbar\":{\"outlinewidth\":0,\"ticks\":\"\"}}],\"histogram2d\":[{\"type\":\"histogram2d\",\"colorbar\":{\"outlinewidth\":0,\"ticks\":\"\"},\"colorscale\":[[0.0,\"#0d0887\"],[0.1111111111111111,\"#46039f\"],[0.2222222222222222,\"#7201a8\"],[0.3333333333333333,\"#9c179e\"],[0.4444444444444444,\"#bd3786\"],[0.5555555555555556,\"#d8576b\"],[0.6666666666666666,\"#ed7953\"],[0.7777777777777778,\"#fb9f3a\"],[0.8888888888888888,\"#fdca26\"],[1.0,\"#f0f921\"]]}],\"heatmap\":[{\"type\":\"heatmap\",\"colorbar\":{\"outlinewidth\":0,\"ticks\":\"\"},\"colorscale\":[[0.0,\"#0d0887\"],[0.1111111111111111,\"#46039f\"],[0.2222222222222222,\"#7201a8\"],[0.3333333333333333,\"#9c179e\"],[0.4444444444444444,\"#bd3786\"],[0.5555555555555556,\"#d8576b\"],[0.6666666666666666,\"#ed7953\"],[0.7777777777777778,\"#fb9f3a\"],[0.8888888888888888,\"#fdca26\"],[1.0,\"#f0f921\"]]}],\"heatmapgl\":[{\"type\":\"heatmapgl\",\"colorbar\":{\"outlinewidth\":0,\"ticks\":\"\"},\"colorscale\":[[0.0,\"#0d0887\"],[0.1111111111111111,\"#46039f\"],[0.2222222222222222,\"#7201a8\"],[0.3333333333333333,\"#9c179e\"],[0.4444444444444444,\"#bd3786\"],[0.5555555555555556,\"#d8576b\"],[0.6666666666666666,\"#ed7953\"],[0.7777777777777778,\"#fb9f3a\"],[0.8888888888888888,\"#fdca26\"],[1.0,\"#f0f921\"]]}],\"contourcarpet\":[{\"type\":\"contourcarpet\",\"colorbar\":{\"outlinewidth\":0,\"ticks\":\"\"}}],\"contour\":[{\"type\":\"contour\",\"colorbar\":{\"outlinewidth\":0,\"ticks\":\"\"},\"colorscale\":[[0.0,\"#0d0887\"],[0.1111111111111111,\"#46039f\"],[0.2222222222222222,\"#7201a8\"],[0.3333333333333333,\"#9c179e\"],[0.4444444444444444,\"#bd3786\"],[0.5555555555555556,\"#d8576b\"],[0.6666666666666666,\"#ed7953\"],[0.7777777777777778,\"#fb9f3a\"],[0.8888888888888888,\"#fdca26\"],[1.0,\"#f0f921\"]]}],\"surface\":[{\"type\":\"surface\",\"colorbar\":{\"outlinewidth\":0,\"ticks\":\"\"},\"colorscale\":[[0.0,\"#0d0887\"],[0.1111111111111111,\"#46039f\"],[0.2222222222222222,\"#7201a8\"],[0.3333333333333333,\"#9c179e\"],[0.4444444444444444,\"#bd3786\"],[0.5555555555555556,\"#d8576b\"],[0.6666666666666666,\"#ed7953\"],[0.7777777777777778,\"#fb9f3a\"],[0.8888888888888888,\"#fdca26\"],[1.0,\"#f0f921\"]]}],\"mesh3d\":[{\"type\":\"mesh3d\",\"colorbar\":{\"outlinewidth\":0,\"ticks\":\"\"}}],\"scatter\":[{\"fillpattern\":{\"fillmode\":\"overlay\",\"size\":10,\"solidity\":0.2},\"type\":\"scatter\"}],\"parcoords\":[{\"type\":\"parcoords\",\"line\":{\"colorbar\":{\"outlinewidth\":0,\"ticks\":\"\"}}}],\"scatterpolargl\":[{\"type\":\"scatterpolargl\",\"marker\":{\"colorbar\":{\"outlinewidth\":0,\"ticks\":\"\"}}}],\"bar\":[{\"error_x\":{\"color\":\"#2a3f5f\"},\"error_y\":{\"color\":\"#2a3f5f\"},\"marker\":{\"line\":{\"color\":\"#E5ECF6\",\"width\":0.5},\"pattern\":{\"fillmode\":\"overlay\",\"size\":10,\"solidity\":0.2}},\"type\":\"bar\"}],\"scattergeo\":[{\"type\":\"scattergeo\",\"marker\":{\"colorbar\":{\"outlinewidth\":0,\"ticks\":\"\"}}}],\"scatterpolar\":[{\"type\":\"scatterpolar\",\"marker\":{\"colorbar\":{\"outlinewidth\":0,\"ticks\":\"\"}}}],\"histogram\":[{\"marker\":{\"pattern\":{\"fillmode\":\"overlay\",\"size\":10,\"solidity\":0.2}},\"type\":\"histogram\"}],\"scattergl\":[{\"type\":\"scattergl\",\"marker\":{\"colorbar\":{\"outlinewidth\":0,\"ticks\":\"\"}}}],\"scatter3d\":[{\"type\":\"scatter3d\",\"line\":{\"colorbar\":{\"outlinewidth\":0,\"ticks\":\"\"}},\"marker\":{\"colorbar\":{\"outlinewidth\":0,\"ticks\":\"\"}}}],\"scattermapbox\":[{\"type\":\"scattermapbox\",\"marker\":{\"colorbar\":{\"outlinewidth\":0,\"ticks\":\"\"}}}],\"scatterternary\":[{\"type\":\"scatterternary\",\"marker\":{\"colorbar\":{\"outlinewidth\":0,\"ticks\":\"\"}}}],\"scattercarpet\":[{\"type\":\"scattercarpet\",\"marker\":{\"colorbar\":{\"outlinewidth\":0,\"ticks\":\"\"}}}],\"carpet\":[{\"aaxis\":{\"endlinecolor\":\"#2a3f5f\",\"gridcolor\":\"white\",\"linecolor\":\"white\",\"minorgridcolor\":\"white\",\"startlinecolor\":\"#2a3f5f\"},\"baxis\":{\"endlinecolor\":\"#2a3f5f\",\"gridcolor\":\"white\",\"linecolor\":\"white\",\"minorgridcolor\":\"white\",\"startlinecolor\":\"#2a3f5f\"},\"type\":\"carpet\"}],\"table\":[{\"cells\":{\"fill\":{\"color\":\"#EBF0F8\"},\"line\":{\"color\":\"white\"}},\"header\":{\"fill\":{\"color\":\"#C8D4E3\"},\"line\":{\"color\":\"white\"}},\"type\":\"table\"}],\"barpolar\":[{\"marker\":{\"line\":{\"color\":\"#E5ECF6\",\"width\":0.5},\"pattern\":{\"fillmode\":\"overlay\",\"size\":10,\"solidity\":0.2}},\"type\":\"barpolar\"}],\"pie\":[{\"automargin\":true,\"type\":\"pie\"}]},\"layout\":{\"autotypenumbers\":\"strict\",\"colorway\":[\"#636efa\",\"#EF553B\",\"#00cc96\",\"#ab63fa\",\"#FFA15A\",\"#19d3f3\",\"#FF6692\",\"#B6E880\",\"#FF97FF\",\"#FECB52\"],\"font\":{\"color\":\"#2a3f5f\"},\"hovermode\":\"closest\",\"hoverlabel\":{\"align\":\"left\"},\"paper_bgcolor\":\"white\",\"plot_bgcolor\":\"#E5ECF6\",\"polar\":{\"bgcolor\":\"#E5ECF6\",\"angularaxis\":{\"gridcolor\":\"white\",\"linecolor\":\"white\",\"ticks\":\"\"},\"radialaxis\":{\"gridcolor\":\"white\",\"linecolor\":\"white\",\"ticks\":\"\"}},\"ternary\":{\"bgcolor\":\"#E5ECF6\",\"aaxis\":{\"gridcolor\":\"white\",\"linecolor\":\"white\",\"ticks\":\"\"},\"baxis\":{\"gridcolor\":\"white\",\"linecolor\":\"white\",\"ticks\":\"\"},\"caxis\":{\"gridcolor\":\"white\",\"linecolor\":\"white\",\"ticks\":\"\"}},\"coloraxis\":{\"colorbar\":{\"outlinewidth\":0,\"ticks\":\"\"}},\"colorscale\":{\"sequential\":[[0.0,\"#0d0887\"],[0.1111111111111111,\"#46039f\"],[0.2222222222222222,\"#7201a8\"],[0.3333333333333333,\"#9c179e\"],[0.4444444444444444,\"#bd3786\"],[0.5555555555555556,\"#d8576b\"],[0.6666666666666666,\"#ed7953\"],[0.7777777777777778,\"#fb9f3a\"],[0.8888888888888888,\"#fdca26\"],[1.0,\"#f0f921\"]],\"sequentialminus\":[[0.0,\"#0d0887\"],[0.1111111111111111,\"#46039f\"],[0.2222222222222222,\"#7201a8\"],[0.3333333333333333,\"#9c179e\"],[0.4444444444444444,\"#bd3786\"],[0.5555555555555556,\"#d8576b\"],[0.6666666666666666,\"#ed7953\"],[0.7777777777777778,\"#fb9f3a\"],[0.8888888888888888,\"#fdca26\"],[1.0,\"#f0f921\"]],\"diverging\":[[0,\"#8e0152\"],[0.1,\"#c51b7d\"],[0.2,\"#de77ae\"],[0.3,\"#f1b6da\"],[0.4,\"#fde0ef\"],[0.5,\"#f7f7f7\"],[0.6,\"#e6f5d0\"],[0.7,\"#b8e186\"],[0.8,\"#7fbc41\"],[0.9,\"#4d9221\"],[1,\"#276419\"]]},\"xaxis\":{\"gridcolor\":\"white\",\"linecolor\":\"white\",\"ticks\":\"\",\"title\":{\"standoff\":15},\"zerolinecolor\":\"white\",\"automargin\":true,\"zerolinewidth\":2},\"yaxis\":{\"gridcolor\":\"white\",\"linecolor\":\"white\",\"ticks\":\"\",\"title\":{\"standoff\":15},\"zerolinecolor\":\"white\",\"automargin\":true,\"zerolinewidth\":2},\"scene\":{\"xaxis\":{\"backgroundcolor\":\"#E5ECF6\",\"gridcolor\":\"white\",\"linecolor\":\"white\",\"showbackground\":true,\"ticks\":\"\",\"zerolinecolor\":\"white\",\"gridwidth\":2},\"yaxis\":{\"backgroundcolor\":\"#E5ECF6\",\"gridcolor\":\"white\",\"linecolor\":\"white\",\"showbackground\":true,\"ticks\":\"\",\"zerolinecolor\":\"white\",\"gridwidth\":2},\"zaxis\":{\"backgroundcolor\":\"#E5ECF6\",\"gridcolor\":\"white\",\"linecolor\":\"white\",\"showbackground\":true,\"ticks\":\"\",\"zerolinecolor\":\"white\",\"gridwidth\":2}},\"shapedefaults\":{\"line\":{\"color\":\"#2a3f5f\"}},\"annotationdefaults\":{\"arrowcolor\":\"#2a3f5f\",\"arrowhead\":0,\"arrowwidth\":1},\"geo\":{\"bgcolor\":\"white\",\"landcolor\":\"#E5ECF6\",\"subunitcolor\":\"white\",\"showland\":true,\"showlakes\":true,\"lakecolor\":\"white\"},\"title\":{\"x\":0.05},\"mapbox\":{\"style\":\"light\"}}},\"xaxis\":{\"anchor\":\"y\",\"domain\":[0.0,1.0],\"scaleanchor\":\"y\",\"constrain\":\"domain\",\"title\":{\"text\":\"Hour\"}},\"yaxis\":{\"anchor\":\"x\",\"domain\":[0.0,1.0],\"autorange\":\"reversed\",\"constrain\":\"domain\",\"title\":{\"text\":\"Month\"}},\"coloraxis\":{\"colorbar\":{\"title\":{\"text\":\"Number of Distinct \\u003cbr\\u003e Merchants Transacted\"}},\"colorscale\":[[0.0,\"#0d0887\"],[0.1111111111111111,\"#46039f\"],[0.2222222222222222,\"#7201a8\"],[0.3333333333333333,\"#9c179e\"],[0.4444444444444444,\"#bd3786\"],[0.5555555555555556,\"#d8576b\"],[0.6666666666666666,\"#ed7953\"],[0.7777777777777778,\"#fb9f3a\"],[0.8888888888888888,\"#fdca26\"],[1.0,\"#f0f921\"]]},\"title\":{\"text\":\"Number of Distinct Merchants \\u003cbr\\u003e Transacted during different \\u003cbr\\u003e  Months & Hours\"},\"width\":1000,\"height\":400},                        {\"responsive\": true}                    ).then(function(){\n",
              "                            \n",
              "var gd = document.getElementById('a3bcc65d-15ba-4fe9-b8bc-c1f1ce1ee5bf');\n",
              "var x = new MutationObserver(function (mutations, observer) {{\n",
              "        var display = window.getComputedStyle(gd).display;\n",
              "        if (!display || display === 'none') {{\n",
              "            console.log([gd, 'removed!']);\n",
              "            Plotly.purge(gd);\n",
              "            observer.disconnect();\n",
              "        }}\n",
              "}});\n",
              "\n",
              "// Listen for the removal of the full notebook cells\n",
              "var notebookContainer = gd.closest('#notebook-container');\n",
              "if (notebookContainer) {{\n",
              "    x.observe(notebookContainer, {childList: true});\n",
              "}}\n",
              "\n",
              "// Listen for the clearing of the current output cell\n",
              "var outputEl = gd.closest('.output');\n",
              "if (outputEl) {{\n",
              "    x.observe(outputEl, {childList: true});\n",
              "}}\n",
              "\n",
              "                        })                };                            </script>        </div>\n",
              "</body>\n",
              "</html>"
            ]
          },
          "metadata": {}
        }
      ],
      "source": [
        "# Get the number of distinct merchants visited by all customers within each month\n",
        "# and hour\n",
        "Month_hour_merch = spark.sql(\"SELECT M.Month, M.Hour, COUNT(DISTINCT(M.merchant)) AS num_unique_merch \\\n",
        "FROM (SELECT merchant, MONTH(trans_date_trans_time) AS Month, HOUR(trans_date_trans_time) \\\n",
        "AS Hour FROM fraud) M GROUP BY M.Month, M.Hour\").toPandas()\n",
        "\n",
        "# Plot the Heatmap\n",
        "df = Month_hour_merch.pivot(index = \"Month\", columns = \"Hour\")[\"num_unique_merch\"]\n",
        "\n",
        "fig = px.imshow(df, x=df.columns, y = df.index, \\\n",
        "                labels = dict(color = \"Number of Distinct <br> Merchants Transacted\"),\\\n",
        "                title = \"Number of Distinct Merchants <br> Transacted during different <br>  Months & Hours\")\n",
        "fig.update_layout(width=1000, height=400)\n",
        "fig.show()"
      ]
    },
    {
      "cell_type": "markdown",
      "metadata": {
        "id": "Q_QhYM7faYsO"
      },
      "source": [
        "There is a clear symmetry in the heatmap showing that the number of distinct merchants transacted increases by a huge amount during hour 12 and after, regardless of month. The solid color before (purple) and after (yellow) hour 12 shows that the number of distinct merchants transacted stays consistent throughout the hours and only depends on before or after hour 12. Before hour 12 there is around 400 different merchants transacted regardless of month (except june because it has very little transactions) and after hour 12 there is around 500 different merchants transacted. Since during and after hour 12, there are 100 more merchants that are possible to transact with, the expected payout of fraud could increase.\n",
        "\n",
        "To confirm if exposing to more merchants increases our expected payout of fraud, we plot histograms of expected fraud amount for before and after hour 12. The expected fraud amount for each merchant is the probability of fraud times the total amount of fraud transactions."
      ]
    },
    {
      "cell_type": "code",
      "execution_count": null,
      "metadata": {
        "colab": {
          "base_uri": "https://localhost:8080/",
          "height": 617
        },
        "id": "gQ24GWhajOxz",
        "outputId": "47f7d6c5-11dd-4a65-d9bc-8c52008d761d"
      },
      "outputs": [
        {
          "output_type": "display_data",
          "data": {
            "text/html": [
              "<html>\n",
              "<head><meta charset=\"utf-8\" /></head>\n",
              "<body>\n",
              "    <div>            <script src=\"https://cdnjs.cloudflare.com/ajax/libs/mathjax/2.7.5/MathJax.js?config=TeX-AMS-MML_SVG\"></script><script type=\"text/javascript\">if (window.MathJax && window.MathJax.Hub && window.MathJax.Hub.Config) {window.MathJax.Hub.Config({SVG: {font: \"STIX-Web\"}});}</script>                <script type=\"text/javascript\">window.PlotlyConfig = {MathJaxConfig: 'local'};</script>\n",
              "        <script charset=\"utf-8\" src=\"https://cdn.plot.ly/plotly-2.24.1.min.js\"></script>                <div id=\"a8382f3b-8cf4-4a60-ab47-b0a111ee6441\" class=\"plotly-graph-div\" style=\"height:600px; width:1000px;\"></div>            <script type=\"text/javascript\">                                    window.PLOTLYENV=window.PLOTLYENV || {};                                    if (document.getElementById(\"a8382f3b-8cf4-4a60-ab47-b0a111ee6441\")) {                    Plotly.newPlot(                        \"a8382f3b-8cf4-4a60-ab47-b0a111ee6441\",                        [{\"histnorm\":\"probability density\",\"name\":\"before hour 12\",\"x\":[25.007342386032978,11.003976261127598,0.07490987124463519,2.37244776119403,0.020382653061224488,0.35144404332129964,0.006935763888888889,2.6421747765640515,23.075983827493264,34.59247895229186,0.07464319695528068,0.04382003395585738,7.768719346049045,0.02808857808857809,0.021806615776081426,3.5258823529411765,0.07939086294416244,0.030835380835380836,43.53791271347249,9.69037634408602,15.946722488038278,0.034326424870466325,2.7022067039106146,0.31982024597918646,0.717354781054513,1.8757667386609074,0.024807197943444728,10.45460564751704,9.70198347107438,6.629017857142857,0.2505,0.08321329639889197,1.9768988764044946,13.079936507936509,0.03618965517241379,8.693856812933024,0.12056994818652852,0.11162671232876711,0.019945945945945946,29.307692307692307,0.05355072463768116,30.143940886699507,0.023114355231143552,0.022331730769230767,3.1844444444444444,0.11393643031784842,19.845968992248064,7.57714953271028,18.687575757575758,14.492064516129036,19.94105682951146,0.02937669376693767,3.7506493506493506,10.610639534883722,6.485120350109408,3.5400694444444443,74.37474173553719,10.525971943887777,2.3834733893557423,0.0770292504570384,0.031072386058981234,7.454976958525346,0.03429840142095915,0.029697493517718238,1.9194772727272726,16.245401459854012,9.261449275362319,0.04128,31.04944612286002,28.472861538461544,0.04311572700296736,17.972067039106147,0.03574074074074074,2.894466858789625,7.5893212669683265,36.978524124881744,7.69873417721519,14.980851063829789,16.1045,6.873150684931507,0.05029385574354407,0.12773684210526315,0.25208888888888886,2.27648,15.702317813765186,44.55907780979827,2.5495663956639567,0.056636197440585005,18.04228832951945,1.8896401028277634,0.013250214961306964,24.9051404494382,0.03828371278458844,19.582840352595497,19.70408357075024,4.283484848484848,22.82179746835443,0.12223292469352015,1.7812738853503185,1.5857739557739556,7.578988505747126,30.246529080675423,7.724716981132074,1.8105785123966944,16.44210295728368,0.2281429816913688,8.13007371007371,4.623132075471698,0.02440963855421687,1.221609195402299,4.004360902255639,11.373913043478261,0.13148861646234675,1.7774220963172804,7.298240740740741,23.15224,24.616964112512118,1.8247837150127229,7.673303571428571,0.08501757469244288,11.727390029325512,1.917135922330097,4.8460546875,0.03341523341523341,37.70234225621415,34.15341523341523,2.6126785714285714,19.098750000000003,9.485078534031414,2.031030150753769,0.02146095717884131,24.308440191387557,3.2916524216524214,0.025807590467784646,16.364798206278028,1.6178658536585369,1.344243119266055,1.8558765432098765,1.0982608695652174,0.21834960070984918,0.008035555555555554,1.7555231143552312,1.1963333333333335,0.09375332741792368,53.526160804020094,11.18134268537074,1.4996428571428573,10.989235294117647,9.062479784366577,9.188467532467532,14.603212290502794,11.653753943217666,0.009745166959578206,14.7312676056338,11.773123209169054,15.597818181818184,0.025782828282828286,3.909924812030075,2.1573629242819843,0.02703896103896104,2.0238693467336684,1.339397590361446,29.483205374280224,1.6881015452538632,1.9836138613861387,2.0675797872340422,2.8951081081081083,0.00684870188003581,0.015598885793871866,10.410654028436019,26.692909090909087,0.8791846921797005,9.285411140583555,0.18562043795620436,11.002994350282487,3.419935483870968,0.06797640653357531,0.037526315789473685,7.607268951194184,1.5739080459770116,16.622643171806168,11.07485549132948,0.03535353535353536,0.03274061990212072,0.24504906333630685,0.02373205741626794,0.02309659090909091,25.964912790697674,0.21066430469441985,8.910879120879121,15.115714285714283,1.6288524590163933,1.7512555066079298,0.016961722488038275,0.06335371179039301,2.69,0.1443076923076923,2.804005681818182,25.557499999999997,0.03823671497584541,29.556374999999996,0.022367758186397985,43.22280442804428,0.03488536155202822,6.78125,0.10542234332425067,6.426425339366516,10.339416445623343,0.4812188612099644,42.535865633074934,1.9836604774535809,0.9866116751269035,4.1289447236180905,22.15997409326425,1.8019730941704035,0.20690541781450872,2.781243386243386,1.9077777777777776,1.721922077922078,1.9566898148148146,0.012541436464088397,22.33591836734694,8.053718244803695,1.31,7.319168704156479,14.035763033175357,0.07942992874109263,1.7022636815920396,2.692953216374269,2.1732352941176467,4.367575757575757,3.107883008356546,0.037766497461928936,1.7187323943661972,6.489397590361446,2.8807062146892655,7.0626388888888885,1.9316114790286976,12.649647058823529,30.455515695067263,10.998677248677248,0.02861788617886179,0.02577127659574468,25.366380368098156,0.129136690647482,0.09307964601769912,10.709356725146199,26.08028571428572,0.030207394048692514,7.560043956043956,11.619516441005803,3.0029737609329445,3.1518361581920904,2.4393565683646115,34.660160226201704,2.1135937499999997,15.941221945137157,0.07286828422876951,18.559177570093457,0.019043715846994536,0.038564476885644766,0.651350626118068,1.9647368421052631,0.023385012919896645,18.012150537634408,10.2658310626703,7.274699331848552,3.000428571428572,2.284128878281623,0.1652061855670103,1.3587049399198932,0.2650125944584383,0.06425531914893617],\"type\":\"histogram\"},{\"histnorm\":\"probability density\",\"name\":\"after hour 12\",\"opacity\":0.5,\"x\":[0.14169252468265162,0.11348837209302326,51.663199999999996,277.6494163424125,0.7360719874804382,0.25187671232876707,0.16437424058323205,127.95752665245203,0.24158301158301157,183.75573913043482,64.93318965517241,0.17984415584415586,23.415517774343122,437.2361111111112,3.0055216693418942,0.017915407854984893,55.8295652173913,10.803598820058998,0.8261037037037037,0.4722222222222222,0.025948275862068965,39.45574324324324,21.63927382753404,0.03432692307692308,0.1979622641509434,48.41312026913373,15.701,0.02119597989949749,98.11031185031186,60.518205128205125,0.1014795244385733,0.2599715370018975,0.02322802197802198,0.4158269720101781,0.24328205128205127,0.025876623376623376,0.21538922155688622,132.8436363636364,0.15527777777777776,0.18500479386385424,0.028869209809264305,2.226153091265947,0.2114299424184261,1.4508252427184467,0.10573099415204677,142.2465,118.12036363636363,21.195210355987054,0.027362045760430685,90.03179650238474,100.73995815899582,35.20176174496645,26.030085470085474,0.1747949080622348,5.961043771043771,0.22182509505703424,0.09651612903225806,6.4959502664298405,179.32999999999998,0.22566831683168317,0.16537062937062935,0.08643874643874644,26.70357142857143,13.963999999999999,0.03917602996254682,5.658768718801997,0.02830721003134796,7.629885877318117,0.08165966386554623,0.028920454545454544,0.26582608695652177,68.06724770642201,3.0417251461988304,0.16248387096774192,13.820416666666667,0.23592836946277096,0.022160243407707912,0.7675949367088608,164.7909090909091,0.023652694610778447,53.09680616740089,0.18134969325153374,37.40286677908937,153.55714285714285,0.09139852786540482,0.023980582524271845,18.06190476190476,59.131428571428565,0.10582781456953642,0.9096627565982405,0.18378890392422192,248.10678861788617,0.3897554347826087,0.026228070175438593,0.02090631364562118,138.43636363636364,0.2514115308151093,328.77987096774194,0.8186829268292684,131.88832000000002,46.39357142857143,1.1872231404958677,0.022768240343347637,382.9126666666667,15.9635,72.43806122448979,131.1619417475728,1.2947677725118485,107.18307692307692,0.06681528662420382,0.34990536277602524,0.9833914728682169,0.005189504373177843,0.02270053475935829,0.030141043723554303,0.17808080808080806,23.881098546042,0.03596330275229358,0.0268,0.16071895424836602,361.6826434426229,394.3337142857143,0.11774524158125915,74.80366666666666,0.02126144455747711,0.2521359223300971,0.17432624113475176,205.2473577235772,0.8326395173453996,0.023362282878411907,305.34088050314466,0.11346478873239438,0.2817575187969925,252.15545454545455,0.1622875816993464,0.6580028129395218,0.7254220314735336,0.9006376360808709,0.0360709219858156,0.02614723926380368,55.12818181818183,14.0,0.060652709359605914,2.4156842105263157,0.6123052959501558,10.530192616372391,0.10295039164490861,0.8888610038610038,0.9652071005917161,0.8141209302325582,0.08834549878345499,170.57699115044247,0.20989942528735633,57.08008064516129,6.093861066235865,1.6133040421792617,0.6716477272727274,10.708214285714284,266.841308411215,87.25451612903225,0.09012578616352201,2.22073703366697,24.769333333333336,0.36,204.01166666666666,2.5945339652448656,1.898950276243094,0.029463768115942028,71.99749999999999,0.16327298050139277,0.020861568247821878,0.026195965417867433,0.3406578947368421,51.40941883767535,0.7651574212893553,16.947,0.7896798493408662,133.24809815950923,0.8643701399688958,0.0792749244712991,58.91659574468085,377.27825242718444,0.0954494382022472,51.13147773279352,0.18763085399449037,0.08628511966701354,11.796,0.19205344585091422,0.6242236024844721,0.025875776397515527,0.01721887550200803,0.02146417445482866,168.21434426229507,78.13356984478936,1.517130434782609,6.901983870967742,0.17332007952286282,0.20000925925925925,51.343333333333334,2.305214007782101,105.26989224137931,7.806956521739131,1.1473514431239389,207.1833333333333,0.23002906976744183,32.62107883817427,0.8714426877470355,0.22014367816091954,11.306923076923079,13.388373287671232,102.40063872255487,0.2607792207792208,2.8524720893141944,14.85057894736842,0.7592284866468844,544.1322755741127,20.833333333333332,0.03132142857142857,0.34531746031746036,167.04508928571428,36.24505747126437,642.28991902834,0.034030418250950566,0.1797080291970803,155.01283950617284,0.09380710659898477,0.6582666666666668,0.17589211618257264,0.02329936305732484,2.094587332053743,1.7925,0.5786526946107785,0.08330920372285419,0.02654126213592233,15.451666666666666,0.7291336270190896,0.9196681096681097,63.30380952380953,0.034933687002652515,62.10857142857142,0.8268767908309455,76.58535211267606,0.031768707482993194,11.418518518518518,0.030382978723404258,0.1845980707395498,0.027194805194805195,11.807562111801243,16.298235294117646,0.2387198515769944,0.01978505629477994,0.029103078982597053,0.39690789473684207,0.03047554347826087,163.26307847082495,3.5708868501529047,154.5898947368421,32.96142857142857,5.260562390158173,6.546459016393443,0.023244837758112095,0.014410958904109589,13.128890701468189,0.026572827417380658,0.11086842105263159,0.22022091310751105,0.09154724818276219,35.13021739130435,13.327207792207792,0.20557964184731387,0.7867381974248926,0.019918032786885247,3.2408908045977007,92.45189409368635,36.181152647975075,0.04637401229148376,450.11336116910223,60.905,0.08526539278131634,11.230118644067797,0.13900128040973111,310.64633484162897,0.022740740740740742,0.023825079030558482,1.019493670886076,0.022880215343203232,0.07447524752475247,0.37658385093167696,1.6873397435897437,319.8269230769231,0.11994565217391304,0.6712242090784044,0.028326848249027235,0.18882096069868998,0.11543352601156068,55.9724358974359,30.41051724137931,0.03082058414464534,0.24148395721925134,0.017466110531803962,0.0212846865364851,0.17032904148783978,28.873597122302158,0.1539541547277937,0.03091176470588235,61.61099999999999,0.030370860927152316,0.7276502732240437,0.4149125168236878,13.184084507042254,0.17797250859106528,86.07136363636363,16.648888888888887,93.65957915831663,116.56581196581197,0.18911157024793387,0.024657534246575342,8.055204081632652,0.17251063829787236,0.0235625,0.40254295532646045,0.02784313725490196,0.10030985915492958,288.80469184890654,0.02702702702702703,0.025851648351648354,0.15754176610978518,0.6600318979266347,0.2090577889447236,12.683726907630522,15.830588235294117,0.17535871156661786,0.09916442048517522,2.7558599695585992,14.581904761904763,54.15277955271566,165.0404705882353,0.020200573065902578,394.4681481481481,0.17259624876604143,34.071465517241386,231.53418891170438,0.25902985074626866,404.49688172043017,0.02823848238482385,0.01141141141141141,517.3079107505072,1.1899426934097421,11.321914556962025,0.02233974358974359,0.02647260273972603,109.87462482946795,0.017940573770491807,13.62414309484193,6.6402006688963215,315.12662264150947,111.04645161290323,1.0738579654510556,21.45310559006211,0.24052044609665427,138.09802575107298,81.31048648648648,36.66806930693069,0.11891156462585034,0.025833333333333333,7.370102040816326,35.78588770864947,0.017711088504577824,53.46012526096034,0.146560773480663,0.7243639053254438,0.1509423347398031,89.29210950080515,0.019260020554984582,0.17126822157434402,139.6151011235955,265.8761538461539,13.007916666666667,0.15084931506849317,0.8165365853658537,0.09899045020463848,5.414364820846906,8.352424242424243,171.8765478841871,0.030940397350993378,0.11968503937007874,0.17011494252873563,0.029729032258064517,18.185900621118012,75.74666666666666,197.31303501945524,0.8315477996965099,0.11165217391304347,297.73276595744676,75.15970588235295,317.37612903225806,0.11470744680851062,0.027795918367346937,131.775,0.062068965517241385,157.99581818181818,0.02948787061994609,9.125572232645405,0.02231335436382755,112.09652007648182,0.027277289836888326,32.05689320388349,0.20508196721311478,13.97142857142857,74.66415254237289,0.11968295904887714,111.19064377682405,14.575228426395938,75.36,0.024100000000000003,397.5769000000001,126.33782608695651,0.4069631512071156,0.022413793103448276,0.023426183844011142,0.026652719665271964,0.0705430463576159,3.5136549165120594,0.251945788964182,0.17856643356643356,126.21592233009707,0.17147260273972603,0.6961019490254873,0.9665408805031448,738.1888888888888,36.34590834697217,0.6144144144144144,0.8855268022181145,129.01512195121953,0.02649700598802395,88.65724137931034,0.028468965517241377,70.41531152647975,4.176321195144725,0.022817679558011048,250.5672655217966,1.3072854291417166,108.94234234234233,1.0289970208540218,0.027728459530026107,50.88755980861244,0.10875],\"type\":\"histogram\"}],                        {\"barmode\":\"overlay\",\"title\":{\"text\":\"Probability Distribution of Expected Fraud Amount Before\\u002fAfter Hour 12\"},\"xaxis\":{\"title\":{\"text\":\"Expected Fraud\"}},\"template\":{\"data\":{\"histogram2dcontour\":[{\"type\":\"histogram2dcontour\",\"colorbar\":{\"outlinewidth\":0,\"ticks\":\"\"},\"colorscale\":[[0.0,\"#0d0887\"],[0.1111111111111111,\"#46039f\"],[0.2222222222222222,\"#7201a8\"],[0.3333333333333333,\"#9c179e\"],[0.4444444444444444,\"#bd3786\"],[0.5555555555555556,\"#d8576b\"],[0.6666666666666666,\"#ed7953\"],[0.7777777777777778,\"#fb9f3a\"],[0.8888888888888888,\"#fdca26\"],[1.0,\"#f0f921\"]]}],\"choropleth\":[{\"type\":\"choropleth\",\"colorbar\":{\"outlinewidth\":0,\"ticks\":\"\"}}],\"histogram2d\":[{\"type\":\"histogram2d\",\"colorbar\":{\"outlinewidth\":0,\"ticks\":\"\"},\"colorscale\":[[0.0,\"#0d0887\"],[0.1111111111111111,\"#46039f\"],[0.2222222222222222,\"#7201a8\"],[0.3333333333333333,\"#9c179e\"],[0.4444444444444444,\"#bd3786\"],[0.5555555555555556,\"#d8576b\"],[0.6666666666666666,\"#ed7953\"],[0.7777777777777778,\"#fb9f3a\"],[0.8888888888888888,\"#fdca26\"],[1.0,\"#f0f921\"]]}],\"heatmap\":[{\"type\":\"heatmap\",\"colorbar\":{\"outlinewidth\":0,\"ticks\":\"\"},\"colorscale\":[[0.0,\"#0d0887\"],[0.1111111111111111,\"#46039f\"],[0.2222222222222222,\"#7201a8\"],[0.3333333333333333,\"#9c179e\"],[0.4444444444444444,\"#bd3786\"],[0.5555555555555556,\"#d8576b\"],[0.6666666666666666,\"#ed7953\"],[0.7777777777777778,\"#fb9f3a\"],[0.8888888888888888,\"#fdca26\"],[1.0,\"#f0f921\"]]}],\"heatmapgl\":[{\"type\":\"heatmapgl\",\"colorbar\":{\"outlinewidth\":0,\"ticks\":\"\"},\"colorscale\":[[0.0,\"#0d0887\"],[0.1111111111111111,\"#46039f\"],[0.2222222222222222,\"#7201a8\"],[0.3333333333333333,\"#9c179e\"],[0.4444444444444444,\"#bd3786\"],[0.5555555555555556,\"#d8576b\"],[0.6666666666666666,\"#ed7953\"],[0.7777777777777778,\"#fb9f3a\"],[0.8888888888888888,\"#fdca26\"],[1.0,\"#f0f921\"]]}],\"contourcarpet\":[{\"type\":\"contourcarpet\",\"colorbar\":{\"outlinewidth\":0,\"ticks\":\"\"}}],\"contour\":[{\"type\":\"contour\",\"colorbar\":{\"outlinewidth\":0,\"ticks\":\"\"},\"colorscale\":[[0.0,\"#0d0887\"],[0.1111111111111111,\"#46039f\"],[0.2222222222222222,\"#7201a8\"],[0.3333333333333333,\"#9c179e\"],[0.4444444444444444,\"#bd3786\"],[0.5555555555555556,\"#d8576b\"],[0.6666666666666666,\"#ed7953\"],[0.7777777777777778,\"#fb9f3a\"],[0.8888888888888888,\"#fdca26\"],[1.0,\"#f0f921\"]]}],\"surface\":[{\"type\":\"surface\",\"colorbar\":{\"outlinewidth\":0,\"ticks\":\"\"},\"colorscale\":[[0.0,\"#0d0887\"],[0.1111111111111111,\"#46039f\"],[0.2222222222222222,\"#7201a8\"],[0.3333333333333333,\"#9c179e\"],[0.4444444444444444,\"#bd3786\"],[0.5555555555555556,\"#d8576b\"],[0.6666666666666666,\"#ed7953\"],[0.7777777777777778,\"#fb9f3a\"],[0.8888888888888888,\"#fdca26\"],[1.0,\"#f0f921\"]]}],\"mesh3d\":[{\"type\":\"mesh3d\",\"colorbar\":{\"outlinewidth\":0,\"ticks\":\"\"}}],\"scatter\":[{\"fillpattern\":{\"fillmode\":\"overlay\",\"size\":10,\"solidity\":0.2},\"type\":\"scatter\"}],\"parcoords\":[{\"type\":\"parcoords\",\"line\":{\"colorbar\":{\"outlinewidth\":0,\"ticks\":\"\"}}}],\"scatterpolargl\":[{\"type\":\"scatterpolargl\",\"marker\":{\"colorbar\":{\"outlinewidth\":0,\"ticks\":\"\"}}}],\"bar\":[{\"error_x\":{\"color\":\"#2a3f5f\"},\"error_y\":{\"color\":\"#2a3f5f\"},\"marker\":{\"line\":{\"color\":\"#E5ECF6\",\"width\":0.5},\"pattern\":{\"fillmode\":\"overlay\",\"size\":10,\"solidity\":0.2}},\"type\":\"bar\"}],\"scattergeo\":[{\"type\":\"scattergeo\",\"marker\":{\"colorbar\":{\"outlinewidth\":0,\"ticks\":\"\"}}}],\"scatterpolar\":[{\"type\":\"scatterpolar\",\"marker\":{\"colorbar\":{\"outlinewidth\":0,\"ticks\":\"\"}}}],\"histogram\":[{\"marker\":{\"pattern\":{\"fillmode\":\"overlay\",\"size\":10,\"solidity\":0.2}},\"type\":\"histogram\"}],\"scattergl\":[{\"type\":\"scattergl\",\"marker\":{\"colorbar\":{\"outlinewidth\":0,\"ticks\":\"\"}}}],\"scatter3d\":[{\"type\":\"scatter3d\",\"line\":{\"colorbar\":{\"outlinewidth\":0,\"ticks\":\"\"}},\"marker\":{\"colorbar\":{\"outlinewidth\":0,\"ticks\":\"\"}}}],\"scattermapbox\":[{\"type\":\"scattermapbox\",\"marker\":{\"colorbar\":{\"outlinewidth\":0,\"ticks\":\"\"}}}],\"scatterternary\":[{\"type\":\"scatterternary\",\"marker\":{\"colorbar\":{\"outlinewidth\":0,\"ticks\":\"\"}}}],\"scattercarpet\":[{\"type\":\"scattercarpet\",\"marker\":{\"colorbar\":{\"outlinewidth\":0,\"ticks\":\"\"}}}],\"carpet\":[{\"aaxis\":{\"endlinecolor\":\"#2a3f5f\",\"gridcolor\":\"white\",\"linecolor\":\"white\",\"minorgridcolor\":\"white\",\"startlinecolor\":\"#2a3f5f\"},\"baxis\":{\"endlinecolor\":\"#2a3f5f\",\"gridcolor\":\"white\",\"linecolor\":\"white\",\"minorgridcolor\":\"white\",\"startlinecolor\":\"#2a3f5f\"},\"type\":\"carpet\"}],\"table\":[{\"cells\":{\"fill\":{\"color\":\"#EBF0F8\"},\"line\":{\"color\":\"white\"}},\"header\":{\"fill\":{\"color\":\"#C8D4E3\"},\"line\":{\"color\":\"white\"}},\"type\":\"table\"}],\"barpolar\":[{\"marker\":{\"line\":{\"color\":\"#E5ECF6\",\"width\":0.5},\"pattern\":{\"fillmode\":\"overlay\",\"size\":10,\"solidity\":0.2}},\"type\":\"barpolar\"}],\"pie\":[{\"automargin\":true,\"type\":\"pie\"}]},\"layout\":{\"autotypenumbers\":\"strict\",\"colorway\":[\"#636efa\",\"#EF553B\",\"#00cc96\",\"#ab63fa\",\"#FFA15A\",\"#19d3f3\",\"#FF6692\",\"#B6E880\",\"#FF97FF\",\"#FECB52\"],\"font\":{\"color\":\"#2a3f5f\"},\"hovermode\":\"closest\",\"hoverlabel\":{\"align\":\"left\"},\"paper_bgcolor\":\"white\",\"plot_bgcolor\":\"#E5ECF6\",\"polar\":{\"bgcolor\":\"#E5ECF6\",\"angularaxis\":{\"gridcolor\":\"white\",\"linecolor\":\"white\",\"ticks\":\"\"},\"radialaxis\":{\"gridcolor\":\"white\",\"linecolor\":\"white\",\"ticks\":\"\"}},\"ternary\":{\"bgcolor\":\"#E5ECF6\",\"aaxis\":{\"gridcolor\":\"white\",\"linecolor\":\"white\",\"ticks\":\"\"},\"baxis\":{\"gridcolor\":\"white\",\"linecolor\":\"white\",\"ticks\":\"\"},\"caxis\":{\"gridcolor\":\"white\",\"linecolor\":\"white\",\"ticks\":\"\"}},\"coloraxis\":{\"colorbar\":{\"outlinewidth\":0,\"ticks\":\"\"}},\"colorscale\":{\"sequential\":[[0.0,\"#0d0887\"],[0.1111111111111111,\"#46039f\"],[0.2222222222222222,\"#7201a8\"],[0.3333333333333333,\"#9c179e\"],[0.4444444444444444,\"#bd3786\"],[0.5555555555555556,\"#d8576b\"],[0.6666666666666666,\"#ed7953\"],[0.7777777777777778,\"#fb9f3a\"],[0.8888888888888888,\"#fdca26\"],[1.0,\"#f0f921\"]],\"sequentialminus\":[[0.0,\"#0d0887\"],[0.1111111111111111,\"#46039f\"],[0.2222222222222222,\"#7201a8\"],[0.3333333333333333,\"#9c179e\"],[0.4444444444444444,\"#bd3786\"],[0.5555555555555556,\"#d8576b\"],[0.6666666666666666,\"#ed7953\"],[0.7777777777777778,\"#fb9f3a\"],[0.8888888888888888,\"#fdca26\"],[1.0,\"#f0f921\"]],\"diverging\":[[0,\"#8e0152\"],[0.1,\"#c51b7d\"],[0.2,\"#de77ae\"],[0.3,\"#f1b6da\"],[0.4,\"#fde0ef\"],[0.5,\"#f7f7f7\"],[0.6,\"#e6f5d0\"],[0.7,\"#b8e186\"],[0.8,\"#7fbc41\"],[0.9,\"#4d9221\"],[1,\"#276419\"]]},\"xaxis\":{\"gridcolor\":\"white\",\"linecolor\":\"white\",\"ticks\":\"\",\"title\":{\"standoff\":15},\"zerolinecolor\":\"white\",\"automargin\":true,\"zerolinewidth\":2},\"yaxis\":{\"gridcolor\":\"white\",\"linecolor\":\"white\",\"ticks\":\"\",\"title\":{\"standoff\":15},\"zerolinecolor\":\"white\",\"automargin\":true,\"zerolinewidth\":2},\"scene\":{\"xaxis\":{\"backgroundcolor\":\"#E5ECF6\",\"gridcolor\":\"white\",\"linecolor\":\"white\",\"showbackground\":true,\"ticks\":\"\",\"zerolinecolor\":\"white\",\"gridwidth\":2},\"yaxis\":{\"backgroundcolor\":\"#E5ECF6\",\"gridcolor\":\"white\",\"linecolor\":\"white\",\"showbackground\":true,\"ticks\":\"\",\"zerolinecolor\":\"white\",\"gridwidth\":2},\"zaxis\":{\"backgroundcolor\":\"#E5ECF6\",\"gridcolor\":\"white\",\"linecolor\":\"white\",\"showbackground\":true,\"ticks\":\"\",\"zerolinecolor\":\"white\",\"gridwidth\":2}},\"shapedefaults\":{\"line\":{\"color\":\"#2a3f5f\"}},\"annotationdefaults\":{\"arrowcolor\":\"#2a3f5f\",\"arrowhead\":0,\"arrowwidth\":1},\"geo\":{\"bgcolor\":\"white\",\"landcolor\":\"#E5ECF6\",\"subunitcolor\":\"white\",\"showland\":true,\"showlakes\":true,\"lakecolor\":\"white\"},\"title\":{\"x\":0.05},\"mapbox\":{\"style\":\"light\"}}},\"width\":1000,\"height\":600},                        {\"responsive\": true}                    ).then(function(){\n",
              "                            \n",
              "var gd = document.getElementById('a8382f3b-8cf4-4a60-ab47-b0a111ee6441');\n",
              "var x = new MutationObserver(function (mutations, observer) {{\n",
              "        var display = window.getComputedStyle(gd).display;\n",
              "        if (!display || display === 'none') {{\n",
              "            console.log([gd, 'removed!']);\n",
              "            Plotly.purge(gd);\n",
              "            observer.disconnect();\n",
              "        }}\n",
              "}});\n",
              "\n",
              "// Listen for the removal of the full notebook cells\n",
              "var notebookContainer = gd.closest('#notebook-container');\n",
              "if (notebookContainer) {{\n",
              "    x.observe(notebookContainer, {childList: true});\n",
              "}}\n",
              "\n",
              "// Listen for the clearing of the current output cell\n",
              "var outputEl = gd.closest('.output');\n",
              "if (outputEl) {{\n",
              "    x.observe(outputEl, {childList: true});\n",
              "}}\n",
              "\n",
              "                        })                };                            </script>        </div>\n",
              "</body>\n",
              "</html>"
            ]
          },
          "metadata": {}
        }
      ],
      "source": [
        "before_12 = spark.sql(\"SELECT merchant, amt, is_fraud FROM fraud WHERE HOUR(trans_date_trans_time) < 12\")\n",
        "\n",
        "after_12 = spark.sql(\"SELECT merchant, amt, is_fraud FROM fraud WHERE HOUR(trans_date_trans_time) >= 12\")\n",
        "\n",
        "before_12.createOrReplaceTempView(\"before_12\")\n",
        "after_12.createOrReplaceTempView(\"after_12\")\n",
        "\n",
        "before_12_fraud_total = spark.sql(\"SELECT F.merchant, SUM(F.amt) as total_fraud FROM \\\n",
        "(SELECT * FROM before_12 where is_fraud = 1) F GROUP BY F.merchant\")\n",
        "\n",
        "after_12_fraud_total = spark.sql(\"SELECT F.merchant, SUM(F.amt) as total_fraud FROM \\\n",
        "(SELECT * FROM after_12 where is_fraud = 1) F GROUP BY F.merchant\")\n",
        "\n",
        "before_12_prob_fraud = spark.sql(\"SELECT merchant, AVG(is_fraud) as prob_fraud \\\n",
        "FROM before_12 GROUP BY merchant\")\n",
        "\n",
        "after_12_prob_fraud = spark.sql(\"SELECT merchant, AVG(is_fraud) as prob_fraud \\\n",
        "FROM after_12 GROUP BY merchant\")\n",
        "\n",
        "before_12_pd = before_12_fraud_total.join(before_12_prob_fraud, \"merchant\")\\\n",
        "                                    .withColumn(\"expected_fraud\", \\\n",
        "                                 before_12_fraud_total.total_fraud*\\\n",
        "                                 before_12_prob_fraud.prob_fraud)\\\n",
        "                                    .select(\"expected_fraud\")\\\n",
        "                                    .toPandas()\n",
        "\n",
        "after_12_pd = after_12_fraud_total.join(after_12_prob_fraud, \"merchant\")\\\n",
        "                                  .withColumn(\"expected_fraud\", \\\n",
        "                                              after_12_fraud_total.total_fraud*\\\n",
        "                                              after_12_prob_fraud.prob_fraud)\\\n",
        "                                              .select(\"expected_fraud\")\\\n",
        "                                              .toPandas()\n",
        "\n",
        "data = [go.Histogram(x = before_12_pd.expected_fraud, \\\n",
        "                     name = \"before hour 12\", histnorm=\"probability density\"), \\\n",
        "        go.Histogram(x = after_12_pd.expected_fraud, \\\n",
        "                     name = \"after hour 12\", opacity = 0.5, histnorm=\"probability density\")]\n",
        "\n",
        "fig = go.Figure(data, layout=go.Layout(barmode='overlay', \\\n",
        "                                       title=go.layout.Title(text=\"Probability Distribution of Expected Fraud Amount Before/After Hour 12\"), \\\n",
        "                                       xaxis_title = \"Expected Fraud\"))\n",
        "\n",
        "fig.update_layout(width=1000, height=600)\n",
        "fig.show()"
      ]
    },
    {
      "cell_type": "markdown",
      "metadata": {
        "id": "xmoeVNQGK84v"
      },
      "source": [
        "Based on the probability distribution above of expected fraud amounts, if we only know the hour of transaction is during or after hour 12 and the transaction could be with any merchant, the expected fraud payment is much higher than compared to knowing the transaction is before hour 12. This is exhibited by the red histogram above where there is probability mass even for really high expected fraud amounts."
      ]
    },
    {
      "cell_type": "markdown",
      "metadata": {
        "id": "DKm4akkcPCXV"
      },
      "source": [
        "### Visualizing total fraud amount for different categories"
      ]
    },
    {
      "cell_type": "code",
      "execution_count": null,
      "metadata": {
        "colab": {
          "base_uri": "https://localhost:8080/",
          "height": 517
        },
        "id": "K9sHlE-_PCo8",
        "outputId": "128acfe3-a36c-410b-a27a-8666618c3248"
      },
      "outputs": [
        {
          "output_type": "display_data",
          "data": {
            "text/html": [
              "<html>\n",
              "<head><meta charset=\"utf-8\" /></head>\n",
              "<body>\n",
              "    <div>            <script src=\"https://cdnjs.cloudflare.com/ajax/libs/mathjax/2.7.5/MathJax.js?config=TeX-AMS-MML_SVG\"></script><script type=\"text/javascript\">if (window.MathJax && window.MathJax.Hub && window.MathJax.Hub.Config) {window.MathJax.Hub.Config({SVG: {font: \"STIX-Web\"}});}</script>                <script type=\"text/javascript\">window.PlotlyConfig = {MathJaxConfig: 'local'};</script>\n",
              "        <script charset=\"utf-8\" src=\"https://cdn.plot.ly/plotly-2.24.1.min.js\"></script>                <div id=\"31762928-c182-477b-a199-ee440269cb9c\" class=\"plotly-graph-div\" style=\"height:500px; width:800px;\"></div>            <script type=\"text/javascript\">                                    window.PLOTLYENV=window.PLOTLYENV || {};                                    if (document.getElementById(\"31762928-c182-477b-a199-ee440269cb9c\")) {                    Plotly.newPlot(                        \"31762928-c182-477b-a199-ee440269cb9c\",                        [{\"customdata\":[[\"travel\"],[\"misc_net\"],[\"grocery_pos\"],[\"kids_pets\"],[\"shopping_net\"],[\"grocery_net\"],[\"food_dining\"],[\"gas_transport\"],[\"personal_care\"],[\"health_fitness\"],[\"entertainment\"],[\"home\"],[\"misc_pos\"],[\"shopping_pos\"]],\"domain\":{\"x\":[0.0,1.0],\"y\":[0.0,1.0]},\"hovertemplate\":\"category=%{customdata[0]}\\u003cbr\\u003etotal_amt=%{value}\\u003cextra\\u003e\\u003c\\u002fextra\\u003e\",\"labels\":[\"travel\",\"misc_net\",\"grocery_pos\",\"kids_pets\",\"shopping_net\",\"grocery_net\",\"food_dining\",\"gas_transport\",\"personal_care\",\"health_fitness\",\"entertainment\",\"home\",\"misc_pos\",\"shopping_pos\"],\"legendgroup\":\"\",\"marker\":{\"colors\":[\"#636efa\",\"#EF553B\",\"#00cc96\",\"#ab63fa\",\"#FFA15A\",\"#19d3f3\",\"#FF6692\",\"#B6E880\",\"#FF97FF\",\"#FECB52\",\"#636efa\",\"#EF553B\",\"#00cc96\",\"#ab63fa\"]},\"name\":\"\",\"showlegend\":true,\"values\":[347.98,214742.95,151866.71999999997,1288.4499999999998,503123.92999999993,478.38999999999993,6607.539999999999,1848.42,1814.4399999999996,1058.3199999999997,30076.17,17260.3,13923.82,188887.25],\"type\":\"pie\"}],                        {\"template\":{\"data\":{\"histogram2dcontour\":[{\"type\":\"histogram2dcontour\",\"colorbar\":{\"outlinewidth\":0,\"ticks\":\"\"},\"colorscale\":[[0.0,\"#0d0887\"],[0.1111111111111111,\"#46039f\"],[0.2222222222222222,\"#7201a8\"],[0.3333333333333333,\"#9c179e\"],[0.4444444444444444,\"#bd3786\"],[0.5555555555555556,\"#d8576b\"],[0.6666666666666666,\"#ed7953\"],[0.7777777777777778,\"#fb9f3a\"],[0.8888888888888888,\"#fdca26\"],[1.0,\"#f0f921\"]]}],\"choropleth\":[{\"type\":\"choropleth\",\"colorbar\":{\"outlinewidth\":0,\"ticks\":\"\"}}],\"histogram2d\":[{\"type\":\"histogram2d\",\"colorbar\":{\"outlinewidth\":0,\"ticks\":\"\"},\"colorscale\":[[0.0,\"#0d0887\"],[0.1111111111111111,\"#46039f\"],[0.2222222222222222,\"#7201a8\"],[0.3333333333333333,\"#9c179e\"],[0.4444444444444444,\"#bd3786\"],[0.5555555555555556,\"#d8576b\"],[0.6666666666666666,\"#ed7953\"],[0.7777777777777778,\"#fb9f3a\"],[0.8888888888888888,\"#fdca26\"],[1.0,\"#f0f921\"]]}],\"heatmap\":[{\"type\":\"heatmap\",\"colorbar\":{\"outlinewidth\":0,\"ticks\":\"\"},\"colorscale\":[[0.0,\"#0d0887\"],[0.1111111111111111,\"#46039f\"],[0.2222222222222222,\"#7201a8\"],[0.3333333333333333,\"#9c179e\"],[0.4444444444444444,\"#bd3786\"],[0.5555555555555556,\"#d8576b\"],[0.6666666666666666,\"#ed7953\"],[0.7777777777777778,\"#fb9f3a\"],[0.8888888888888888,\"#fdca26\"],[1.0,\"#f0f921\"]]}],\"heatmapgl\":[{\"type\":\"heatmapgl\",\"colorbar\":{\"outlinewidth\":0,\"ticks\":\"\"},\"colorscale\":[[0.0,\"#0d0887\"],[0.1111111111111111,\"#46039f\"],[0.2222222222222222,\"#7201a8\"],[0.3333333333333333,\"#9c179e\"],[0.4444444444444444,\"#bd3786\"],[0.5555555555555556,\"#d8576b\"],[0.6666666666666666,\"#ed7953\"],[0.7777777777777778,\"#fb9f3a\"],[0.8888888888888888,\"#fdca26\"],[1.0,\"#f0f921\"]]}],\"contourcarpet\":[{\"type\":\"contourcarpet\",\"colorbar\":{\"outlinewidth\":0,\"ticks\":\"\"}}],\"contour\":[{\"type\":\"contour\",\"colorbar\":{\"outlinewidth\":0,\"ticks\":\"\"},\"colorscale\":[[0.0,\"#0d0887\"],[0.1111111111111111,\"#46039f\"],[0.2222222222222222,\"#7201a8\"],[0.3333333333333333,\"#9c179e\"],[0.4444444444444444,\"#bd3786\"],[0.5555555555555556,\"#d8576b\"],[0.6666666666666666,\"#ed7953\"],[0.7777777777777778,\"#fb9f3a\"],[0.8888888888888888,\"#fdca26\"],[1.0,\"#f0f921\"]]}],\"surface\":[{\"type\":\"surface\",\"colorbar\":{\"outlinewidth\":0,\"ticks\":\"\"},\"colorscale\":[[0.0,\"#0d0887\"],[0.1111111111111111,\"#46039f\"],[0.2222222222222222,\"#7201a8\"],[0.3333333333333333,\"#9c179e\"],[0.4444444444444444,\"#bd3786\"],[0.5555555555555556,\"#d8576b\"],[0.6666666666666666,\"#ed7953\"],[0.7777777777777778,\"#fb9f3a\"],[0.8888888888888888,\"#fdca26\"],[1.0,\"#f0f921\"]]}],\"mesh3d\":[{\"type\":\"mesh3d\",\"colorbar\":{\"outlinewidth\":0,\"ticks\":\"\"}}],\"scatter\":[{\"fillpattern\":{\"fillmode\":\"overlay\",\"size\":10,\"solidity\":0.2},\"type\":\"scatter\"}],\"parcoords\":[{\"type\":\"parcoords\",\"line\":{\"colorbar\":{\"outlinewidth\":0,\"ticks\":\"\"}}}],\"scatterpolargl\":[{\"type\":\"scatterpolargl\",\"marker\":{\"colorbar\":{\"outlinewidth\":0,\"ticks\":\"\"}}}],\"bar\":[{\"error_x\":{\"color\":\"#2a3f5f\"},\"error_y\":{\"color\":\"#2a3f5f\"},\"marker\":{\"line\":{\"color\":\"#E5ECF6\",\"width\":0.5},\"pattern\":{\"fillmode\":\"overlay\",\"size\":10,\"solidity\":0.2}},\"type\":\"bar\"}],\"scattergeo\":[{\"type\":\"scattergeo\",\"marker\":{\"colorbar\":{\"outlinewidth\":0,\"ticks\":\"\"}}}],\"scatterpolar\":[{\"type\":\"scatterpolar\",\"marker\":{\"colorbar\":{\"outlinewidth\":0,\"ticks\":\"\"}}}],\"histogram\":[{\"marker\":{\"pattern\":{\"fillmode\":\"overlay\",\"size\":10,\"solidity\":0.2}},\"type\":\"histogram\"}],\"scattergl\":[{\"type\":\"scattergl\",\"marker\":{\"colorbar\":{\"outlinewidth\":0,\"ticks\":\"\"}}}],\"scatter3d\":[{\"type\":\"scatter3d\",\"line\":{\"colorbar\":{\"outlinewidth\":0,\"ticks\":\"\"}},\"marker\":{\"colorbar\":{\"outlinewidth\":0,\"ticks\":\"\"}}}],\"scattermapbox\":[{\"type\":\"scattermapbox\",\"marker\":{\"colorbar\":{\"outlinewidth\":0,\"ticks\":\"\"}}}],\"scatterternary\":[{\"type\":\"scatterternary\",\"marker\":{\"colorbar\":{\"outlinewidth\":0,\"ticks\":\"\"}}}],\"scattercarpet\":[{\"type\":\"scattercarpet\",\"marker\":{\"colorbar\":{\"outlinewidth\":0,\"ticks\":\"\"}}}],\"carpet\":[{\"aaxis\":{\"endlinecolor\":\"#2a3f5f\",\"gridcolor\":\"white\",\"linecolor\":\"white\",\"minorgridcolor\":\"white\",\"startlinecolor\":\"#2a3f5f\"},\"baxis\":{\"endlinecolor\":\"#2a3f5f\",\"gridcolor\":\"white\",\"linecolor\":\"white\",\"minorgridcolor\":\"white\",\"startlinecolor\":\"#2a3f5f\"},\"type\":\"carpet\"}],\"table\":[{\"cells\":{\"fill\":{\"color\":\"#EBF0F8\"},\"line\":{\"color\":\"white\"}},\"header\":{\"fill\":{\"color\":\"#C8D4E3\"},\"line\":{\"color\":\"white\"}},\"type\":\"table\"}],\"barpolar\":[{\"marker\":{\"line\":{\"color\":\"#E5ECF6\",\"width\":0.5},\"pattern\":{\"fillmode\":\"overlay\",\"size\":10,\"solidity\":0.2}},\"type\":\"barpolar\"}],\"pie\":[{\"automargin\":true,\"type\":\"pie\"}]},\"layout\":{\"autotypenumbers\":\"strict\",\"colorway\":[\"#636efa\",\"#EF553B\",\"#00cc96\",\"#ab63fa\",\"#FFA15A\",\"#19d3f3\",\"#FF6692\",\"#B6E880\",\"#FF97FF\",\"#FECB52\"],\"font\":{\"color\":\"#2a3f5f\"},\"hovermode\":\"closest\",\"hoverlabel\":{\"align\":\"left\"},\"paper_bgcolor\":\"white\",\"plot_bgcolor\":\"#E5ECF6\",\"polar\":{\"bgcolor\":\"#E5ECF6\",\"angularaxis\":{\"gridcolor\":\"white\",\"linecolor\":\"white\",\"ticks\":\"\"},\"radialaxis\":{\"gridcolor\":\"white\",\"linecolor\":\"white\",\"ticks\":\"\"}},\"ternary\":{\"bgcolor\":\"#E5ECF6\",\"aaxis\":{\"gridcolor\":\"white\",\"linecolor\":\"white\",\"ticks\":\"\"},\"baxis\":{\"gridcolor\":\"white\",\"linecolor\":\"white\",\"ticks\":\"\"},\"caxis\":{\"gridcolor\":\"white\",\"linecolor\":\"white\",\"ticks\":\"\"}},\"coloraxis\":{\"colorbar\":{\"outlinewidth\":0,\"ticks\":\"\"}},\"colorscale\":{\"sequential\":[[0.0,\"#0d0887\"],[0.1111111111111111,\"#46039f\"],[0.2222222222222222,\"#7201a8\"],[0.3333333333333333,\"#9c179e\"],[0.4444444444444444,\"#bd3786\"],[0.5555555555555556,\"#d8576b\"],[0.6666666666666666,\"#ed7953\"],[0.7777777777777778,\"#fb9f3a\"],[0.8888888888888888,\"#fdca26\"],[1.0,\"#f0f921\"]],\"sequentialminus\":[[0.0,\"#0d0887\"],[0.1111111111111111,\"#46039f\"],[0.2222222222222222,\"#7201a8\"],[0.3333333333333333,\"#9c179e\"],[0.4444444444444444,\"#bd3786\"],[0.5555555555555556,\"#d8576b\"],[0.6666666666666666,\"#ed7953\"],[0.7777777777777778,\"#fb9f3a\"],[0.8888888888888888,\"#fdca26\"],[1.0,\"#f0f921\"]],\"diverging\":[[0,\"#8e0152\"],[0.1,\"#c51b7d\"],[0.2,\"#de77ae\"],[0.3,\"#f1b6da\"],[0.4,\"#fde0ef\"],[0.5,\"#f7f7f7\"],[0.6,\"#e6f5d0\"],[0.7,\"#b8e186\"],[0.8,\"#7fbc41\"],[0.9,\"#4d9221\"],[1,\"#276419\"]]},\"xaxis\":{\"gridcolor\":\"white\",\"linecolor\":\"white\",\"ticks\":\"\",\"title\":{\"standoff\":15},\"zerolinecolor\":\"white\",\"automargin\":true,\"zerolinewidth\":2},\"yaxis\":{\"gridcolor\":\"white\",\"linecolor\":\"white\",\"ticks\":\"\",\"title\":{\"standoff\":15},\"zerolinecolor\":\"white\",\"automargin\":true,\"zerolinewidth\":2},\"scene\":{\"xaxis\":{\"backgroundcolor\":\"#E5ECF6\",\"gridcolor\":\"white\",\"linecolor\":\"white\",\"showbackground\":true,\"ticks\":\"\",\"zerolinecolor\":\"white\",\"gridwidth\":2},\"yaxis\":{\"backgroundcolor\":\"#E5ECF6\",\"gridcolor\":\"white\",\"linecolor\":\"white\",\"showbackground\":true,\"ticks\":\"\",\"zerolinecolor\":\"white\",\"gridwidth\":2},\"zaxis\":{\"backgroundcolor\":\"#E5ECF6\",\"gridcolor\":\"white\",\"linecolor\":\"white\",\"showbackground\":true,\"ticks\":\"\",\"zerolinecolor\":\"white\",\"gridwidth\":2}},\"shapedefaults\":{\"line\":{\"color\":\"#2a3f5f\"}},\"annotationdefaults\":{\"arrowcolor\":\"#2a3f5f\",\"arrowhead\":0,\"arrowwidth\":1},\"geo\":{\"bgcolor\":\"white\",\"landcolor\":\"#E5ECF6\",\"subunitcolor\":\"white\",\"showland\":true,\"showlakes\":true,\"lakecolor\":\"white\"},\"title\":{\"x\":0.05},\"mapbox\":{\"style\":\"light\"}}},\"legend\":{\"tracegroupgap\":0},\"title\":{\"text\":\"Total Fraud Amount for Different Transaction Types\"},\"width\":800,\"height\":500},                        {\"responsive\": true}                    ).then(function(){\n",
              "                            \n",
              "var gd = document.getElementById('31762928-c182-477b-a199-ee440269cb9c');\n",
              "var x = new MutationObserver(function (mutations, observer) {{\n",
              "        var display = window.getComputedStyle(gd).display;\n",
              "        if (!display || display === 'none') {{\n",
              "            console.log([gd, 'removed!']);\n",
              "            Plotly.purge(gd);\n",
              "            observer.disconnect();\n",
              "        }}\n",
              "}});\n",
              "\n",
              "// Listen for the removal of the full notebook cells\n",
              "var notebookContainer = gd.closest('#notebook-container');\n",
              "if (notebookContainer) {{\n",
              "    x.observe(notebookContainer, {childList: true});\n",
              "}}\n",
              "\n",
              "// Listen for the clearing of the current output cell\n",
              "var outputEl = gd.closest('.output');\n",
              "if (outputEl) {{\n",
              "    x.observe(outputEl, {childList: true});\n",
              "}}\n",
              "\n",
              "                        })                };                            </script>        </div>\n",
              "</body>\n",
              "</html>"
            ]
          },
          "metadata": {}
        }
      ],
      "source": [
        "category_pd = spark.sql(\"SELECT F.category, SUM(F.amt) AS total_amt FROM \\\n",
        "(SELECT category, amt FROM fraud WHERE is_fraud = 1) F GROUP BY F.category\").toPandas()\n",
        "\n",
        "fig = px.pie(category_pd, values = \"total_amt\", names = \"category\", color = \"category\",\\\n",
        "             title = \"Total Fraud Amount for Different Transaction Types\")\n",
        "\n",
        "fig.update_layout(width=800, height=500)\n",
        "fig.show()"
      ]
    },
    {
      "cell_type": "markdown",
      "metadata": {
        "id": "D3_YDtJmVen6"
      },
      "source": [
        "From the total amount of fraud in value, shopping_net takes up 44.4%, followed by misc_net taking up 18.9%, then shopping_pos taking up 16.7% and grocery_pos taking up 13.4%."
      ]
    },
    {
      "cell_type": "markdown",
      "metadata": {
        "id": "ftrQcjjpWNjC"
      },
      "source": [
        "### Visualizing Total Fraud Amounts from Customers with Fraudulent Transactions"
      ]
    },
    {
      "cell_type": "code",
      "execution_count": null,
      "metadata": {
        "colab": {
          "base_uri": "https://localhost:8080/",
          "height": 542
        },
        "id": "-VrA7fStWM9t",
        "outputId": "d84f3743-c604-40d6-ccb3-90fdacc5af45"
      },
      "outputs": [
        {
          "output_type": "display_data",
          "data": {
            "text/html": [
              "<html>\n",
              "<head><meta charset=\"utf-8\" /></head>\n",
              "<body>\n",
              "    <div>            <script src=\"https://cdnjs.cloudflare.com/ajax/libs/mathjax/2.7.5/MathJax.js?config=TeX-AMS-MML_SVG\"></script><script type=\"text/javascript\">if (window.MathJax && window.MathJax.Hub && window.MathJax.Hub.Config) {window.MathJax.Hub.Config({SVG: {font: \"STIX-Web\"}});}</script>                <script type=\"text/javascript\">window.PlotlyConfig = {MathJaxConfig: 'local'};</script>\n",
              "        <script charset=\"utf-8\" src=\"https://cdn.plot.ly/plotly-2.24.1.min.js\"></script>                <div id=\"7538b485-fd49-4f46-88f2-fade38076438\" class=\"plotly-graph-div\" style=\"height:525px; width:100%;\"></div>            <script type=\"text/javascript\">                                    window.PLOTLYENV=window.PLOTLYENV || {};                                    if (document.getElementById(\"7538b485-fd49-4f46-88f2-fade38076438\")) {                    Plotly.newPlot(                        \"7538b485-fd49-4f46-88f2-fade38076438\",                        [{\"alignmentgroup\":\"True\",\"bingroup\":\"x\",\"hovertemplate\":\"Total Fraud=%{x}\\u003cbr\\u003ecount=%{y}\\u003cextra\\u003e\\u003c\\u002fextra\\u003e\",\"legendgroup\":\"\",\"marker\":{\"color\":\"#636efa\",\"pattern\":{\"shape\":\"\"}},\"name\":\"\",\"offsetgroup\":\"\",\"orientation\":\"v\",\"showlegend\":false,\"x\":[7643.54,6863.580000000001,1753.04,5412.95,2986.0600000000004,3974.3000000000006,6267.710000000001,3837.62,2976.87,5895.06,6302.32,7663.82,9529.369999999999,6601.450000000002,4613.21,6444.700000000001,8308.8,8598.82,6609.470000000001,4729.57,5567.92,4679.329999999999,7993.74,5432.4,7135.690000000001,1913.83,815.42,3544.3599999999997,5470.27,6702.64,3438.6400000000003,4691.029999999999,7840.879999999999,8514.769999999999,2329.63,9874.94,150.04000000000002,6805.610000000001,867.49,844.9599999999999,6463.8,14603.679999999998,5218.0,7262.559999999999,4916.74,5307.9400000000005,7112.66,2180.0,4335.02,6560.1,1778.8899999999999,4499.14,5784.760000000001,1173.88,6249.57,6864.58,1723.4099999999999,6843.8099999999995,2194.6500000000005,3671.1400000000003,5610.799999999999,6419.59,7988.02,8345.81,4234.209999999999,5839.3,2916.8999999999996,2198.38,8118.71,5956.41,6832.72,3573.2999999999997,4329.589999999999,4709.98,8202.95,2436.56,6164.72,5586.080000000001,2560.3499999999995,4698.79,7130.910000000001,8007.1900000000005,2356.0099999999998,6378.949999999999,5026.96,6838.890000000001,2916.03,6225.97,7404.52,1095.47,3254.13,6824.700000000001,6405.029999999999,4718.91,2677.61,8082.659999999999,3111.53,1792.65,4927.9,2767.1,8893.06,1539.24,3155.7200000000003,7504.019999999999,4449.24,4493.65,6048.31,6807.450000000001,2207.89,5317.94,5482.19,3899.88,8282.32,7161.459999999998,5685.68,6990.620000000001,1002.0700000000002,5033.75,8269.16,6300.08,3584.38,5537.639999999999,7934.88,4677.91,8453.42,5695.97,2369.41,4563.2699999999995,4590.67,7182.18,4004.33,5690.89,7709.969999999999,4253.58,9793.379999999997,4198.63,7888.13,4484.05,5790.280000000001,4701.29,2462.31,8050.959999999999,4011.35,3655.4200000000005,5638.030000000001,4186.530000000001,12002.060000000001,6515.120000000001,2466.89,4874.62,6760.950000000001,8195.87,3950.54,1985.79,2641.6400000000003,1263.5099999999998,2311.8399999999997,7136.92,5629.41,3648.1799999999994,6231.700000000001,10956.0,2261.6800000000003,4288.47,5782.200000000001,4975.3,6339.76,5803.579999999999,3959.9500000000003,5489.25,4069.01,5110.31,5616.4,6311.829999999999,11641.220000000001,5277.950000000001,6868.06,4175.17,2417.7799999999997,5481.48,4656.0199999999995,4934.96,4085.26,2525.0,4853.63,4225.58,5208.63,8601.33,4133.0,5325.110000000001,5656.279999999999,2194.12,4539.77,4271.17,1963.02,4272.48,4135.3099999999995,1912.21,4182.42,3702.21,3948.1499999999996,6267.82,6669.03,3688.14,3536.4900000000002,7773.17,6118.2,4249.74,6640.64,5339.28,5459.44,8084.120000000001,2829.11,6822.45,6778.4800000000005,6172.33,4461.080000000001],\"xaxis\":\"x\",\"yaxis\":\"y\",\"type\":\"histogram\"}],                        {\"template\":{\"data\":{\"histogram2dcontour\":[{\"type\":\"histogram2dcontour\",\"colorbar\":{\"outlinewidth\":0,\"ticks\":\"\"},\"colorscale\":[[0.0,\"#0d0887\"],[0.1111111111111111,\"#46039f\"],[0.2222222222222222,\"#7201a8\"],[0.3333333333333333,\"#9c179e\"],[0.4444444444444444,\"#bd3786\"],[0.5555555555555556,\"#d8576b\"],[0.6666666666666666,\"#ed7953\"],[0.7777777777777778,\"#fb9f3a\"],[0.8888888888888888,\"#fdca26\"],[1.0,\"#f0f921\"]]}],\"choropleth\":[{\"type\":\"choropleth\",\"colorbar\":{\"outlinewidth\":0,\"ticks\":\"\"}}],\"histogram2d\":[{\"type\":\"histogram2d\",\"colorbar\":{\"outlinewidth\":0,\"ticks\":\"\"},\"colorscale\":[[0.0,\"#0d0887\"],[0.1111111111111111,\"#46039f\"],[0.2222222222222222,\"#7201a8\"],[0.3333333333333333,\"#9c179e\"],[0.4444444444444444,\"#bd3786\"],[0.5555555555555556,\"#d8576b\"],[0.6666666666666666,\"#ed7953\"],[0.7777777777777778,\"#fb9f3a\"],[0.8888888888888888,\"#fdca26\"],[1.0,\"#f0f921\"]]}],\"heatmap\":[{\"type\":\"heatmap\",\"colorbar\":{\"outlinewidth\":0,\"ticks\":\"\"},\"colorscale\":[[0.0,\"#0d0887\"],[0.1111111111111111,\"#46039f\"],[0.2222222222222222,\"#7201a8\"],[0.3333333333333333,\"#9c179e\"],[0.4444444444444444,\"#bd3786\"],[0.5555555555555556,\"#d8576b\"],[0.6666666666666666,\"#ed7953\"],[0.7777777777777778,\"#fb9f3a\"],[0.8888888888888888,\"#fdca26\"],[1.0,\"#f0f921\"]]}],\"heatmapgl\":[{\"type\":\"heatmapgl\",\"colorbar\":{\"outlinewidth\":0,\"ticks\":\"\"},\"colorscale\":[[0.0,\"#0d0887\"],[0.1111111111111111,\"#46039f\"],[0.2222222222222222,\"#7201a8\"],[0.3333333333333333,\"#9c179e\"],[0.4444444444444444,\"#bd3786\"],[0.5555555555555556,\"#d8576b\"],[0.6666666666666666,\"#ed7953\"],[0.7777777777777778,\"#fb9f3a\"],[0.8888888888888888,\"#fdca26\"],[1.0,\"#f0f921\"]]}],\"contourcarpet\":[{\"type\":\"contourcarpet\",\"colorbar\":{\"outlinewidth\":0,\"ticks\":\"\"}}],\"contour\":[{\"type\":\"contour\",\"colorbar\":{\"outlinewidth\":0,\"ticks\":\"\"},\"colorscale\":[[0.0,\"#0d0887\"],[0.1111111111111111,\"#46039f\"],[0.2222222222222222,\"#7201a8\"],[0.3333333333333333,\"#9c179e\"],[0.4444444444444444,\"#bd3786\"],[0.5555555555555556,\"#d8576b\"],[0.6666666666666666,\"#ed7953\"],[0.7777777777777778,\"#fb9f3a\"],[0.8888888888888888,\"#fdca26\"],[1.0,\"#f0f921\"]]}],\"surface\":[{\"type\":\"surface\",\"colorbar\":{\"outlinewidth\":0,\"ticks\":\"\"},\"colorscale\":[[0.0,\"#0d0887\"],[0.1111111111111111,\"#46039f\"],[0.2222222222222222,\"#7201a8\"],[0.3333333333333333,\"#9c179e\"],[0.4444444444444444,\"#bd3786\"],[0.5555555555555556,\"#d8576b\"],[0.6666666666666666,\"#ed7953\"],[0.7777777777777778,\"#fb9f3a\"],[0.8888888888888888,\"#fdca26\"],[1.0,\"#f0f921\"]]}],\"mesh3d\":[{\"type\":\"mesh3d\",\"colorbar\":{\"outlinewidth\":0,\"ticks\":\"\"}}],\"scatter\":[{\"fillpattern\":{\"fillmode\":\"overlay\",\"size\":10,\"solidity\":0.2},\"type\":\"scatter\"}],\"parcoords\":[{\"type\":\"parcoords\",\"line\":{\"colorbar\":{\"outlinewidth\":0,\"ticks\":\"\"}}}],\"scatterpolargl\":[{\"type\":\"scatterpolargl\",\"marker\":{\"colorbar\":{\"outlinewidth\":0,\"ticks\":\"\"}}}],\"bar\":[{\"error_x\":{\"color\":\"#2a3f5f\"},\"error_y\":{\"color\":\"#2a3f5f\"},\"marker\":{\"line\":{\"color\":\"#E5ECF6\",\"width\":0.5},\"pattern\":{\"fillmode\":\"overlay\",\"size\":10,\"solidity\":0.2}},\"type\":\"bar\"}],\"scattergeo\":[{\"type\":\"scattergeo\",\"marker\":{\"colorbar\":{\"outlinewidth\":0,\"ticks\":\"\"}}}],\"scatterpolar\":[{\"type\":\"scatterpolar\",\"marker\":{\"colorbar\":{\"outlinewidth\":0,\"ticks\":\"\"}}}],\"histogram\":[{\"marker\":{\"pattern\":{\"fillmode\":\"overlay\",\"size\":10,\"solidity\":0.2}},\"type\":\"histogram\"}],\"scattergl\":[{\"type\":\"scattergl\",\"marker\":{\"colorbar\":{\"outlinewidth\":0,\"ticks\":\"\"}}}],\"scatter3d\":[{\"type\":\"scatter3d\",\"line\":{\"colorbar\":{\"outlinewidth\":0,\"ticks\":\"\"}},\"marker\":{\"colorbar\":{\"outlinewidth\":0,\"ticks\":\"\"}}}],\"scattermapbox\":[{\"type\":\"scattermapbox\",\"marker\":{\"colorbar\":{\"outlinewidth\":0,\"ticks\":\"\"}}}],\"scatterternary\":[{\"type\":\"scatterternary\",\"marker\":{\"colorbar\":{\"outlinewidth\":0,\"ticks\":\"\"}}}],\"scattercarpet\":[{\"type\":\"scattercarpet\",\"marker\":{\"colorbar\":{\"outlinewidth\":0,\"ticks\":\"\"}}}],\"carpet\":[{\"aaxis\":{\"endlinecolor\":\"#2a3f5f\",\"gridcolor\":\"white\",\"linecolor\":\"white\",\"minorgridcolor\":\"white\",\"startlinecolor\":\"#2a3f5f\"},\"baxis\":{\"endlinecolor\":\"#2a3f5f\",\"gridcolor\":\"white\",\"linecolor\":\"white\",\"minorgridcolor\":\"white\",\"startlinecolor\":\"#2a3f5f\"},\"type\":\"carpet\"}],\"table\":[{\"cells\":{\"fill\":{\"color\":\"#EBF0F8\"},\"line\":{\"color\":\"white\"}},\"header\":{\"fill\":{\"color\":\"#C8D4E3\"},\"line\":{\"color\":\"white\"}},\"type\":\"table\"}],\"barpolar\":[{\"marker\":{\"line\":{\"color\":\"#E5ECF6\",\"width\":0.5},\"pattern\":{\"fillmode\":\"overlay\",\"size\":10,\"solidity\":0.2}},\"type\":\"barpolar\"}],\"pie\":[{\"automargin\":true,\"type\":\"pie\"}]},\"layout\":{\"autotypenumbers\":\"strict\",\"colorway\":[\"#636efa\",\"#EF553B\",\"#00cc96\",\"#ab63fa\",\"#FFA15A\",\"#19d3f3\",\"#FF6692\",\"#B6E880\",\"#FF97FF\",\"#FECB52\"],\"font\":{\"color\":\"#2a3f5f\"},\"hovermode\":\"closest\",\"hoverlabel\":{\"align\":\"left\"},\"paper_bgcolor\":\"white\",\"plot_bgcolor\":\"#E5ECF6\",\"polar\":{\"bgcolor\":\"#E5ECF6\",\"angularaxis\":{\"gridcolor\":\"white\",\"linecolor\":\"white\",\"ticks\":\"\"},\"radialaxis\":{\"gridcolor\":\"white\",\"linecolor\":\"white\",\"ticks\":\"\"}},\"ternary\":{\"bgcolor\":\"#E5ECF6\",\"aaxis\":{\"gridcolor\":\"white\",\"linecolor\":\"white\",\"ticks\":\"\"},\"baxis\":{\"gridcolor\":\"white\",\"linecolor\":\"white\",\"ticks\":\"\"},\"caxis\":{\"gridcolor\":\"white\",\"linecolor\":\"white\",\"ticks\":\"\"}},\"coloraxis\":{\"colorbar\":{\"outlinewidth\":0,\"ticks\":\"\"}},\"colorscale\":{\"sequential\":[[0.0,\"#0d0887\"],[0.1111111111111111,\"#46039f\"],[0.2222222222222222,\"#7201a8\"],[0.3333333333333333,\"#9c179e\"],[0.4444444444444444,\"#bd3786\"],[0.5555555555555556,\"#d8576b\"],[0.6666666666666666,\"#ed7953\"],[0.7777777777777778,\"#fb9f3a\"],[0.8888888888888888,\"#fdca26\"],[1.0,\"#f0f921\"]],\"sequentialminus\":[[0.0,\"#0d0887\"],[0.1111111111111111,\"#46039f\"],[0.2222222222222222,\"#7201a8\"],[0.3333333333333333,\"#9c179e\"],[0.4444444444444444,\"#bd3786\"],[0.5555555555555556,\"#d8576b\"],[0.6666666666666666,\"#ed7953\"],[0.7777777777777778,\"#fb9f3a\"],[0.8888888888888888,\"#fdca26\"],[1.0,\"#f0f921\"]],\"diverging\":[[0,\"#8e0152\"],[0.1,\"#c51b7d\"],[0.2,\"#de77ae\"],[0.3,\"#f1b6da\"],[0.4,\"#fde0ef\"],[0.5,\"#f7f7f7\"],[0.6,\"#e6f5d0\"],[0.7,\"#b8e186\"],[0.8,\"#7fbc41\"],[0.9,\"#4d9221\"],[1,\"#276419\"]]},\"xaxis\":{\"gridcolor\":\"white\",\"linecolor\":\"white\",\"ticks\":\"\",\"title\":{\"standoff\":15},\"zerolinecolor\":\"white\",\"automargin\":true,\"zerolinewidth\":2},\"yaxis\":{\"gridcolor\":\"white\",\"linecolor\":\"white\",\"ticks\":\"\",\"title\":{\"standoff\":15},\"zerolinecolor\":\"white\",\"automargin\":true,\"zerolinewidth\":2},\"scene\":{\"xaxis\":{\"backgroundcolor\":\"#E5ECF6\",\"gridcolor\":\"white\",\"linecolor\":\"white\",\"showbackground\":true,\"ticks\":\"\",\"zerolinecolor\":\"white\",\"gridwidth\":2},\"yaxis\":{\"backgroundcolor\":\"#E5ECF6\",\"gridcolor\":\"white\",\"linecolor\":\"white\",\"showbackground\":true,\"ticks\":\"\",\"zerolinecolor\":\"white\",\"gridwidth\":2},\"zaxis\":{\"backgroundcolor\":\"#E5ECF6\",\"gridcolor\":\"white\",\"linecolor\":\"white\",\"showbackground\":true,\"ticks\":\"\",\"zerolinecolor\":\"white\",\"gridwidth\":2}},\"shapedefaults\":{\"line\":{\"color\":\"#2a3f5f\"}},\"annotationdefaults\":{\"arrowcolor\":\"#2a3f5f\",\"arrowhead\":0,\"arrowwidth\":1},\"geo\":{\"bgcolor\":\"white\",\"landcolor\":\"#E5ECF6\",\"subunitcolor\":\"white\",\"showland\":true,\"showlakes\":true,\"lakecolor\":\"white\"},\"title\":{\"x\":0.05},\"mapbox\":{\"style\":\"light\"}}},\"xaxis\":{\"anchor\":\"y\",\"domain\":[0.0,1.0],\"title\":{\"text\":\"Total Fraud\"}},\"yaxis\":{\"anchor\":\"x\",\"domain\":[0.0,1.0],\"title\":{\"text\":\"count\"}},\"legend\":{\"tracegroupgap\":0},\"title\":{\"text\":\"Distribution of Total Fraud for Customers with Fraudulent Transactions\"},\"barmode\":\"relative\"},                        {\"responsive\": true}                    ).then(function(){\n",
              "                            \n",
              "var gd = document.getElementById('7538b485-fd49-4f46-88f2-fade38076438');\n",
              "var x = new MutationObserver(function (mutations, observer) {{\n",
              "        var display = window.getComputedStyle(gd).display;\n",
              "        if (!display || display === 'none') {{\n",
              "            console.log([gd, 'removed!']);\n",
              "            Plotly.purge(gd);\n",
              "            observer.disconnect();\n",
              "        }}\n",
              "}});\n",
              "\n",
              "// Listen for the removal of the full notebook cells\n",
              "var notebookContainer = gd.closest('#notebook-container');\n",
              "if (notebookContainer) {{\n",
              "    x.observe(notebookContainer, {childList: true});\n",
              "}}\n",
              "\n",
              "// Listen for the clearing of the current output cell\n",
              "var outputEl = gd.closest('.output');\n",
              "if (outputEl) {{\n",
              "    x.observe(outputEl, {childList: true});\n",
              "}}\n",
              "\n",
              "                        })                };                            </script>        </div>\n",
              "</body>\n",
              "</html>"
            ]
          },
          "metadata": {}
        }
      ],
      "source": [
        "fraud_amt = spark.sql(\"SELECT SUM(F.fraud_amt) AS total_fraud FROM \\\n",
        "(SELECT cust_id, amt AS fraud_amt FROM fraud WHERE is_fraud = 1) F \\\n",
        "GROUP BY F.cust_id\").toPandas()\n",
        "\n",
        "fig = px.histogram(fraud_amt, \"total_fraud\", \\\n",
        "                   title = \"Distribution of Total Fraud for Customers with Fraudulent Transactions\",\\\n",
        "                   labels = {\"total_fraud\": \"Total Fraud\"})\n",
        "fig.show()"
      ]
    },
    {
      "cell_type": "markdown",
      "metadata": {
        "id": "v3SmK_5UbA50"
      },
      "source": [
        "Most customers with fraudulent transactions have total fraud amount around 4k to 7k. While more extreme cases of total fraud amount exceeds 14k. There is exactly one customer with more than 14k total fraud amount by hovering over the last block in the jupyter notebook."
      ]
    },
    {
      "cell_type": "markdown",
      "metadata": {
        "id": "IS_7JA7DcPZx"
      },
      "source": [
        "# Feature Engineering"
      ]
    },
    {
      "cell_type": "markdown",
      "metadata": {
        "id": "cP_UWOwK_c4z"
      },
      "source": [
        "Now we add additional variables to include more realistic measures like knowledge of past transaction details. We also drop the variables that are not important or redundant like ID, names, and street addresses."
      ]
    },
    {
      "cell_type": "markdown",
      "metadata": {
        "id": "rCvPRGUWHSD7"
      },
      "source": [
        "\n",
        "**New variables:**\n",
        "*   Age of credit card holder\n",
        "*   Hour of day during transaction\n",
        "*   Average Spent Shopping on the Internet\n",
        "*   Number of distinct merchants transacted with\n",
        "*   Customer Average Transaction Amount\n",
        "\n",
        "\n"
      ]
    },
    {
      "cell_type": "code",
      "execution_count": null,
      "metadata": {
        "colab": {
          "base_uri": "https://localhost:8080/"
        },
        "id": "-GKgvsRV-t0-",
        "outputId": "b31524e1-6bc7-43a4-a369-2d27a1d7a995"
      },
      "outputs": [
        {
          "output_type": "stream",
          "name": "stdout",
          "text": [
            "+---------------------+--------------+------+------+-------+--------+---------+----------+--------+---+----+------------------+---------+------------------+\n",
            "|trans_date_trans_time|      category|   amt|gender|    lat|    long|merch_lat|merch_long|is_fraud|age|hour|average_spent_shop|num_merch|   avg_transaction|\n",
            "+---------------------+--------------+------+------+-------+--------+---------+----------+--------+---+----+------------------+---------+------------------+\n",
            "|  2013-06-21 12:39:56|   food_dining| 60.07|     M|44.8955|-85.4082|45.877554|-85.362472|       0| 34|  12| 271.5626086956522|      185|139.51893023255815|\n",
            "|  2013-06-21 14:38:24|  shopping_pos|  3.17|     M|41.0935|-81.0425|40.859421|-80.528177|       0| 39|  14|18.358666666666668|      191| 50.83199095022624|\n",
            "|  2013-06-21 18:58:27| personal_care| 70.37|     M|44.8955|-85.4082|44.706944|-84.944875|       0| 34|  18| 271.5626086956522|      185|139.51893023255815|\n",
            "|  2013-06-22 04:53:44|      misc_pos| 35.55|     M|44.8955|-85.4082|44.647156| -85.30773|       0| 34|   4| 271.5626086956522|      185|139.51893023255815|\n",
            "|  2013-06-22 11:46:07|  shopping_pos|  3.53|     M|42.9993|-88.2196|43.307855|-89.119959|       0| 74|  11|257.90677419354836|      332| 91.13827659574468|\n",
            "|  2013-06-22 15:51:35|     kids_pets| 70.84|     M|42.9993|-88.2196|42.595498|-87.653389|       0| 74|  15|257.90677419354836|      332| 91.13827659574468|\n",
            "|  2013-06-22 19:44:35|     kids_pets|  68.1|     M|42.9993|-88.2196|43.482487| -88.44286|       0| 74|  19|257.90677419354836|      332| 91.13827659574468|\n",
            "|  2013-06-22 23:31:11|          home|  43.4|     M|41.0935|-81.0425|41.440144|-81.431038|       0| 39|  23|18.358666666666668|      191| 50.83199095022624|\n",
            "|  2013-06-23 13:30:51| personal_care| 15.79|     M|42.9993|-88.2196|42.806386| -88.97748|       0| 74|  13|257.90677419354836|      332| 91.13827659574468|\n",
            "|  2013-06-23 19:12:19|     kids_pets| 21.07|     M|41.0935|-81.0425| 41.63231|-80.651963|       0| 39|  19|18.358666666666668|      191| 50.83199095022624|\n",
            "|  2013-06-23 19:23:42|     kids_pets|200.38|     M|42.9993|-88.2196|42.846236| -87.49307|       0| 74|  19|257.90677419354836|      332| 91.13827659574468|\n",
            "|  2013-06-23 21:03:17|          home| 77.11|     M|42.9993|-88.2196|42.969048|-88.770006|       0| 74|  21|257.90677419354836|      332| 91.13827659574468|\n",
            "|  2013-06-24 04:36:34|      misc_net| 120.7|     M|44.8955|-85.4082|45.729853|-86.232562|       0| 34|   4| 271.5626086956522|      185|139.51893023255815|\n",
            "|  2013-06-24 04:54:12|      misc_pos| 30.53|     M|44.8955|-85.4082|44.182081|-85.870407|       0| 34|   4| 271.5626086956522|      185|139.51893023255815|\n",
            "|  2013-06-24 10:06:34| entertainment| 20.54|     M|42.9993|-88.2196|43.065169| -88.50304|       0| 74|  10|257.90677419354836|      332| 91.13827659574468|\n",
            "|  2013-06-24 13:33:05|health_fitness|  39.7|     M|41.0935|-81.0425|41.707033|-80.456362|       0| 39|  13|18.358666666666668|      191| 50.83199095022624|\n",
            "|  2013-06-24 16:14:00|      misc_pos| 22.38|     M|41.0935|-81.0425|41.794763|-80.365683|       0| 39|  16|18.358666666666668|      191| 50.83199095022624|\n",
            "|  2013-06-24 18:18:35| personal_care| 97.94|     M|41.0935|-81.0425| 41.29571|-81.493848|       0| 39|  18|18.358666666666668|      191| 50.83199095022624|\n",
            "|  2013-06-25 07:20:33|      misc_pos| 19.88|     M|42.9993|-88.2196|43.515242|-87.810901|       0| 74|   7|257.90677419354836|      332| 91.13827659574468|\n",
            "|  2013-06-25 08:15:55|  shopping_net| 88.51|     M|44.8955|-85.4082|44.928995|-86.389397|       0| 34|   8| 271.5626086956522|      185|139.51893023255815|\n",
            "+---------------------+--------------+------+------+-------+--------+---------+----------+--------+---+----+------------------+---------+------------------+\n",
            "only showing top 20 rows\n",
            "\n"
          ]
        }
      ],
      "source": [
        "add_age = fraud.withColumn(\"age\", f.to_date(fraud.dob, \"dd/MM/yyyy\"))\\\n",
        "               .withColumn(\"age\", f.year(\"age\"))\n",
        "\n",
        "add_age = add_age.withColumn(\"age\", 2020 - add_age.age).select(\"instance_id\", \"age\")\n",
        "\n",
        "add_hour = spark.sql(\"SELECT instance_id, HOUR(trans_date_trans_time) AS hour FROM fraud\")\n",
        "\n",
        "add_shop = spark.sql(\"SELECT cust_id, AVG(amt) as average_spent_shop \\\n",
        "FROM fraud WHERE category = 'shopping_net' GROUP BY cust_id\")\n",
        "\n",
        "add_merchant = spark.sql(\"SELECT cust_id, COUNT(DISTINCT(merchant)) as \\\n",
        "num_merch FROM fraud GROUP BY cust_id\")\n",
        "\n",
        "add_avgtran = spark.sql(\"SELECT cust_id, AVG(amt) as avg_transaction FROM \\\n",
        "fraud GROUP BY cust_id\")\n",
        "\n",
        "fraud_data = fraud.join(add_age, \"instance_id\").join(add_hour, \"instance_id\")\\\n",
        "                                  .join(add_shop, \"cust_id\")\\\n",
        "                                  .join(add_merchant, \"cust_id\")\\\n",
        "                                  .join(add_avgtran, \"cust_id\")\\\n",
        "                                  .drop(\"cust_id\")\\\n",
        "                                  .drop(\"instance_id\")\\\n",
        "                                  .drop(\"first\")\\\n",
        "                                  .drop(\"last\")\\\n",
        "                                  .drop(\"street\")\\\n",
        "                                  .drop(\"state\")\\\n",
        "                                  .drop(\"zip\")\\\n",
        "                                  .drop(\"city_pop\")\\\n",
        "                                  .drop(\"dob\")\\\n",
        "                                  .drop(\"trans_id\")\\\n",
        "                                  .drop(\"city\")\\\n",
        "                                  .drop(\"merchant\")\\\n",
        "                                  .drop(\"job\")\n",
        "\n",
        "fraud_data.createOrReplaceTempView(\"fraud_data\")\n",
        "fraud_data.show()"
      ]
    },
    {
      "cell_type": "markdown",
      "metadata": {
        "id": "j40PCo9w_6NB"
      },
      "source": [
        "# Creating Training and Test Data"
      ]
    },
    {
      "cell_type": "markdown",
      "metadata": {
        "id": "ZozgAUPGCQE3"
      },
      "source": [
        "The testing data set which is for the month of December is approximately 25% of the entire data set.\n",
        "\n",
        "To summarize, the numerical predictors are\n",
        "\n",
        "*   amount of transaction (amt)\n",
        "*   latitude of card holder's location (lat)\n",
        "*   longitude of card holder's location (long)\n",
        "*   latitude of merchant's location (merch_lat)\n",
        "*   longitude of merchant's location (merch_long)\n",
        "*   age of card holder (age)\n",
        "*   hour of transaction (hour)\n",
        "*   average spent on shopping online (average_spent_shop)\n",
        "*   number of distinct merchants transacted with (num_merch)\n",
        "*   average transaction amount (avg_transaction)\n",
        "\n",
        "and the categorical predictors are\n",
        "\n",
        "*   Category of transaction (category)\n",
        "*   Gender (gender)\n",
        "\n"
      ]
    },
    {
      "cell_type": "code",
      "execution_count": null,
      "metadata": {
        "colab": {
          "base_uri": "https://localhost:8080/"
        },
        "id": "volcHN_f_5xU",
        "outputId": "e29fe3b8-a7ea-41f5-b613-424171439864"
      },
      "outputs": [
        {
          "output_type": "stream",
          "name": "stdout",
          "text": [
            "1887\n",
            "258\n",
            "416181\n",
            "139538\n",
            "+--------------+------+------+-------+--------+---------+----------+-----+---+----+------------------+---------+------------------+\n",
            "|      category|   amt|gender|    lat|    long|merch_lat|merch_long|label|age|hour|average_spent_shop|num_merch|   avg_transaction|\n",
            "+--------------+------+------+-------+--------+---------+----------+-----+---+----+------------------+---------+------------------+\n",
            "|   food_dining| 60.07|     M|44.8955|-85.4082|45.877554|-85.362472|    0| 34|  12| 271.5626086956522|      185|139.51893023255815|\n",
            "| personal_care| 70.37|     M|44.8955|-85.4082|44.706944|-84.944875|    0| 34|  18| 271.5626086956522|      185|139.51893023255815|\n",
            "|      misc_pos| 35.55|     M|44.8955|-85.4082|44.647156| -85.30773|    0| 34|   4| 271.5626086956522|      185|139.51893023255815|\n",
            "|      misc_net| 120.7|     M|44.8955|-85.4082|45.729853|-86.232562|    0| 34|   4| 271.5626086956522|      185|139.51893023255815|\n",
            "|      misc_pos| 30.53|     M|44.8955|-85.4082|44.182081|-85.870407|    0| 34|   4| 271.5626086956522|      185|139.51893023255815|\n",
            "|  shopping_net| 88.51|     M|44.8955|-85.4082|44.928995|-86.389397|    0| 34|   8| 271.5626086956522|      185|139.51893023255815|\n",
            "|health_fitness| 71.41|     M|44.8955|-85.4082|44.146692|-85.690894|    0| 34|  16| 271.5626086956522|      185|139.51893023255815|\n",
            "| entertainment| 75.09|     M|44.8955|-85.4082|45.156463|-84.567255|    0| 34|  23| 271.5626086956522|      185|139.51893023255815|\n",
            "|      misc_pos| 28.97|     M|44.8955|-85.4082|44.216666| -84.57929|    0| 34|   7| 271.5626086956522|      185|139.51893023255815|\n",
            "|  shopping_pos|154.03|     M|44.8955|-85.4082|44.243245|-84.705164|    0| 34|   3| 271.5626086956522|      185|139.51893023255815|\n",
            "|   grocery_pos| 95.28|     M|44.8955|-85.4082|44.826558|-86.354488|    0| 34|   6| 271.5626086956522|      185|139.51893023255815|\n",
            "|   grocery_pos|  92.8|     M|44.8955|-85.4082|45.740109|-84.959243|    0| 34|  10| 271.5626086956522|      185|139.51893023255815|\n",
            "| entertainment| 78.56|     M|44.8955|-85.4082|45.747522|-84.526438|    0| 34|  12| 271.5626086956522|      185|139.51893023255815|\n",
            "| personal_care| 75.64|     M|44.8955|-85.4082|45.678397|-84.549618|    0| 34|  19| 271.5626086956522|      185|139.51893023255815|\n",
            "|  shopping_pos|144.99|     M|44.8955|-85.4082|44.625217|-85.152657|    0| 34|   3| 271.5626086956522|      185|139.51893023255815|\n",
            "|health_fitness| 73.46|     M|44.8955|-85.4082|44.356548|-86.331635|    0| 34|  16| 271.5626086956522|      185|139.51893023255815|\n",
            "| entertainment| 68.02|     M|44.8955|-85.4082| 45.62997|-85.048371|    0| 34|  19| 271.5626086956522|      185|139.51893023255815|\n",
            "|     kids_pets| 52.07|     M|44.8955|-85.4082|44.685719|-85.039275|    0| 34|  16| 271.5626086956522|      185|139.51893023255815|\n",
            "|     kids_pets| 42.88|     M|44.8955|-85.4082|45.410095| -85.86847|    0| 34|  21| 271.5626086956522|      185|139.51893023255815|\n",
            "|          home| 71.15|     M|44.8955|-85.4082|44.475011|-85.109468|    0| 34|  22| 271.5626086956522|      185|139.51893023255815|\n",
            "+--------------+------+------+-------+--------+---------+----------+-----+---+----+------------------+---------+------------------+\n",
            "only showing top 20 rows\n",
            "\n"
          ]
        }
      ],
      "source": [
        "train_data = spark.sql(\"SELECT * FROM fraud_data WHERE MONTH(trans_date_trans_time) < 12\")\n",
        "\n",
        "train_data = train_data.drop(\"trans_date_trans_time\")\\\n",
        "                       .withColumnRenamed(\"is_fraud\", \"label\")\\\n",
        "                       .cache()\n",
        "\n",
        "test_data = spark.sql(\"SELECT * FROM fraud_data WHERE MONTH(trans_date_trans_time) = 12\")\n",
        "\n",
        "test_data = test_data.drop(\"trans_date_trans_time\")\\\n",
        "                     .withColumnRenamed(\"is_fraud\", \"label\")\\\n",
        "                     .cache()\n",
        "\n",
        "print(train_data.filter(\"is_fraud = 1\").count())\n",
        "print(test_data.filter(\"is_fraud = 1\").count())\n",
        "print(train_data.count())\n",
        "print(test_data.count())\n",
        "train_data.show()\n"
      ]
    },
    {
      "cell_type": "markdown",
      "metadata": {
        "id": "ltblhHkyOP39"
      },
      "source": [
        "# Setting up the Pipeline for Machine Learning Models"
      ]
    },
    {
      "cell_type": "markdown",
      "metadata": {
        "id": "NVfRYxOiOZwV"
      },
      "source": [
        "The first stage in the pipeline will be to encode the categorical features which are string type using StringIndexer. This is so that we can do the second stage which is to map the categorical features represented as label index to a binary vector using OneHotEncoder. This encoding will allow us to build machine learning models like logistic regression since we need numeric features for it. OneHotEncoder can transform multiple columns. Then in the third stage we can scale the numeric features using MinMaxScaler after using VectorAssembler to convert the numeric features into one vector. Then in the last step combine all the vectors using VectorAssembler into one feature. The stages consists of what is called transformers and estimators in pyspark's machine learning library for data frames.\n",
        "\n",
        "In spark, an estimator is basically a learning algorithm like logistic regression and other machine learning algorithms. Once we obtain a model from fitting the training data we have what is called a transformer which is what transforms one data frame to another. For example, a transformer will transform the training data set into another data frame with predictions. Finally, a pipeline is a chain of estimators and transformers where we specify our machine learning workflow. In this workflow we first encode the variables and create a column \"features\". This column consists of vectors of our features which is needed to run classification algorithms in Spark MLlib."
      ]
    },
    {
      "cell_type": "code",
      "execution_count": null,
      "metadata": {
        "id": "tLj8JNtnVN_U"
      },
      "outputs": [],
      "source": [
        "from pyspark.ml import Pipeline\n",
        "from pyspark.ml.feature import StringIndexer\n",
        "from pyspark.ml.feature import OneHotEncoder\n",
        "from pyspark.ml.feature import VectorAssembler\n",
        "from pyspark.ml.feature import MinMaxScaler\n",
        "\n",
        "step_1 = StringIndexer(inputCols = [\"category\", \"gender\"], \\\n",
        "                       outputCols = [\"category_enc\", \"gender_enc\"])\n",
        "\n",
        "step_2 = OneHotEncoder(inputCols = [\"category_enc\", \"gender_enc\"],\\\n",
        "                       outputCols = [\"category_vec\", \"gender_vec\"])\n",
        "\n",
        "step_3 = VectorAssembler(inputCols = [\"amt\", \"lat\", \"long\", \"merch_lat\", \\\n",
        "                                      \"merch_long\", \"age\", \"hour\", \\\n",
        "                                      \"average_spent_shop\", \"num_merch\", \\\n",
        "                                      \"avg_transaction\"], \\\n",
        "                         outputCol = \"numeric_features\")\n",
        "\n",
        "step_4 = MinMaxScaler(inputCol = \"numeric_features\", \\\n",
        "                      outputCol = \"numeric_features_scaled\")\n",
        "\n",
        "step_5 = VectorAssembler(inputCols = [\"numeric_features_scaled\", \\\n",
        "                                      \"category_vec\", \"gender_vec\"], \\\n",
        "                         outputCol = \"features\")\n"
      ]
    },
    {
      "cell_type": "markdown",
      "metadata": {
        "id": "jXIl-y5QlmPC"
      },
      "source": [
        "# Logistic Regression Classifier"
      ]
    },
    {
      "cell_type": "markdown",
      "metadata": {
        "id": "P34SgRQQ9c9M"
      },
      "source": [
        "The first machine learning model is logistic regression which we have already conveniently one hot encoded all categorical variables in the preparing pipeline stage."
      ]
    },
    {
      "cell_type": "markdown",
      "metadata": {
        "id": "7-2DSZ9O9Zr7"
      },
      "source": [
        "## Tuning"
      ]
    },
    {
      "cell_type": "markdown",
      "metadata": {
        "id": "ifNXKjiiOGGX"
      },
      "source": [
        "The tool we used for tuning is called CrossValidator in MLlib, which requires a pipeline and evaluator class to evaluate the held out test data using the metric we specify for the evaluator. It also requires a paramter grid so that it knows which parameters to tune for, and for this we use ParamGridBuilder. Lastly, we specify the number of folds using numFolds.\n",
        "\n",
        "The pipeline used is as mentioned in the last section, with the last step being the estimator LogisticRegression with maxIter of 10. We perform model selection where the best parameter in question is the regularization parameter. We are tuning only for the logistic regression model in here even though the estimator is our entire pipeline. In reality, the pipeline could contain different algorithms and featurizations where we would have to tune at the same time which is where the functionality of the pipeline comes from apart from having cleaner code. For example, if the data contains missing values, we could tune for different parameters for imputation methods but since our data set is clean from the beginning I find no need to include more complications into the pipeline. The evaluator used is MulticlassClassificationEvaluator for which we specify the f-score as evluation metric and label 1 representing fraud as the label to calculate the f-score. The number of folds is 3 and the parameter grid contains 3 regularization parameters.\n",
        "\n",
        "The model selection process will work by considering each regularization paramter in the paramter grid.\n",
        "\n",
        "For each of the 3 regularization parameter, the following will be repeated 3 times:\n",
        "\n",
        "  1. Randomly split the data into 2/3 of training data and 1/3 held out test data\n",
        "  2. Run logistic regression on training data to get a model\n",
        "  3. Evaluate the model using the test data with f-score\n",
        "\n",
        "Then for each regularization parameter we will have 3 f-scores. Take the average of these 3 f-scores and we have an average metric for each regularization parameter. The regularization parameter giving highest average metric will be the one chosen to fit for the best model using the entire data set in the end.\n",
        "\n",
        "With our 3 regularization parameters in the grid and 3 folds, a total of 9 models will be trained."
      ]
    },
    {
      "cell_type": "code",
      "execution_count": null,
      "metadata": {
        "colab": {
          "base_uri": "https://localhost:8080/"
        },
        "id": "O1WlqdnOmC84",
        "outputId": "450f06e2-4a27-4fab-acf0-a9c365088ffc"
      },
      "outputs": [
        {
          "output_type": "execute_result",
          "data": {
            "text/plain": [
              "[0.20418814795082071, 0.1309417276585377, 0.01878275494881886]"
            ]
          },
          "metadata": {},
          "execution_count": 30
        }
      ],
      "source": [
        "from pyspark.ml.classification import LogisticRegression\n",
        "from pyspark.ml.evaluation import MulticlassClassificationEvaluator\n",
        "from pyspark.ml.tuning import CrossValidator, ParamGridBuilder\n",
        "\n",
        "lr = LogisticRegression(maxIter=10)\n",
        "\n",
        "pipeline = Pipeline(stages = [step_1, step_2, step_3, step_4, step_5, lr])\n",
        "\n",
        "paramGrid = ParamGridBuilder().addGrid(lr.regParam, [0.0, 0.01, 0.1]).build()\n",
        "\n",
        "crossval = CrossValidator(estimator = pipeline, estimatorParamMaps = paramGrid,\\\n",
        "                          evaluator = MulticlassClassificationEvaluator\\\n",
        "                           (metricName='fMeasureByLabel', metricLabel = 1),\\\n",
        "                          numFolds = 3)\n",
        "\n",
        "cvModel = crossval.fit(train_data)\n",
        "\n",
        "cvModel.avgMetrics"
      ]
    },
    {
      "cell_type": "markdown",
      "metadata": {
        "id": "IhVJSa5tOM6U"
      },
      "source": [
        "The best regularization parameter for logistic regression turns out to be 0. Once we fit the training data using CrossValidator, it will represent the best model (i.e. cvModel will contain the model trained with regularization parameter 0). We can then use bestModel attribute of the CrossValidationModel class to get our respective model. In our case it would be the LogisticRegressionModel. Once we do this, we can access all attributes of our LogisticRegressionModel and get additional information.\n",
        "\n",
        "We tuned for the regularization parameter only and overall the parameter grid is small so that the run time does not take hours as our data set is not small. As we are not doing this on a cluster, the tuning is very expensive. Additionally, since the objective is more about learning, the tuning process is simple with a small grid. As we will see in the end with gradient boosted trees that despite simple tuning, it is sufficient to get good results."
      ]
    },
    {
      "cell_type": "markdown",
      "metadata": {
        "id": "H6m-ZLORUUK1"
      },
      "source": [
        "## Evaluation of Training Set"
      ]
    },
    {
      "cell_type": "markdown",
      "metadata": {
        "id": "gf0ge0b4Uchy"
      },
      "source": [
        "Using the best model, we get the f-score and accuracy of it on the training data."
      ]
    },
    {
      "cell_type": "code",
      "execution_count": null,
      "metadata": {
        "colab": {
          "base_uri": "https://localhost:8080/"
        },
        "id": "ZNs1kkBBC-G-",
        "outputId": "7123746d-a295-414e-dc6b-bde675309b96"
      },
      "outputs": [
        {
          "output_type": "stream",
          "name": "stdout",
          "text": [
            "f score = 0.20487364620938628\n",
            "accuracy = 0.995766265158669\n"
          ]
        }
      ],
      "source": [
        "predict_train = cvModel.transform(train_data)\n",
        "\n",
        "# f-score evaluator\n",
        "evaluator_f = MulticlassClassificationEvaluator(metricName = \"fMeasureByLabel\", metricLabel = 1)\n",
        "\n",
        "# accuracy evaluator\n",
        "evaluator_acc = MulticlassClassificationEvaluator(metricName = \"accuracy\")\n",
        "\n",
        "# F score for the best lr model\n",
        "lr_f = evaluator_f.evaluate(predict_train)\n",
        "\n",
        "# accuracy for the best lr model\n",
        "lr_acc = evaluator_acc.evaluate(predict_train)\n",
        "\n",
        "print(f\"f score = {lr_f}\")\n",
        "print(f\"accuracy = {lr_acc}\")\n"
      ]
    },
    {
      "cell_type": "code",
      "source": [],
      "metadata": {
        "id": "Tw4K0dgQGm5J"
      },
      "execution_count": null,
      "outputs": []
    },
    {
      "cell_type": "markdown",
      "metadata": {
        "id": "eKQ2uDfiQt26"
      },
      "source": [
        "Get recall value as well."
      ]
    },
    {
      "cell_type": "code",
      "execution_count": null,
      "metadata": {
        "colab": {
          "base_uri": "https://localhost:8080/"
        },
        "id": "4l7GF5r5QQlI",
        "outputId": "4188d7bb-f0c0-470e-a4ab-4ad607186b46"
      },
      "outputs": [
        {
          "output_type": "stream",
          "name": "stdout",
          "text": [
            "227\n",
            "1887\n",
            "recall = 0.12029676735559089\n"
          ]
        }
      ],
      "source": [
        "TP = predict_train.filter(\"label = 1 and prediction = 1\").count()\n",
        "\n",
        "FN = predict_train.filter(\"label = 1 and prediction = 0\").count()\n",
        "\n",
        "FP = predict_train.filter(\"label = 0 and prediction = 1\").count()\n",
        "\n",
        "TN = predict_train.filter(\"label = 0 and prediction = 0\").count()\n",
        "\n",
        "lr_recall = TP / (TP + FN)\n",
        "\n",
        "print(TP)\n",
        "print(TP + FN)\n",
        "print(f\"recall = {lr_recall}\")"
      ]
    },
    {
      "cell_type": "code",
      "source": [
        "TP/(TP + FP)"
      ],
      "metadata": {
        "colab": {
          "base_uri": "https://localhost:8080/"
        },
        "id": "7qtPQe7xG_hx",
        "outputId": "5ccac7a4-102d-45e5-8845-d61aacf5afc9"
      },
      "execution_count": null,
      "outputs": [
        {
          "output_type": "execute_result",
          "data": {
            "text/plain": [
              "0.6899696048632219"
            ]
          },
          "metadata": {},
          "execution_count": 38
        }
      ]
    },
    {
      "cell_type": "markdown",
      "metadata": {
        "id": "8Fo8SoY8SBjd"
      },
      "source": [
        "Confusion Matrix for the Best Logistic Regression Model on Training data:"
      ]
    },
    {
      "cell_type": "code",
      "execution_count": null,
      "metadata": {
        "colab": {
          "base_uri": "https://localhost:8080/"
        },
        "id": "sz1n0mwRSIwd",
        "outputId": "3c126911-105b-4096-e8aa-14f3e53518c2"
      },
      "outputs": [
        {
          "output_type": "stream",
          "name": "stdout",
          "text": [
            "227\n",
            "414192\n",
            "1660\n",
            "102\n"
          ]
        }
      ],
      "source": [
        "print(TP)\n",
        "print(TN)\n",
        "print(FN)\n",
        "print(FP)"
      ]
    },
    {
      "cell_type": "markdown",
      "metadata": {
        "id": "aPaFmTYOZN5m"
      },
      "source": [
        "# Gradient Boosted Trees Classifier"
      ]
    },
    {
      "cell_type": "markdown",
      "metadata": {
        "id": "RXXgtcD7a2j9"
      },
      "source": [
        "The second and last machine learning algorithm to implement in MLlib is gradient boosted trees classifier which performs significantly better than logistic regression."
      ]
    },
    {
      "cell_type": "markdown",
      "metadata": {
        "id": "ISP2oANZX-9V"
      },
      "source": [
        "## Tuning"
      ]
    },
    {
      "cell_type": "markdown",
      "metadata": {
        "id": "2UG2XGoJZu3N"
      },
      "source": [
        "Just like logistic regression, we perform model selection using CrossValidator with the the usual pipeline but the last step involves the GBTClassifier estimator. The parameter grid this time consists of maxDepth values 3, 5, and 8. maxDepth is the parameter in GBTClassifier specifying the maximum height of the tree. The default maxDepth is 5 but we try a lower maxDepth in case of overfitting and a higher maxDepth to experiment. The same evaluator MulticlassClassificationEvaluator with metric being f-score is used as we are only interested in f-score when selecting model. The number of folds is again 3. I tried to use a larger grid to tune for more parameters like iterations and larger folds but the run time is atleast an hour with google colab CPU and the result is not significant. Thus, we only tune for the maxDepth parameter in GBTClassifier."
      ]
    },
    {
      "cell_type": "code",
      "execution_count": null,
      "metadata": {
        "colab": {
          "base_uri": "https://localhost:8080/"
        },
        "id": "DwcY99vQZ9HP",
        "outputId": "36cef97b-5c90-4943-8b66-8c99aafb9f7b"
      },
      "outputs": [
        {
          "data": {
            "text/plain": [
              "[0.5280599821917251, 0.694683860976658, 0.7826349553743238]"
            ]
          },
          "execution_count": 24,
          "metadata": {},
          "output_type": "execute_result"
        }
      ],
      "source": [
        "# Takes more than an hour to run\n",
        "\n",
        "# Results are [0.5280599821917251, 0.694683860976658, 0.7826349553743238]\n",
        "# so the best model from cross validation with 3 folds is the one with maxDepth\n",
        "# 8\n",
        "\n",
        "from pyspark.ml.classification import GBTClassifier\n",
        "from pyspark.ml.evaluation import MulticlassClassificationEvaluator\n",
        "from pyspark.ml.tuning import CrossValidator, ParamGridBuilder\n",
        "\n",
        "gbt = GBTClassifier()\n",
        "\n",
        "gbt_pipeline = Pipeline(stages = [step_1, step_2, step_3, step_4, step_5, gbt])\n",
        "\n",
        "gbt_paramGrid = ParamGridBuilder().addGrid(gbt.maxDepth, [3, 5, 8]).build()\n",
        "\n",
        "gbt_crossval = CrossValidator(estimator = gbt_pipeline, \\\n",
        "                              estimatorParamMaps = gbt_paramGrid, \\\n",
        "                          evaluator = MulticlassClassificationEvaluator\\\n",
        "                           (metricName='fMeasureByLabel', metricLabel = 1),\\\n",
        "                          numFolds = 3)\n",
        "\n",
        "gbt_cvModel = gbt_crossval.fit(train_data)\n",
        "\n",
        "gbt_cvModel.avgMetrics"
      ]
    },
    {
      "cell_type": "markdown",
      "metadata": {
        "id": "_Ehto3xk1zV-"
      },
      "source": [
        "The best value for maxDepth turns out to be 8 so we now train a gradient boosted tree with maxDepth 8. I ran cross validation once and found that maxDepth is optimized at 8 and it took more than an hour to run. Since it is not necessary to run the cross validation again as we already know the optimal maxDepth and the fact that it will take a long time, which is why I trained a gradient boosted tree with maxDepth of 8 by fitting the pipeline using pipeline.fit(train_data) directly. This gives back a PipelineModel instead of CrossValidationModel like in logistic regression but there is no practical difference in terms of evaluating our training set."
      ]
    },
    {
      "cell_type": "code",
      "execution_count": null,
      "metadata": {
        "id": "eXBmER5ZaV3r"
      },
      "outputs": [],
      "source": [
        "from pyspark.ml.classification import GBTClassifier\n",
        "from pyspark.ml.evaluation import MulticlassClassificationEvaluator\n",
        "from pyspark.ml.tuning import CrossValidator, ParamGridBuilder\n",
        "\n",
        "gbt_final = GBTClassifier(maxDepth = 8, seed = 28)\n",
        "\n",
        "gbt_pipeline_final = Pipeline(stages = [step_1, step_2, step_3, step_4, step_5, gbt_final])\n",
        "\n",
        "gbt_model = gbt_pipeline_final.fit(train_data)"
      ]
    },
    {
      "cell_type": "markdown",
      "metadata": {
        "id": "KX-NGPfLobrD"
      },
      "source": [
        "## Evaluation of Training Set"
      ]
    },
    {
      "cell_type": "markdown",
      "metadata": {
        "id": "jnT2iqBqonDa"
      },
      "source": [
        "Now we evaluate the best model which is the gradient boosted tree we trained using maxDepth of 8. We evaluate on the training set for the f-score, accuracy, and recall."
      ]
    },
    {
      "cell_type": "code",
      "execution_count": null,
      "metadata": {
        "id": "AlK0KAf6-Xz4"
      },
      "outputs": [],
      "source": [
        "# Gradient Boosted Tree Model Class\n",
        "final_model = gbt_model.stages[-1]\n",
        "\n",
        "# Metric evaluator for f score\n",
        "evaluator_f = MulticlassClassificationEvaluator(metricName = \"fMeasureByLabel\", metricLabel = 1)\n",
        "\n",
        "# Metric evaluator for accuracy\n",
        "evaluator_acc = MulticlassClassificationEvaluator(metricName = \"accuracy\")\n",
        "\n",
        "# transform training data set using gbt model\n",
        "gbt_predict_train = gbt_model.transform(train_data)"
      ]
    },
    {
      "cell_type": "markdown",
      "metadata": {
        "id": "rbsO1AY74ieg"
      },
      "source": [
        "Get the f1 score"
      ]
    },
    {
      "cell_type": "code",
      "execution_count": null,
      "metadata": {
        "colab": {
          "base_uri": "https://localhost:8080/"
        },
        "id": "UaZMsFIg4QIy",
        "outputId": "02ea1af4-b75f-47f3-f26b-b35184691632"
      },
      "outputs": [
        {
          "output_type": "stream",
          "name": "stdout",
          "text": [
            "0.8505540581012279\n"
          ]
        }
      ],
      "source": [
        "gbt_f_score = evaluator_f.evaluate(gbt_predict_train)\n",
        "\n",
        "print(gbt_f_score)"
      ]
    },
    {
      "cell_type": "markdown",
      "metadata": {
        "id": "_OefYVei4k65"
      },
      "source": [
        "Get the recall value"
      ]
    },
    {
      "cell_type": "code",
      "execution_count": null,
      "metadata": {
        "colab": {
          "base_uri": "https://localhost:8080/"
        },
        "id": "_k6pzRq_4h6B",
        "outputId": "3ffa5baf-3da4-48ac-8348-8b3d20982843"
      },
      "outputs": [
        {
          "output_type": "stream",
          "name": "stdout",
          "text": [
            "1420\n",
            "1887\n",
            "0.7525172231054584\n"
          ]
        }
      ],
      "source": [
        "TP = gbt_predict_train.filter(\"label = 1 and prediction = 1\").count()\n",
        "\n",
        "FN = gbt_predict_train.filter(\"label = 1 and prediction = 0\").count()\n",
        "\n",
        "FP = gbt_predict_train.filter(\"label = 0 and prediction = 1\").count()\n",
        "\n",
        "TN = gbt_predict_train.filter(\"label = 0 and prediction = 0\").count()\n",
        "\n",
        "gbt_recall = TP / (TP + FN)\n",
        "\n",
        "print(TP)\n",
        "print(TP + FN)\n",
        "print(gbt_recall)"
      ]
    },
    {
      "cell_type": "code",
      "source": [
        "TP/(TP + FP)"
      ],
      "metadata": {
        "colab": {
          "base_uri": "https://localhost:8080/"
        },
        "id": "ayz9qIOWIAEk",
        "outputId": "82b6d11e-7137-4bb7-862c-eaa44a6507ce"
      },
      "execution_count": null,
      "outputs": [
        {
          "output_type": "execute_result",
          "data": {
            "text/plain": [
              "0.977961432506887"
            ]
          },
          "metadata": {},
          "execution_count": 43
        }
      ]
    },
    {
      "cell_type": "markdown",
      "metadata": {
        "id": "40KWIM3b5RVh"
      },
      "source": [
        "Get Accuracy"
      ]
    },
    {
      "cell_type": "code",
      "execution_count": null,
      "metadata": {
        "colab": {
          "base_uri": "https://localhost:8080/"
        },
        "id": "PNyxI0zM5UeZ",
        "outputId": "404afc10-f2ad-4f68-b270-2d37b8663529"
      },
      "outputs": [
        {
          "output_type": "stream",
          "name": "stdout",
          "text": [
            "0.9988010024484539\n"
          ]
        }
      ],
      "source": [
        "gbt_acc = evaluator_acc.evaluate(gbt_predict_train)\n",
        "\n",
        "print(gbt_acc)"
      ]
    },
    {
      "cell_type": "markdown",
      "metadata": {
        "id": "9N3xiNRhSOo1"
      },
      "source": [
        "Confusion matrix for the best GBT model on the training data:"
      ]
    },
    {
      "cell_type": "code",
      "execution_count": null,
      "metadata": {
        "colab": {
          "base_uri": "https://localhost:8080/"
        },
        "id": "QhWhf7g5Ylcf",
        "outputId": "b4f6451c-8d40-4214-ef10-3976a3fb2721"
      },
      "outputs": [
        {
          "output_type": "stream",
          "name": "stdout",
          "text": [
            "1420\n",
            "414262\n",
            "467\n",
            "32\n"
          ]
        }
      ],
      "source": [
        "print(TP)\n",
        "print(TN)\n",
        "print(FN)\n",
        "print(FP)"
      ]
    },
    {
      "cell_type": "markdown",
      "metadata": {
        "id": "o1BvhTO6s3Q6"
      },
      "source": [
        "## Get Feature Importances"
      ]
    },
    {
      "cell_type": "markdown",
      "metadata": {
        "id": "BESeSyg466Km"
      },
      "source": [
        "Get most important features according to the best model"
      ]
    },
    {
      "cell_type": "code",
      "execution_count": null,
      "metadata": {
        "colab": {
          "base_uri": "https://localhost:8080/"
        },
        "id": "Q__E6vCg6Y2L",
        "outputId": "d589734b-0f41-4c1b-a172-31803a91a976"
      },
      "outputs": [
        {
          "output_type": "execute_result",
          "data": {
            "text/plain": [
              "SparseVector(24, {0: 0.1354, 1: 0.0283, 2: 0.024, 3: 0.0207, 4: 0.0173, 5: 0.1448, 6: 0.1334, 7: 0.0934, 8: 0.037, 9: 0.1068, 10: 0.0369, 11: 0.063, 12: 0.0111, 13: 0.02, 14: 0.01, 15: 0.0231, 16: 0.0175, 17: 0.0052, 18: 0.0077, 19: 0.0033, 20: 0.0146, 21: 0.0209, 22: 0.0065, 23: 0.0191})"
            ]
          },
          "metadata": {},
          "execution_count": 24
        }
      ],
      "source": [
        "top_features = final_model.featureImportances\n",
        "\n",
        "top_features"
      ]
    },
    {
      "cell_type": "markdown",
      "metadata": {
        "id": "hoqHA_4jGVHx"
      },
      "source": [
        "Amount of transaction, age of card holder and hour of transaction were important features."
      ]
    },
    {
      "cell_type": "markdown",
      "metadata": {
        "id": "8nCwGqU5I2uf"
      },
      "source": [
        "# Structured Streaming"
      ]
    },
    {
      "cell_type": "markdown",
      "metadata": {
        "id": "j8IJOM9Cy_PX"
      },
      "source": [
        "In the last section we stream in the test data which represents the transactions during December to do prediction. We will use the gradient boosted tree model that we trained to do the predictions of whether the transaction is a fraud or not. We will not consider the logistic regression model to do live prediction as it performs significantly worse.\n",
        "\n",
        "Since the input data format to stream is in batches, we will first split the test data by hour since we have a variable representing hour of transaction. After splitting we will have 24 files where each will represent transactions during an hour and the hour ranges from 0 to 23. This will represent a more realistic scenario where we stream in data every hour and do prediction of fraud."
      ]
    },
    {
      "cell_type": "markdown",
      "metadata": {
        "id": "4yOHYWXd0N_G"
      },
      "source": [
        "## Splitting the test data"
      ]
    },
    {
      "cell_type": "markdown",
      "source": [
        "We use for loop and filter the test data frame by hour and then use write.csv to write into test_data_split in our directory where we include the header and use \"append\" mode to add to existing file. The order in which we write the files starts with hour 0 data and all the way to hour 23. This is good since spark streaming will read in oldest files first which means hour 0 is read first since its the first file we write, which is what we want."
      ],
      "metadata": {
        "id": "6SHOiDRaJDao"
      }
    },
    {
      "cell_type": "code",
      "execution_count": null,
      "metadata": {
        "id": "DyKcO5Uh1XS-"
      },
      "outputs": [],
      "source": [
        "import shutil, os\n",
        "# Remove folder if it already exist so we don't rewrite\n",
        "if os.path.isdir(\"test_data_split\"):\n",
        "    shutil.rmtree(\"test_data_split\")\n",
        "\n",
        "# Split the test data and save into folder test_data_split\n",
        "for i in range(24):\n",
        "  hour = test_data.filter(f\"hour = {i}\").repartition(1)\n",
        "  hour.write.csv(f\"test_data_split/\", header = True, mode = \"append\")"
      ]
    },
    {
      "cell_type": "markdown",
      "source": [
        "## Create streaming data frame"
      ],
      "metadata": {
        "id": "z3v7boUgKMBN"
      }
    },
    {
      "cell_type": "markdown",
      "source": [
        "We create a streaming data frame which represents an unbounded table to be appeneded to as we stream the data. This data frame is not receiving any data yet as streaming is yet to start. We can think of this step as setting up the data stream as an unbounded table and we have to specify our options for this \"unbounded\" table. For example we specify that maxFilesPerTrigger is 1 so only 1 file which represents a particular hour will be considered in every trigger.\n",
        "\n",
        "Before creating the source for streaming data frame, we have to get the schema from the test data since by default, structured streaming from file source requires specification of schema according to spark. This is so that consistent schema will be used for the streaming query despite failure."
      ],
      "metadata": {
        "id": "hPc63KwEvHVM"
      }
    },
    {
      "cell_type": "code",
      "source": [
        "# read the schema from the existing test data csv file\n",
        "read_schema = spark.read.format(\"csv\").option(\"inferSchema\", True)\\\n",
        "                                      .option(\"header\", True)\\\n",
        "                                      .load(\"test_data_split\")\\\n",
        "                                      .limit(1).schema\n",
        "\n",
        "# Create data frame that represents the stream of our test data\n",
        "df = spark.readStream.option(\"maxFilesPerTrigger\", 1)\\\n",
        "                     .csv(\"test_data_split\", schema=read_schema, header=True)"
      ],
      "metadata": {
        "id": "76fXmtPZb8qZ"
      },
      "execution_count": null,
      "outputs": []
    },
    {
      "cell_type": "markdown",
      "source": [
        "## \"real time\" prediction"
      ],
      "metadata": {
        "id": "7FuHKWlEZFd6"
      }
    },
    {
      "cell_type": "markdown",
      "source": [
        "Now we create a query to run on the streaming data frame. After each trigger, new input data will be streamed into the data frame and this query is applied to it. The query will transform the streaming data set using the gradient boosted tree model that we trained previously. The transformed data frame will include the new column \"prediction\" to show us what we predict the test label to be."
      ],
      "metadata": {
        "id": "wIhoJV0SZcIz"
      }
    },
    {
      "cell_type": "code",
      "source": [
        "# Set up the query\n",
        "prediction = gbt_model.transform(df).select(\"label\",\"prediction\",\"hour\",\"amt\")\n"
      ],
      "metadata": {
        "id": "ZjuDHbrhycc1"
      },
      "execution_count": null,
      "outputs": []
    },
    {
      "cell_type": "markdown",
      "source": [
        "Now we use writeStream to decide what is returned as data is streamed. We have to decide on the output sink and output mode.\n",
        "\n",
        "The output sink can be console, memory, file, or other built in output sinks. I could not use console because google colab requires premium and memory sink will store an in-memory table where the entire output is collected as it is for debugging. So I decided to use file output sink and get back 24 parquet files of the predictions for each hour and then convert these parquet files back into a spark data frame.\n",
        "\n",
        "The resulting output sink which is what is outputed externally depends on the output mode. Structured streaming has 3 output modes which are append, complete and update. For the task we will be doing, only append and complete is relevant. For append, only new rows added to the resulting table is provided. This is the default option if we only apply queries that do not change the row like the select method. If our queries aggregate the data frame, then the complete mode is used which returns the entire data frame after each trigger.\n",
        "\n",
        "For real time prediction of the test data, we will be using the gradient boosted tree model that we trained to do prediction. This will transform the test data by adding columns like \"prediction\" which will not change the rows of the data frame after each trigger. After all we are just adding new predicted values as more data is streamed, so the old predicted values do not need to appear again. Hence, append mode will be used."
      ],
      "metadata": {
        "id": "BUJdxgxAdXgR"
      }
    },
    {
      "cell_type": "code",
      "source": [
        "if os.path.isdir(\"predictions\"):\n",
        "    shutil.rmtree(\"predictions\")\n",
        "\n",
        "if os.path.isdir(\"check_point\"):\n",
        "    shutil.rmtree(\"check_point\")\n",
        "\n",
        "prediction.writeStream.format(\"parquet\").option(\"path\", \"predictions/\")\\\n",
        "                                  .option(\"header\", True)\\\n",
        "                                  .option(\"checkpointLocation\",\"check_point/\")\\\n",
        "                                  .outputMode(\"append\")\\\n",
        "                                  .start()"
      ],
      "metadata": {
        "colab": {
          "base_uri": "https://localhost:8080/"
        },
        "id": "O8UgTdAZJEQp",
        "outputId": "ceda0431-fb13-4393-96a3-9ca2d4d173c7"
      },
      "execution_count": null,
      "outputs": [
        {
          "output_type": "execute_result",
          "data": {
            "text/plain": [
              "<pyspark.sql.streaming.query.StreamingQuery at 0x7a95c8ad4d30>"
            ]
          },
          "metadata": {},
          "execution_count": 120
        }
      ]
    },
    {
      "cell_type": "markdown",
      "source": [
        "After running writeStream we obtain 24 parquet files each containing predictions on the test data for every hour. Convert each of these into spark data frame and we can see the predictions using show(). We also obtain the total amount of fraud predicted for each hour."
      ],
      "metadata": {
        "id": "1kEkzRm_kDjc"
      }
    },
    {
      "cell_type": "code",
      "source": [
        "import os\n",
        "\n",
        "directory = 'predictions'\n",
        "# iterate over files in\n",
        "# that directory\n",
        "\n",
        "total_fraud = 0\n",
        "\n",
        "for filename in os.listdir(directory):\n",
        "\n",
        "    f = os.path.join(directory, filename)\n",
        "\n",
        "    if f[0:16] == \"predictions/part\":\n",
        "\n",
        "      df_pred = spark.read.parquet(f)\n",
        "      df_pred.sort(\"label\", ascending = False).show()\n",
        "\n",
        "      if df_pred.filter(\"prediction = 1\").count() != 0:\n",
        "\n",
        "        total_pred_fraud = df_pred.filter(\"prediction = 1\").select(\"amt\").rdd\\\n",
        "                                  .flatMap(lambda x: x).reduce(lambda x,y:x+y)\n",
        "        print(total_pred_fraud)\n",
        "\n",
        "        total_fraud += total_pred_fraud\n",
        "\n",
        "print(total_fraud)"
      ],
      "metadata": {
        "colab": {
          "base_uri": "https://localhost:8080/"
        },
        "id": "aHWLH9ptT3Cd",
        "outputId": "bc18053a-d4de-4fd3-b1bf-caccfc6cbdc8"
      },
      "execution_count": null,
      "outputs": [
        {
          "output_type": "stream",
          "name": "stdout",
          "text": [
            "+-----+----------+----+------+\n",
            "|label|prediction|hour|   amt|\n",
            "+-----+----------+----+------+\n",
            "|    0|       0.0|   9| 44.07|\n",
            "|    0|       0.0|   9| 76.84|\n",
            "|    0|       0.0|   9| 37.64|\n",
            "|    0|       0.0|   9|108.51|\n",
            "|    0|       0.0|   9|  8.78|\n",
            "|    0|       0.0|   9| 63.46|\n",
            "|    0|       0.0|   9| 79.56|\n",
            "|    0|       0.0|   9|  48.1|\n",
            "|    0|       0.0|   9|121.15|\n",
            "|    0|       0.0|   9|133.34|\n",
            "|    0|       0.0|   9| 73.06|\n",
            "|    0|       0.0|   9| 40.33|\n",
            "|    0|       0.0|   9| 61.98|\n",
            "|    0|       0.0|   9| 58.07|\n",
            "|    0|       0.0|   9| 38.84|\n",
            "|    0|       0.0|   9| 44.43|\n",
            "|    0|       0.0|   9|232.25|\n",
            "|    0|       0.0|   9|  81.1|\n",
            "|    0|       0.0|   9| 26.41|\n",
            "|    0|       0.0|   9| 21.07|\n",
            "+-----+----------+----+------+\n",
            "only showing top 20 rows\n",
            "\n",
            "+-----+----------+----+------+\n",
            "|label|prediction|hour|   amt|\n",
            "+-----+----------+----+------+\n",
            "|    1|       0.0|   5|798.67|\n",
            "|    1|       1.0|   5| 392.0|\n",
            "|    0|       0.0|   5|132.33|\n",
            "|    0|       0.0|   5| 60.07|\n",
            "|    0|       0.0|   5| 70.63|\n",
            "|    0|       0.0|   5|  9.76|\n",
            "|    0|       0.0|   5|135.29|\n",
            "|    0|       0.0|   5| 79.22|\n",
            "|    0|       0.0|   5| 96.08|\n",
            "|    0|       0.0|   5|  6.99|\n",
            "|    0|       0.0|   5|  7.16|\n",
            "|    0|       0.0|   5|  7.36|\n",
            "|    0|       0.0|   5|123.15|\n",
            "|    0|       0.0|   5| 105.6|\n",
            "|    0|       0.0|   5|   6.0|\n",
            "|    0|       0.0|   5|  1.06|\n",
            "|    0|       0.0|   5|145.26|\n",
            "|    0|       0.0|   5|  50.0|\n",
            "|    0|       0.0|   5|139.85|\n",
            "|    0|       0.0|   5|  8.59|\n",
            "+-----+----------+----+------+\n",
            "only showing top 20 rows\n",
            "\n",
            "392.0\n",
            "+-----+----------+----+------+\n",
            "|label|prediction|hour|   amt|\n",
            "+-----+----------+----+------+\n",
            "|    1|       1.0|  10|286.92|\n",
            "|    0|       0.0|  10|164.92|\n",
            "|    0|       0.0|  10| 22.52|\n",
            "|    0|       0.0|  10|104.37|\n",
            "|    0|       0.0|  10|134.11|\n",
            "|    0|       0.0|  10| 68.47|\n",
            "|    0|       0.0|  10|  7.19|\n",
            "|    0|       0.0|  10|  50.4|\n",
            "|    0|       0.0|  10| 76.05|\n",
            "|    0|       0.0|  10|  40.9|\n",
            "|    0|       0.0|  10|144.89|\n",
            "|    0|       0.0|  10|  7.03|\n",
            "|    0|       0.0|  10|  7.33|\n",
            "|    0|       0.0|  10| 43.86|\n",
            "|    0|       0.0|  10|  9.54|\n",
            "|    0|       0.0|  10|  60.2|\n",
            "|    0|       0.0|  10| 66.12|\n",
            "|    0|       0.0|  10| 43.21|\n",
            "|    0|       0.0|  10| 43.15|\n",
            "|    0|       0.0|  10| 66.22|\n",
            "+-----+----------+----+------+\n",
            "only showing top 20 rows\n",
            "\n",
            "286.92\n",
            "+-----+----------+----+------+\n",
            "|label|prediction|hour|   amt|\n",
            "+-----+----------+----+------+\n",
            "|    1|       0.0|  12|  7.88|\n",
            "|    1|       0.0|  12| 938.8|\n",
            "|    1|       0.0|  12|234.54|\n",
            "|    0|       0.0|  12|124.93|\n",
            "|    0|       0.0|  12| 52.98|\n",
            "|    0|       0.0|  12| 73.75|\n",
            "|    0|       0.0|  12|  8.68|\n",
            "|    0|       0.0|  12|141.23|\n",
            "|    0|       0.0|  12| 66.94|\n",
            "|    0|       0.0|  12| 49.47|\n",
            "|    0|       0.0|  12|  4.28|\n",
            "|    0|       0.0|  12| 46.59|\n",
            "|    0|       0.0|  12|285.12|\n",
            "|    0|       0.0|  12| 16.81|\n",
            "|    0|       0.0|  12| 46.05|\n",
            "|    0|       0.0|  12|  8.97|\n",
            "|    0|       0.0|  12|  9.29|\n",
            "|    0|       0.0|  12| 59.12|\n",
            "|    0|       0.0|  12|  2.88|\n",
            "|    0|       0.0|  12| 17.85|\n",
            "+-----+----------+----+------+\n",
            "only showing top 20 rows\n",
            "\n",
            "+-----+----------+----+------+\n",
            "|label|prediction|hour|   amt|\n",
            "+-----+----------+----+------+\n",
            "|    1|       1.0|  22|686.99|\n",
            "|    1|       1.0|  22|745.05|\n",
            "|    1|       1.0|  22|718.27|\n",
            "|    1|       1.0|  22| 327.7|\n",
            "|    1|       1.0|  22|982.07|\n",
            "|    1|       1.0|  22|898.36|\n",
            "|    1|       1.0|  22|821.87|\n",
            "|    1|       1.0|  22|848.91|\n",
            "|    1|       0.0|  22| 18.46|\n",
            "|    1|       0.0|  22|117.49|\n",
            "|    1|       1.0|  22|916.68|\n",
            "|    1|       0.0|  22|  9.02|\n",
            "|    1|       0.0|  22| 991.1|\n",
            "|    1|       0.0|  22|991.22|\n",
            "|    1|       0.0|  22| 22.18|\n",
            "|    1|       1.0|  22| 893.8|\n",
            "|    1|       1.0|  22|886.33|\n",
            "|    1|       0.0|  22| 49.51|\n",
            "|    1|       0.0|  22|  9.27|\n",
            "|    1|       1.0|  22|949.82|\n",
            "+-----+----------+----+------+\n",
            "only showing top 20 rows\n",
            "\n",
            "36405.89000000001\n",
            "+-----+----------+----+------+\n",
            "|label|prediction|hour|   amt|\n",
            "+-----+----------+----+------+\n",
            "|    1|       1.0|   0|  6.67|\n",
            "|    1|       1.0|   0|716.96|\n",
            "|    1|       1.0|   0|320.05|\n",
            "|    1|       1.0|   0|  8.67|\n",
            "|    1|       0.0|   0|725.33|\n",
            "|    1|       1.0|   0|266.28|\n",
            "|    1|       1.0|   0| 15.41|\n",
            "|    1|       1.0|   0|  9.16|\n",
            "|    1|       1.0|   0|333.42|\n",
            "|    1|       1.0|   0|298.76|\n",
            "|    1|       1.0|   0|  10.0|\n",
            "|    1|       0.0|   0| 846.5|\n",
            "|    1|       1.0|   0|304.81|\n",
            "|    1|       1.0|   0|348.31|\n",
            "|    1|       1.0|   0|  9.02|\n",
            "|    1|       1.0|   0|282.58|\n",
            "|    1|       1.0|   0| 338.6|\n",
            "|    1|       1.0|   0| 315.1|\n",
            "|    1|       1.0|   0|297.87|\n",
            "|    1|       1.0|   0|829.36|\n",
            "+-----+----------+----+------+\n",
            "only showing top 20 rows\n",
            "\n",
            "6593.119999999999\n",
            "+-----+----------+----+------+\n",
            "|label|prediction|hour|   amt|\n",
            "+-----+----------+----+------+\n",
            "|    1|       0.0|  20|967.36|\n",
            "|    1|       1.0|  20|925.28|\n",
            "|    1|       1.0|  20|934.26|\n",
            "|    1|       0.0|  20|146.09|\n",
            "|    0|       0.0|  20| 93.65|\n",
            "|    0|       0.0|  20| 77.65|\n",
            "|    0|       0.0|  20| 28.01|\n",
            "|    0|       0.0|  20|  1.69|\n",
            "|    0|       0.0|  20| 31.76|\n",
            "|    0|       0.0|  20|260.83|\n",
            "|    0|       0.0|  20| 98.59|\n",
            "|    0|       0.0|  20| 26.35|\n",
            "|    0|       0.0|  20|  15.4|\n",
            "|    0|       0.0|  20|  1.18|\n",
            "|    0|       0.0|  20| 63.15|\n",
            "|    0|       0.0|  20| 18.55|\n",
            "|    0|       0.0|  20|  2.66|\n",
            "|    0|       0.0|  20| 30.71|\n",
            "|    0|       0.0|  20|  2.45|\n",
            "|    0|       0.0|  20|  5.73|\n",
            "+-----+----------+----+------+\n",
            "only showing top 20 rows\n",
            "\n",
            "1859.54\n",
            "+-----+----------+----+------+\n",
            "|label|prediction|hour|   amt|\n",
            "+-----+----------+----+------+\n",
            "|    1|       0.0|  15|985.83|\n",
            "|    1|       0.0|  15|878.46|\n",
            "|    0|       0.0|  15| 50.37|\n",
            "|    0|       0.0|  15| 75.28|\n",
            "|    0|       0.0|  15| 51.84|\n",
            "|    0|       0.0|  15|  6.48|\n",
            "|    0|       0.0|  15|  26.8|\n",
            "|    0|       0.0|  15| 32.29|\n",
            "|    0|       0.0|  15|  9.97|\n",
            "|    0|       0.0|  15| 58.51|\n",
            "|    0|       0.0|  15|126.43|\n",
            "|    0|       0.0|  15| 96.69|\n",
            "|    0|       0.0|  15| 85.97|\n",
            "|    0|       0.0|  15| 18.13|\n",
            "|    0|       0.0|  15|  4.03|\n",
            "|    0|       0.0|  15| 91.44|\n",
            "|    0|       0.0|  15|  4.04|\n",
            "|    0|       0.0|  15|   2.1|\n",
            "|    0|       0.0|  15|  4.95|\n",
            "|    0|       0.0|  15| 47.62|\n",
            "+-----+----------+----+------+\n",
            "only showing top 20 rows\n",
            "\n",
            "+-----+----------+----+------+\n",
            "|label|prediction|hour|   amt|\n",
            "+-----+----------+----+------+\n",
            "|    1|       1.0|   7|305.98|\n",
            "|    0|       0.0|   7| 92.87|\n",
            "|    0|       0.0|   7| 56.44|\n",
            "|    0|       0.0|   7|  3.33|\n",
            "|    0|       0.0|   7| 97.14|\n",
            "|    0|       0.0|   7| 99.53|\n",
            "|    0|       0.0|   7| 51.87|\n",
            "|    0|       0.0|   7| 78.78|\n",
            "|    0|       0.0|   7|   7.3|\n",
            "|    0|       0.0|   7|136.34|\n",
            "|    0|       0.0|   7|  2.44|\n",
            "|    0|       0.0|   7|  1.42|\n",
            "|    0|       0.0|   7|  5.01|\n",
            "|    0|       0.0|   7|  4.74|\n",
            "|    0|       0.0|   7| 23.01|\n",
            "|    0|       0.0|   7| 49.65|\n",
            "|    0|       0.0|   7| 29.76|\n",
            "|    0|       0.0|   7| 87.83|\n",
            "|    0|       0.0|   7| 72.37|\n",
            "|    0|       0.0|   7| 56.03|\n",
            "+-----+----------+----+------+\n",
            "only showing top 20 rows\n",
            "\n",
            "305.98\n",
            "+-----+----------+----+------+\n",
            "|label|prediction|hour|   amt|\n",
            "+-----+----------+----+------+\n",
            "|    1|       0.0|  17|  8.96|\n",
            "|    0|       0.0|  17| 65.67|\n",
            "|    0|       0.0|  17| 25.68|\n",
            "|    0|       0.0|  17| 18.12|\n",
            "|    0|       0.0|  17| 27.34|\n",
            "|    0|       0.0|  17| 62.75|\n",
            "|    0|       0.0|  17| 11.04|\n",
            "|    0|       0.0|  17|   7.1|\n",
            "|    0|       0.0|  17| 98.37|\n",
            "|    0|       0.0|  17|  4.99|\n",
            "|    0|       0.0|  17| 31.94|\n",
            "|    0|       0.0|  17| 12.39|\n",
            "|    0|       0.0|  17| 46.58|\n",
            "|    0|       0.0|  17|  7.77|\n",
            "|    0|       0.0|  17|  1.92|\n",
            "|    0|       0.0|  17|253.27|\n",
            "|    0|       0.0|  17|   7.9|\n",
            "|    0|       0.0|  17|  6.58|\n",
            "|    0|       0.0|  17|  7.35|\n",
            "|    0|       0.0|  17| 11.15|\n",
            "+-----+----------+----+------+\n",
            "only showing top 20 rows\n",
            "\n",
            "+-----+----------+----+-------+\n",
            "|label|prediction|hour|    amt|\n",
            "+-----+----------+----+-------+\n",
            "|    1|       1.0|  23| 854.04|\n",
            "|    1|       0.0|  23|  799.3|\n",
            "|    1|       1.0|  23| 905.63|\n",
            "|    1|       1.0|  23| 694.47|\n",
            "|    1|       1.0|  23| 925.31|\n",
            "|    1|       0.0|  23| 257.51|\n",
            "|    1|       0.0|  23| 288.17|\n",
            "|    1|       0.0|  23|  21.69|\n",
            "|    1|       0.0|  23| 419.52|\n",
            "|    1|       1.0|  23| 856.86|\n",
            "|    1|       1.0|  23| 844.77|\n",
            "|    1|       1.0|  23|1038.53|\n",
            "|    1|       1.0|  23| 806.56|\n",
            "|    1|       1.0|  23| 261.03|\n",
            "|    1|       0.0|  23|  17.35|\n",
            "|    1|       0.0|  23|  19.45|\n",
            "|    1|       0.0|  23| 133.43|\n",
            "|    1|       0.0|  23| 419.94|\n",
            "|    1|       0.0|  23| 261.22|\n",
            "|    1|       0.0|  23| 570.37|\n",
            "+-----+----------+----+-------+\n",
            "only showing top 20 rows\n",
            "\n",
            "31298.4\n",
            "+-----+----------+----+------+\n",
            "|label|prediction|hour|   amt|\n",
            "+-----+----------+----+------+\n",
            "|    1|       0.0|  19| 17.51|\n",
            "|    1|       0.0|  19|759.36|\n",
            "|    1|       0.0|  19| 21.71|\n",
            "|    0|       0.0|  19| 68.47|\n",
            "|    0|       0.0|  19| 88.58|\n",
            "|    0|       0.0|  19|  1.16|\n",
            "|    0|       0.0|  19| 78.34|\n",
            "|    0|       0.0|  19|  33.9|\n",
            "|    0|       0.0|  19| 65.06|\n",
            "|    0|       0.0|  19|  3.51|\n",
            "|    0|       0.0|  19| 20.21|\n",
            "|    0|       0.0|  19| 33.41|\n",
            "|    0|       0.0|  19| 29.54|\n",
            "|    0|       0.0|  19|  2.09|\n",
            "|    0|       0.0|  19|   7.0|\n",
            "|    0|       0.0|  19|  5.73|\n",
            "|    0|       0.0|  19|  1.32|\n",
            "|    0|       0.0|  19|  1.49|\n",
            "|    0|       0.0|  19|  27.0|\n",
            "|    0|       0.0|  19|  4.49|\n",
            "+-----+----------+----+------+\n",
            "only showing top 20 rows\n",
            "\n",
            "+-----+----------+----+-------+\n",
            "|label|prediction|hour|    amt|\n",
            "+-----+----------+----+-------+\n",
            "|    1|       0.0|  13|  17.45|\n",
            "|    1|       0.0|  13|1099.03|\n",
            "|    1|       0.0|  13|1032.04|\n",
            "|    1|       0.0|  13| 216.01|\n",
            "|    0|       0.0|  13|  72.55|\n",
            "|    0|       0.0|  13| 495.26|\n",
            "|    0|       0.0|  13| 185.41|\n",
            "|    0|       0.0|  13|   5.71|\n",
            "|    0|       0.0|  13|   2.85|\n",
            "|    0|       0.0|  13|  72.93|\n",
            "|    0|       0.0|  13|   9.77|\n",
            "|    0|       0.0|  13| 126.13|\n",
            "|    0|       0.0|  13| 190.98|\n",
            "|    0|       0.0|  13|   3.32|\n",
            "|    0|       0.0|  13|  21.46|\n",
            "|    0|       0.0|  13|   7.09|\n",
            "|    0|       0.0|  13|   3.86|\n",
            "|    0|       0.0|  13|  58.44|\n",
            "|    0|       0.0|  13|  23.63|\n",
            "|    0|       0.0|  13|   6.13|\n",
            "+-----+----------+----+-------+\n",
            "only showing top 20 rows\n",
            "\n",
            "+-----+----------+----+------+\n",
            "|label|prediction|hour|   amt|\n",
            "+-----+----------+----+------+\n",
            "|    1|       1.0|  16|328.18|\n",
            "|    0|       0.0|  16| 48.04|\n",
            "|    0|       0.0|  16|438.15|\n",
            "|    0|       0.0|  16| 80.45|\n",
            "|    0|       0.0|  16| 57.71|\n",
            "|    0|       0.0|  16|  5.83|\n",
            "|    0|       0.0|  16|  8.71|\n",
            "|    0|       0.0|  16| 42.62|\n",
            "|    0|       0.0|  16| 93.73|\n",
            "|    0|       0.0|  16| 84.73|\n",
            "|    0|       0.0|  16|  3.83|\n",
            "|    0|       0.0|  16| 20.07|\n",
            "|    0|       0.0|  16| 73.36|\n",
            "|    0|       0.0|  16| 86.13|\n",
            "|    0|       0.0|  16|129.02|\n",
            "|    0|       0.0|  16|  7.45|\n",
            "|    0|       0.0|  16|  7.39|\n",
            "|    0|       0.0|  16|144.18|\n",
            "|    0|       0.0|  16|207.39|\n",
            "|    0|       0.0|  16| 19.95|\n",
            "+-----+----------+----+------+\n",
            "only showing top 20 rows\n",
            "\n",
            "328.18\n",
            "+-----+----------+----+------+\n",
            "|label|prediction|hour|   amt|\n",
            "+-----+----------+----+------+\n",
            "|    1|       1.0|  14|997.77|\n",
            "|    1|       0.0|  14|236.42|\n",
            "|    0|       0.0|  14| 72.45|\n",
            "|    0|       0.0|  14| 51.49|\n",
            "|    0|       0.0|  14| 80.76|\n",
            "|    0|       0.0|  14|554.92|\n",
            "|    0|       0.0|  14| 38.69|\n",
            "|    0|       0.0|  14| 44.84|\n",
            "|    0|       0.0|  14|136.62|\n",
            "|    0|       0.0|  14| 75.57|\n",
            "|    0|       0.0|  14| 20.65|\n",
            "|    0|       0.0|  14| 23.97|\n",
            "|    0|       0.0|  14| 87.29|\n",
            "|    0|       0.0|  14|  9.26|\n",
            "|    0|       0.0|  14|   1.3|\n",
            "|    0|       0.0|  14| 40.15|\n",
            "|    0|       0.0|  14|  3.62|\n",
            "|    0|       0.0|  14|  5.63|\n",
            "|    0|       0.0|  14| 28.43|\n",
            "|    0|       0.0|  14|111.65|\n",
            "+-----+----------+----+------+\n",
            "only showing top 20 rows\n",
            "\n",
            "997.77\n",
            "+-----+----------+----+------+\n",
            "|label|prediction|hour|   amt|\n",
            "+-----+----------+----+------+\n",
            "|    1|       1.0|  11|267.86|\n",
            "|    0|       0.0|  11|108.68|\n",
            "|    0|       0.0|  11|112.94|\n",
            "|    0|       0.0|  11| 62.02|\n",
            "|    0|       0.0|  11|  7.23|\n",
            "|    0|       0.0|  11|  5.41|\n",
            "|    0|       0.0|  11|  2.46|\n",
            "|    0|       0.0|  11| 15.21|\n",
            "|    0|       0.0|  11|165.44|\n",
            "|    0|       0.0|  11|  8.09|\n",
            "|    0|       0.0|  11| 10.23|\n",
            "|    0|       0.0|  11| 35.38|\n",
            "|    0|       0.0|  11| 39.05|\n",
            "|    0|       0.0|  11|  2.79|\n",
            "|    0|       0.0|  11| 83.98|\n",
            "|    0|       0.0|  11|  6.89|\n",
            "|    0|       0.0|  11|  7.59|\n",
            "|    0|       0.0|  11| 73.62|\n",
            "|    0|       0.0|  11|  72.3|\n",
            "|    0|       0.0|  11| 36.43|\n",
            "+-----+----------+----+------+\n",
            "only showing top 20 rows\n",
            "\n",
            "267.86\n",
            "+-----+----------+----+------+\n",
            "|label|prediction|hour|   amt|\n",
            "+-----+----------+----+------+\n",
            "|    1|       1.0|   2|321.48|\n",
            "|    1|       1.0|   2| 10.97|\n",
            "|    1|       0.0|   2|343.37|\n",
            "|    1|       0.0|   2|101.04|\n",
            "|    1|       1.0|   2|  9.79|\n",
            "|    1|       1.0|   2|316.71|\n",
            "|    1|       1.0|   2| 291.1|\n",
            "|    1|       1.0|   2| 10.75|\n",
            "|    1|       1.0|   2|335.21|\n",
            "|    1|       1.0|   2| 19.74|\n",
            "|    1|       1.0|   2|326.75|\n",
            "|    1|       1.0|   2|349.96|\n",
            "|    1|       1.0|   2|358.24|\n",
            "|    1|       1.0|   2|859.12|\n",
            "|    1|       1.0|   2|  7.05|\n",
            "|    1|       1.0|   2|  7.76|\n",
            "|    1|       1.0|   2|344.81|\n",
            "|    1|       1.0|   2|720.83|\n",
            "|    1|       1.0|   2|832.81|\n",
            "|    0|       0.0|   2|137.06|\n",
            "+-----+----------+----+------+\n",
            "only showing top 20 rows\n",
            "\n",
            "5123.08\n",
            "+-----+----------+----+------+\n",
            "|label|prediction|hour|   amt|\n",
            "+-----+----------+----+------+\n",
            "|    1|       1.0|   6|274.68|\n",
            "|    1|       1.0|   6|302.44|\n",
            "|    0|       0.0|   6| 99.36|\n",
            "|    0|       0.0|   6| 92.83|\n",
            "|    0|       0.0|   6|  4.81|\n",
            "|    0|       0.0|   6|  1.45|\n",
            "|    0|       0.0|   6|  4.95|\n",
            "|    0|       0.0|   6| 60.31|\n",
            "|    0|       0.0|   6|  5.86|\n",
            "|    0|       0.0|   6| 95.47|\n",
            "|    0|       0.0|   6| 47.47|\n",
            "|    0|       0.0|   6| 18.76|\n",
            "|    0|       0.0|   6|  5.67|\n",
            "|    0|       0.0|   6| 82.49|\n",
            "|    0|       0.0|   6| 34.44|\n",
            "|    0|       0.0|   6|  81.3|\n",
            "|    0|       0.0|   6|  45.1|\n",
            "|    0|       0.0|   6|   8.9|\n",
            "|    0|       0.0|   6| 61.03|\n",
            "|    0|       0.0|   6| 55.43|\n",
            "+-----+----------+----+------+\n",
            "only showing top 20 rows\n",
            "\n",
            "577.12\n",
            "+-----+----------+----+-------+\n",
            "|label|prediction|hour|    amt|\n",
            "+-----+----------+----+-------+\n",
            "|    1|       1.0|   1|1107.65|\n",
            "|    1|       1.0|   1| 309.95|\n",
            "|    1|       0.0|   1| 890.64|\n",
            "|    1|       1.0|   1| 855.54|\n",
            "|    1|       1.0|   1|  20.22|\n",
            "|    1|       1.0|   1| 304.93|\n",
            "|    1|       1.0|   1| 319.22|\n",
            "|    1|       1.0|   1|  18.54|\n",
            "|    1|       1.0|   1|  273.2|\n",
            "|    1|       0.0|   1| 335.48|\n",
            "|    1|       0.0|   1| 913.04|\n",
            "|    1|       1.0|   1| 341.52|\n",
            "|    1|       1.0|   1| 320.83|\n",
            "|    1|       1.0|   1| 318.88|\n",
            "|    1|       1.0|   1| 287.65|\n",
            "|    1|       1.0|   1| 334.12|\n",
            "|    1|       1.0|   1| 956.58|\n",
            "|    0|       0.0|   1|  60.25|\n",
            "|    0|       0.0|   1|   9.97|\n",
            "|    0|       0.0|   1|   46.7|\n",
            "+-----+----------+----+-------+\n",
            "only showing top 20 rows\n",
            "\n",
            "6759.629999999999\n",
            "+-----+----------+----+-------+\n",
            "|label|prediction|hour|    amt|\n",
            "+-----+----------+----+-------+\n",
            "|    1|       1.0|   3| 354.08|\n",
            "|    1|       0.0|   3| 806.92|\n",
            "|    1|       0.0|   3|   8.76|\n",
            "|    1|       0.0|   3|   8.33|\n",
            "|    1|       1.0|   3| 770.65|\n",
            "|    1|       0.0|   3|  835.3|\n",
            "|    1|       1.0|   3|   18.9|\n",
            "|    1|       1.0|   3|   9.51|\n",
            "|    1|       1.0|   3| 273.42|\n",
            "|    1|       1.0|   3|   9.43|\n",
            "|    1|       1.0|   3|   9.65|\n",
            "|    1|       1.0|   3| 319.21|\n",
            "|    1|       1.0|   3|  11.79|\n",
            "|    1|       1.0|   3|    6.6|\n",
            "|    1|       0.0|   3| 656.56|\n",
            "|    1|       0.0|   3| 801.38|\n",
            "|    1|       1.0|   3|1155.37|\n",
            "|    1|       1.0|   3| 296.27|\n",
            "|    1|       1.0|   3| 324.22|\n",
            "|    1|       1.0|   3| 353.58|\n",
            "+-----+----------+----+-------+\n",
            "only showing top 20 rows\n",
            "\n",
            "8639.52\n",
            "+-----+----------+----+------+\n",
            "|label|prediction|hour|   amt|\n",
            "+-----+----------+----+------+\n",
            "|    1|       0.0|  18|837.53|\n",
            "|    0|       0.0|  18| 74.05|\n",
            "|    0|       0.0|  18| 62.77|\n",
            "|    0|       0.0|  18| 59.49|\n",
            "|    0|       0.0|  18| 10.86|\n",
            "|    0|       0.0|  18|  2.62|\n",
            "|    0|       0.0|  18| 62.27|\n",
            "|    0|       0.0|  18|  3.19|\n",
            "|    0|       0.0|  18| 18.05|\n",
            "|    0|       0.0|  18| 38.47|\n",
            "|    0|       0.0|  18| 95.34|\n",
            "|    0|       0.0|  18|194.42|\n",
            "|    0|       0.0|  18| 32.21|\n",
            "|    0|       0.0|  18|  7.98|\n",
            "|    0|       0.0|  18|  1.13|\n",
            "|    0|       0.0|  18|  5.99|\n",
            "|    0|       0.0|  18| 79.99|\n",
            "|    0|       0.0|  18|  5.55|\n",
            "|    0|       0.0|  18| 45.89|\n",
            "|    0|       0.0|  18|103.91|\n",
            "+-----+----------+----+------+\n",
            "only showing top 20 rows\n",
            "\n",
            "+-----+----------+----+------+\n",
            "|label|prediction|hour|   amt|\n",
            "+-----+----------+----+------+\n",
            "|    1|       1.0|   8| 299.2|\n",
            "|    1|       0.0|   8|866.79|\n",
            "|    0|       0.0|   8| 99.96|\n",
            "|    0|       0.0|   8| 48.82|\n",
            "|    0|       0.0|   8| 81.05|\n",
            "|    0|       0.0|   8| 70.25|\n",
            "|    0|       0.0|   8|  79.1|\n",
            "|    0|       0.0|   8|141.68|\n",
            "|    0|       0.0|   8|  8.27|\n",
            "|    0|       0.0|   8| 81.89|\n",
            "|    0|       0.0|   8| 21.15|\n",
            "|    0|       0.0|   8|225.64|\n",
            "|    0|       0.0|   8| 58.05|\n",
            "|    0|       0.0|   8|139.69|\n",
            "|    0|       0.0|   8|  4.27|\n",
            "|    0|       0.0|   8|546.79|\n",
            "|    0|       0.0|   8| 67.99|\n",
            "|    0|       0.0|   8| 65.24|\n",
            "|    0|       0.0|   8| 26.77|\n",
            "|    0|       0.0|   8| 76.32|\n",
            "+-----+----------+----+------+\n",
            "only showing top 20 rows\n",
            "\n",
            "299.2\n",
            "+-----+----------+----+------+\n",
            "|label|prediction|hour|   amt|\n",
            "+-----+----------+----+------+\n",
            "|    1|       1.0|   4| 13.69|\n",
            "|    1|       1.0|   4|308.23|\n",
            "|    1|       1.0|   4| 312.8|\n",
            "|    1|       1.0|   4|313.62|\n",
            "|    1|       1.0|   4|  8.47|\n",
            "|    0|       0.0|   4|124.04|\n",
            "|    0|       0.0|   4| 25.91|\n",
            "|    0|       0.0|   4| 25.91|\n",
            "|    0|       0.0|   4| 57.12|\n",
            "|    0|       0.0|   4|  1.33|\n",
            "|    0|       0.0|   4|104.17|\n",
            "|    0|       0.0|   4| 89.58|\n",
            "|    0|       0.0|   4|  76.9|\n",
            "|    0|       0.0|   4| 25.39|\n",
            "|    0|       0.0|   4| 72.01|\n",
            "|    0|       0.0|   4|  6.75|\n",
            "|    0|       0.0|   4|  4.49|\n",
            "|    0|       0.0|   4| 47.72|\n",
            "|    0|       0.0|   4|  6.85|\n",
            "|    0|       0.0|   4|  2.48|\n",
            "+-----+----------+----+------+\n",
            "only showing top 20 rows\n",
            "\n",
            "956.8100000000001\n",
            "+-----+----------+----+-------+\n",
            "|label|prediction|hour|    amt|\n",
            "+-----+----------+----+-------+\n",
            "|    1|       1.0|  21| 338.94|\n",
            "|    1|       0.0|  21|  18.72|\n",
            "|    1|       0.0|  21| 959.59|\n",
            "|    1|       0.0|  21|1065.89|\n",
            "|    1|       0.0|  21|1011.85|\n",
            "|    0|       0.0|  21|  72.61|\n",
            "|    0|       0.0|  21|  51.53|\n",
            "|    0|       0.0|  21| 142.52|\n",
            "|    0|       0.0|  21|    4.0|\n",
            "|    0|       0.0|  21|   8.86|\n",
            "|    0|       0.0|  21|   6.38|\n",
            "|    0|       0.0|  21| 113.15|\n",
            "|    0|       0.0|  21|  92.05|\n",
            "|    0|       0.0|  21|  154.1|\n",
            "|    0|       0.0|  21|  26.18|\n",
            "|    0|       0.0|  21|  47.75|\n",
            "|    0|       0.0|  21|  82.98|\n",
            "|    0|       0.0|  21|  77.66|\n",
            "|    0|       0.0|  21|  98.16|\n",
            "|    0|       0.0|  21|  19.27|\n",
            "+-----+----------+----+-------+\n",
            "only showing top 20 rows\n",
            "\n",
            "380.03999999999996\n",
            "101471.06\n"
          ]
        }
      ]
    },
    {
      "cell_type": "markdown",
      "source": [
        "# Evaluation of Test Data"
      ],
      "metadata": {
        "id": "_6kRxRPLr_7e"
      }
    },
    {
      "cell_type": "markdown",
      "source": [
        "f-score and accuracy for test data"
      ],
      "metadata": {
        "id": "x6Blv1_Nt631"
      }
    },
    {
      "cell_type": "code",
      "source": [
        "gbt_predict_test = gbt_model.transform(test_data)\n",
        "\n",
        "print(evaluator_f.evaluate(gbt_predict_test))\n",
        "print(evaluator_acc.evaluate(gbt_predict_test))"
      ],
      "metadata": {
        "colab": {
          "base_uri": "https://localhost:8080/"
        },
        "id": "pY2hWl1kr_no",
        "outputId": "e08071ce-161b-4c83-adaa-1d4609f42915"
      },
      "execution_count": null,
      "outputs": [
        {
          "output_type": "stream",
          "name": "stdout",
          "text": [
            "0.7356828193832599\n",
            "0.9991400192062377\n"
          ]
        }
      ]
    },
    {
      "cell_type": "markdown",
      "source": [
        "Recall value for test data"
      ],
      "metadata": {
        "id": "RgUVs0njt32-"
      }
    },
    {
      "cell_type": "code",
      "source": [
        "TP = gbt_predict_test.filter(\"label = 1 and prediction = 1\").count()\n",
        "\n",
        "FN = gbt_predict_test.filter(\"label = 1 and prediction = 0\").count()\n",
        "\n",
        "FP = gbt_predict_test.filter(\"label = 0 and prediction = 1\").count()\n",
        "\n",
        "TN = gbt_predict_test.filter(\"label = 0 and prediction = 0\").count()\n",
        "\n",
        "gbt_recall = TP / (TP + FN)\n",
        "\n",
        "print(TP)\n",
        "print(TP + FN)\n",
        "print(gbt_recall)"
      ],
      "metadata": {
        "id": "dA-YriKBtxox",
        "colab": {
          "base_uri": "https://localhost:8080/"
        },
        "outputId": "468cf2de-5086-4dc3-b706-de136e70a6d6"
      },
      "execution_count": null,
      "outputs": [
        {
          "output_type": "stream",
          "name": "stdout",
          "text": [
            "167\n",
            "258\n",
            "0.6472868217054264\n"
          ]
        }
      ]
    },
    {
      "cell_type": "markdown",
      "source": [
        "precision"
      ],
      "metadata": {
        "id": "OWYOVgdObetH"
      }
    },
    {
      "cell_type": "code",
      "source": [
        "TP/(TP + FP)"
      ],
      "metadata": {
        "colab": {
          "base_uri": "https://localhost:8080/"
        },
        "id": "mXH_vGbtbd4b",
        "outputId": "0882fdd5-5e94-483b-8fea-0621ac58aece"
      },
      "execution_count": null,
      "outputs": [
        {
          "output_type": "execute_result",
          "data": {
            "text/plain": [
              "0.8520408163265306"
            ]
          },
          "metadata": {},
          "execution_count": 51
        }
      ]
    },
    {
      "cell_type": "markdown",
      "source": [
        "Confusion matrix"
      ],
      "metadata": {
        "id": "AcHWjL6KuGnF"
      }
    },
    {
      "cell_type": "code",
      "source": [
        "print(TP)\n",
        "print(FP)\n",
        "print(FN)\n",
        "print(TN)"
      ],
      "metadata": {
        "id": "W5f0pOh8uBfy",
        "colab": {
          "base_uri": "https://localhost:8080/"
        },
        "outputId": "5067775c-dd1a-42a2-fb78-c4ad48d650a5"
      },
      "execution_count": null,
      "outputs": [
        {
          "output_type": "stream",
          "name": "stdout",
          "text": [
            "167\n",
            "29\n",
            "91\n",
            "139251\n"
          ]
        }
      ]
    },
    {
      "cell_type": "markdown",
      "source": [
        "f score for logistic regression model on test data"
      ],
      "metadata": {
        "id": "W4vpFwshbykT"
      }
    },
    {
      "cell_type": "code",
      "source": [
        "lr_predict_test = cvModel.transform(test_data)\n",
        "\n",
        "evaluator_f.evaluate(lr_predict_test)"
      ],
      "metadata": {
        "colab": {
          "base_uri": "https://localhost:8080/"
        },
        "id": "0DdOorkxbyPl",
        "outputId": "e5ddf67a-133e-49db-f344-79b74918a910"
      },
      "execution_count": null,
      "outputs": [
        {
          "output_type": "execute_result",
          "data": {
            "text/plain": [
              "0.21818181818181817"
            ]
          },
          "metadata": {},
          "execution_count": 52
        }
      ]
    },
    {
      "cell_type": "markdown",
      "source": [
        "recall for LR model on test data"
      ],
      "metadata": {
        "id": "ApOzzfDScS8t"
      }
    },
    {
      "cell_type": "code",
      "source": [
        "TP = lr_predict_test.filter(\"label = 1 and prediction = 1\").count()\n",
        "\n",
        "FN = lr_predict_test.filter(\"label = 1 and prediction = 0\").count()\n",
        "\n",
        "FP = lr_predict_test.filter(\"label = 0 and prediction = 1\").count()\n",
        "\n",
        "TN = lr_predict_test.filter(\"label = 0 and prediction = 0\").count()\n",
        "\n",
        "lr_recall = TP / (TP + FN)\n",
        "\n",
        "print(TP)\n",
        "print(TP + FN)\n",
        "print(lr_recall)"
      ],
      "metadata": {
        "colab": {
          "base_uri": "https://localhost:8080/"
        },
        "id": "zvK6Y7QHcKFP",
        "outputId": "bf439e8d-5d47-478f-9682-91802ca8602c"
      },
      "execution_count": null,
      "outputs": [
        {
          "output_type": "stream",
          "name": "stdout",
          "text": [
            "36\n",
            "258\n",
            "0.13953488372093023\n"
          ]
        }
      ]
    },
    {
      "cell_type": "markdown",
      "source": [
        "precision for LR on test data"
      ],
      "metadata": {
        "id": "YRWgHWrBcda8"
      }
    },
    {
      "cell_type": "code",
      "source": [
        "TP/(TP + FP)"
      ],
      "metadata": {
        "colab": {
          "base_uri": "https://localhost:8080/"
        },
        "id": "B9P7XCQqcasF",
        "outputId": "61b84d4a-7a1a-481d-9c00-7081a9001698"
      },
      "execution_count": null,
      "outputs": [
        {
          "output_type": "execute_result",
          "data": {
            "text/plain": [
              "0.5"
            ]
          },
          "metadata": {},
          "execution_count": 54
        }
      ]
    },
    {
      "cell_type": "markdown",
      "source": [
        "accuracy for LR on test data"
      ],
      "metadata": {
        "id": "GSNbwAtzcw65"
      }
    },
    {
      "cell_type": "code",
      "source": [
        "evaluator_acc.evaluate(lr_predict_test)"
      ],
      "metadata": {
        "colab": {
          "base_uri": "https://localhost:8080/"
        },
        "id": "JMSTHYIDct0v",
        "outputId": "d22b8f4e-95d0-4154-de74-0a4882d74d73"
      },
      "execution_count": null,
      "outputs": [
        {
          "output_type": "execute_result",
          "data": {
            "text/plain": [
              "0.9981510412934111"
            ]
          },
          "metadata": {},
          "execution_count": 55
        }
      ]
    },
    {
      "cell_type": "code",
      "source": [
        "print(TP)\n",
        "print(TN)\n",
        "print(FN)\n",
        "print(FP)"
      ],
      "metadata": {
        "colab": {
          "base_uri": "https://localhost:8080/"
        },
        "id": "T36WZVDtdfHZ",
        "outputId": "a7e31d71-53c1-4e95-fecb-b2e63244b634"
      },
      "execution_count": null,
      "outputs": [
        {
          "output_type": "stream",
          "name": "stdout",
          "text": [
            "36\n",
            "139244\n",
            "222\n",
            "36\n"
          ]
        }
      ]
    },
    {
      "cell_type": "markdown",
      "metadata": {
        "id": "TkFnpQ65uZPM"
      },
      "source": [
        "# References"
      ]
    },
    {
      "cell_type": "markdown",
      "metadata": {
        "id": "U_GP4oO1ua2L"
      },
      "source": [
        "https://spark.apache.org/docs/latest/structured-streaming-programming-guide.html#overview\n",
        "\n",
        "https://spark.apache.org/docs/latest/ml-features.html#vectorassembler\n",
        "\n",
        "https://spark.apache.org/docs/latest/ml-tuning.html#cross-validation\n",
        "\n",
        "https://www.kaggle.com/datasets/kelvinkelue/credit-card-fraud-prediction/data\n",
        "\n",
        "\n"
      ]
    }
  ],
  "metadata": {
    "colab": {
      "provenance": [],
      "toc_visible": true
    },
    "kernelspec": {
      "display_name": "Python 3",
      "name": "python3"
    },
    "language_info": {
      "name": "python"
    }
  },
  "nbformat": 4,
  "nbformat_minor": 0
}